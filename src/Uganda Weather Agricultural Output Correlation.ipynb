{
 "cells": [
  {
   "cell_type": "markdown",
   "metadata": {},
   "source": [
    "# Introduction\n",
    "\n",
    "## Background"
   ]
  },
  {
   "cell_type": "markdown",
   "metadata": {},
   "source": [
    "Alot has been made of climate change and it's potential effects on Uganda and in particular on agriculture, Uganda's largest GDP contributor. This study seeks to empirically quantify it's effects over the past decade or so, with use of data collected from several open source projects, as well as several government departments that keep track of climate and agricultural output figures."
   ]
  },
  {
   "cell_type": "markdown",
   "metadata": {},
   "source": [
    "## Aims of the research"
   ]
  },
  {
   "cell_type": "markdown",
   "metadata": {},
   "source": [
    "**The study will primarily seek to;**\n",
    "* Collect clean and properly label relevant climate change and agricultural output data\n",
    "* Perform statistical analysis on said data to determine possible correlations\n",
    "\n",
    "**Based on the results from the analysis above, the study will then seek to;**\n",
    " \n",
    "* Make future agricultural output projections based on possible correlation between the data\n",
    "* Make recommendations on how to meet possible agricultural output targets"
   ]
  },
  {
   "cell_type": "markdown",
   "metadata": {},
   "source": [
    "## Previous reseach on the topic"
   ]
  },
  {
   "cell_type": "markdown",
   "metadata": {},
   "source": [
    "Preliminary investigations revealed two previous related studies, the first carried out by so[<sup>1</sup>](#Ref1) and so [<sup>2</sup>](#Ref2). Both studies helped this project get a broader view of the topic at hand. They however contrasted with the project in pivotal ways. The former was not empirically quantitatively relevant as researchers mainly interviewed farmers to get their view of the effect of climate change on their output. While this is not an entirely inaccurate approach, it does leave a room for misinterpretation of results, and a larger problem of applying findings to broader studies.\n",
    "\n",
    "The second study was based in the northern part of Uganda, specificaly in the Karamoja area and tracked agricultural output vis-à-vis weather and climate changes. The study at hand looks at output figures from th entire country, which is a viable sample area, given a large part of Uganda is arable."
   ]
  },
  {
   "cell_type": "markdown",
   "metadata": {},
   "source": [
    "# Body"
   ]
  },
  {
   "cell_type": "markdown",
   "metadata": {},
   "source": [
    "## Data"
   ]
  },
  {
   "cell_type": "markdown",
   "metadata": {},
   "source": [
    "Arguably, the most challenging part of the project was the data collection and cleanup process. The study sought to make use of secondary data that has been collected over a long period of time.\n",
    "The durations used therefore largely depended on the availablity of the data. Climate and agricultural output, for instance had records dating back to 1991 which gave study much more data to work with, compared to the agricultural economic output whose records dated back only about a decade, for the data we managed to access.\n",
    "\n",
    "However, there is a limited amount of historical climate and agricultural data and reports to work with. The fact that the project focussed on Uganda did not make this task any easier. The open source approach for the project further made this task more difficult. We did however obtain the necessary data to meet the threshold required for effective empirical analysis. We also took several steps to ensure that the data was reliable- as indicated by the sources chosen and suitable- as the analysis will show. Data sources are mentioned in the [references](#References) section.\n",
    "\n",
    "The data was obtained via [APIs](https://en.wikipedia.org/wiki/Application_programming_interface), open data site web interfaces, and historical report file downloads. Care was taken to observe the respective licencies.\n",
    "\n",
    "We performed the necessary editing, to eliminated blank and null values, clearly inaccurate values and values whose scope was outside the chosen time gap. Coding and classification were then carried out according to the specific attributes and parameters under investigation."
   ]
  },
  {
   "cell_type": "markdown",
   "metadata": {},
   "source": [
    "## Statistical Methods"
   ]
  },
  {
   "cell_type": "markdown",
   "metadata": {},
   "source": [
    "We made use of casual analysis, ignoring other possible factors that might have caused the observed changes with the assumption that the average changes over the chosen time period would provide the necessary result to prove or disprove the hypothesis.\n",
    "\n",
    "We studied possible correlation using the following approaches;\n",
    "\n",
    "\n",
    "Charles Spearman’s coefficient of correlation[<sup>3</sup>](#Ref3);\n",
    "\n",
    "    A technique of determining the degree of correlation between two variables in case of ordinal data where ranks are given to the different values of the variables. The main objective of this coefficient is to determine the extent to which the two sets of ranking are similar or dissimilar.\n",
    "\n",
    "Karl Pearson’s coefficient of correlation[<sup>3</sup>](#Ref3);\n",
    "\n",
    "    This approach assumes that; there is linear relationship between the two variables, the two variables are casually related which means that one of the variables is independent and the other one is dependent and a large number of independent causes are operating in both variables so as to produce a normal distribution. It is also the most widely used method for calculating bivariate correlations.\n",
    "\n",
    "Kendall’s Tau coefficient[<sup>4</sup>](#Ref4);\n",
    "\n",
    "    This approach is based on the same underlying principle as Spearman's coefficient of correlation but does not assume normality of data and therefore does not assign ranks to the data. It is used here as more of a sanity check for out results."
   ]
  },
  {
   "cell_type": "markdown",
   "metadata": {},
   "source": [
    "## Inferential Analysis and Results"
   ]
  },
  {
   "cell_type": "markdown",
   "metadata": {},
   "source": [
    "### Initialising the helper libraries"
   ]
  },
  {
   "cell_type": "code",
   "execution_count": 81,
   "metadata": {
    "collapsed": true
   },
   "outputs": [],
   "source": [
    "import pandas\n",
    "import matplotlib.pyplot as plt\n",
    "\n",
    "TABLE_COLOR_MAP = 'Wistia'\n",
    "KENDALL = 'kendall'\n",
    "PEARSON = 'pearson'\n",
    "SPEARMAN = 'spearman'"
   ]
  },
  {
   "cell_type": "markdown",
   "metadata": {},
   "source": [
    "### Analysis of the correlation between agricultural product output and climate "
   ]
  },
  {
   "cell_type": "code",
   "execution_count": 82,
   "metadata": {
    "collapsed": true
   },
   "outputs": [],
   "source": [
    "CORE_DATA_PATH = \"file://localhost/home/karuhanga/Documents/MUK_Cmp_Sci/Yr.2/Sm.2/Research_Methodology/Project/Extra_Resources/Data/Output/Agricultural_Output/\"\n",
    "\n",
    "def read_data(data_path):\n",
    "    return pandas.read_csv(data_path, header = 0, sep = ',', names = ['Year', 'Value', 'Average Precipitation', 'Average Temperature'])\n",
    "\n",
    "def correlation_finder(method, data):\n",
    "    return data.drop(['Year'], axis = 1).corr(method = method).style.format(\"{:.2}\").background_gradient(cmap=plt.get_cmap(TABLE_COLOR_MAP))"
   ]
  },
  {
   "cell_type": "markdown",
   "metadata": {},
   "source": [
    "#### Bananas"
   ]
  },
  {
   "cell_type": "code",
   "execution_count": 83,
   "metadata": {
    "collapsed": true,
    "scrolled": true
   },
   "outputs": [],
   "source": [
    "# data path\n",
    "data_path = CORE_DATA_PATH + \"bananas_precip_temp(1991-2014).csv\"\n",
    "\n",
    "# read data\n",
    "data = read_data(data_path)"
   ]
  },
  {
   "cell_type": "code",
   "execution_count": 84,
   "metadata": {},
   "outputs": [
    {
     "data": {
      "text/html": [
       "<style  type=\"text/css\" >\n",
       "    #T_e0ea8d6e_46d0_11e8_ad8a_7429af7f125drow0_col0 {\n",
       "            background-color:  #fc7f00;\n",
       "        }    #T_e0ea8d6e_46d0_11e8_ad8a_7429af7f125drow0_col1 {\n",
       "            background-color:  #e4ff7a;\n",
       "        }    #T_e0ea8d6e_46d0_11e8_ad8a_7429af7f125drow0_col2 {\n",
       "            background-color:  #e4ff7a;\n",
       "        }    #T_e0ea8d6e_46d0_11e8_ad8a_7429af7f125drow1_col0 {\n",
       "            background-color:  #e4ff7a;\n",
       "        }    #T_e0ea8d6e_46d0_11e8_ad8a_7429af7f125drow1_col1 {\n",
       "            background-color:  #fc7f00;\n",
       "        }    #T_e0ea8d6e_46d0_11e8_ad8a_7429af7f125drow1_col2 {\n",
       "            background-color:  #fde920;\n",
       "        }    #T_e0ea8d6e_46d0_11e8_ad8a_7429af7f125drow2_col0 {\n",
       "            background-color:  #eff551;\n",
       "        }    #T_e0ea8d6e_46d0_11e8_ad8a_7429af7f125drow2_col1 {\n",
       "            background-color:  #ffdc13;\n",
       "        }    #T_e0ea8d6e_46d0_11e8_ad8a_7429af7f125drow2_col2 {\n",
       "            background-color:  #fc7f00;\n",
       "        }</style>  \n",
       "<table id=\"T_e0ea8d6e_46d0_11e8_ad8a_7429af7f125d\" > \n",
       "<thead>    <tr> \n",
       "        <th class=\"blank level0\" ></th> \n",
       "        <th class=\"col_heading level0 col0\" >Value</th> \n",
       "        <th class=\"col_heading level0 col1\" >Average Precipitation</th> \n",
       "        <th class=\"col_heading level0 col2\" >Average Temperature</th> \n",
       "    </tr></thead> \n",
       "<tbody>    <tr> \n",
       "        <th id=\"T_e0ea8d6e_46d0_11e8_ad8a_7429af7f125d\" class=\"row_heading level0 row0\" >Value</th> \n",
       "        <td id=\"T_e0ea8d6e_46d0_11e8_ad8a_7429af7f125drow0_col0\" class=\"data row0 col0\" >1e+00</td> \n",
       "        <td id=\"T_e0ea8d6e_46d0_11e8_ad8a_7429af7f125drow0_col1\" class=\"data row0 col1\" >-0.3</td> \n",
       "        <td id=\"T_e0ea8d6e_46d0_11e8_ad8a_7429af7f125drow0_col2\" class=\"data row0 col2\" >-0.1</td> \n",
       "    </tr>    <tr> \n",
       "        <th id=\"T_e0ea8d6e_46d0_11e8_ad8a_7429af7f125d\" class=\"row_heading level0 row1\" >Average Precipitation</th> \n",
       "        <td id=\"T_e0ea8d6e_46d0_11e8_ad8a_7429af7f125drow1_col0\" class=\"data row1 col0\" >-0.3</td> \n",
       "        <td id=\"T_e0ea8d6e_46d0_11e8_ad8a_7429af7f125drow1_col1\" class=\"data row1 col1\" >1e+00</td> \n",
       "        <td id=\"T_e0ea8d6e_46d0_11e8_ad8a_7429af7f125drow1_col2\" class=\"data row1 col2\" >0.1</td> \n",
       "    </tr>    <tr> \n",
       "        <th id=\"T_e0ea8d6e_46d0_11e8_ad8a_7429af7f125d\" class=\"row_heading level0 row2\" >Average Temperature</th> \n",
       "        <td id=\"T_e0ea8d6e_46d0_11e8_ad8a_7429af7f125drow2_col0\" class=\"data row2 col0\" >-0.1</td> \n",
       "        <td id=\"T_e0ea8d6e_46d0_11e8_ad8a_7429af7f125drow2_col1\" class=\"data row2 col1\" >0.1</td> \n",
       "        <td id=\"T_e0ea8d6e_46d0_11e8_ad8a_7429af7f125drow2_col2\" class=\"data row2 col2\" >1e+00</td> \n",
       "    </tr></tbody> \n",
       "</table> "
      ],
      "text/plain": [
       "<pandas.io.formats.style.Styler at 0x7f1625eaf710>"
      ]
     },
     "execution_count": 84,
     "metadata": {},
     "output_type": "execute_result"
    }
   ],
   "source": [
    "# Pearson\n",
    "correlation_finder(PEARSON, data)"
   ]
  },
  {
   "cell_type": "code",
   "execution_count": 5,
   "metadata": {},
   "outputs": [
    {
     "data": {
      "text/html": [
       "<style  type=\"text/css\" >\n",
       "    #T_f6de4a52_46c1_11e8_ad8a_7429af7f125drow0_col0 {\n",
       "            background-color:  #fc7f00;\n",
       "        }    #T_f6de4a52_46c1_11e8_ad8a_7429af7f125drow0_col1 {\n",
       "            background-color:  #e4ff7a;\n",
       "        }    #T_f6de4a52_46c1_11e8_ad8a_7429af7f125drow0_col2 {\n",
       "            background-color:  #eff653;\n",
       "        }    #T_f6de4a52_46c1_11e8_ad8a_7429af7f125drow1_col0 {\n",
       "            background-color:  #e4ff7a;\n",
       "        }    #T_f6de4a52_46c1_11e8_ad8a_7429af7f125drow1_col1 {\n",
       "            background-color:  #fc7f00;\n",
       "        }    #T_f6de4a52_46c1_11e8_ad8a_7429af7f125drow1_col2 {\n",
       "            background-color:  #e4ff7a;\n",
       "        }    #T_f6de4a52_46c1_11e8_ad8a_7429af7f125drow2_col0 {\n",
       "            background-color:  #ffe719;\n",
       "        }    #T_f6de4a52_46c1_11e8_ad8a_7429af7f125drow2_col1 {\n",
       "            background-color:  #f6ef39;\n",
       "        }    #T_f6de4a52_46c1_11e8_ad8a_7429af7f125drow2_col2 {\n",
       "            background-color:  #fc7f00;\n",
       "        }</style>  \n",
       "<table id=\"T_f6de4a52_46c1_11e8_ad8a_7429af7f125d\" > \n",
       "<thead>    <tr> \n",
       "        <th class=\"blank level0\" ></th> \n",
       "        <th class=\"col_heading level0 col0\" >Value</th> \n",
       "        <th class=\"col_heading level0 col1\" >Average Precipitation</th> \n",
       "        <th class=\"col_heading level0 col2\" >Average Temperature</th> \n",
       "    </tr></thead> \n",
       "<tbody>    <tr> \n",
       "        <th id=\"T_f6de4a52_46c1_11e8_ad8a_7429af7f125d\" class=\"row_heading level0 row0\" >Value</th> \n",
       "        <td id=\"T_f6de4a52_46c1_11e8_ad8a_7429af7f125drow0_col0\" class=\"data row0 col0\" >1.0</td> \n",
       "        <td id=\"T_f6de4a52_46c1_11e8_ad8a_7429af7f125drow0_col1\" class=\"data row0 col1\" >-0.11</td> \n",
       "        <td id=\"T_f6de4a52_46c1_11e8_ad8a_7429af7f125drow0_col2\" class=\"data row0 col2\" >0.17</td> \n",
       "    </tr>    <tr> \n",
       "        <th id=\"T_f6de4a52_46c1_11e8_ad8a_7429af7f125d\" class=\"row_heading level0 row1\" >Average Precipitation</th> \n",
       "        <td id=\"T_f6de4a52_46c1_11e8_ad8a_7429af7f125drow1_col0\" class=\"data row1 col0\" >-0.11</td> \n",
       "        <td id=\"T_f6de4a52_46c1_11e8_ad8a_7429af7f125drow1_col1\" class=\"data row1 col1\" >1.0</td> \n",
       "        <td id=\"T_f6de4a52_46c1_11e8_ad8a_7429af7f125drow1_col2\" class=\"data row1 col2\" >0.08</td> \n",
       "    </tr>    <tr> \n",
       "        <th id=\"T_f6de4a52_46c1_11e8_ad8a_7429af7f125d\" class=\"row_heading level0 row2\" >Average Temperature</th> \n",
       "        <td id=\"T_f6de4a52_46c1_11e8_ad8a_7429af7f125drow2_col0\" class=\"data row2 col0\" >0.17</td> \n",
       "        <td id=\"T_f6de4a52_46c1_11e8_ad8a_7429af7f125drow2_col1\" class=\"data row2 col1\" >0.08</td> \n",
       "        <td id=\"T_f6de4a52_46c1_11e8_ad8a_7429af7f125drow2_col2\" class=\"data row2 col2\" >1.0</td> \n",
       "    </tr></tbody> \n",
       "</table> "
      ],
      "text/plain": [
       "<pandas.io.formats.style.Styler at 0x7f162e1b2d30>"
      ]
     },
     "execution_count": 5,
     "metadata": {},
     "output_type": "execute_result"
    }
   ],
   "source": [
    "# Kendall\n",
    "correlation_finder(KENDALL, data)"
   ]
  },
  {
   "cell_type": "code",
   "execution_count": 6,
   "metadata": {},
   "outputs": [
    {
     "data": {
      "text/html": [
       "<style  type=\"text/css\" >\n",
       "    #T_f6de4a53_46c1_11e8_ad8a_7429af7f125drow0_col0 {\n",
       "            background-color:  #fc7f00;\n",
       "        }    #T_f6de4a53_46c1_11e8_ad8a_7429af7f125drow0_col1 {\n",
       "            background-color:  #e4ff7a;\n",
       "        }    #T_f6de4a53_46c1_11e8_ad8a_7429af7f125drow0_col2 {\n",
       "            background-color:  #edf75a;\n",
       "        }    #T_f6de4a53_46c1_11e8_ad8a_7429af7f125drow1_col0 {\n",
       "            background-color:  #e4ff7a;\n",
       "        }    #T_f6de4a53_46c1_11e8_ad8a_7429af7f125drow1_col1 {\n",
       "            background-color:  #fc7f00;\n",
       "        }    #T_f6de4a53_46c1_11e8_ad8a_7429af7f125drow1_col2 {\n",
       "            background-color:  #e4ff7a;\n",
       "        }    #T_f6de4a53_46c1_11e8_ad8a_7429af7f125drow2_col0 {\n",
       "            background-color:  #ffdd13;\n",
       "        }    #T_f6de4a53_46c1_11e8_ad8a_7429af7f125drow2_col1 {\n",
       "            background-color:  #ffe81a;\n",
       "        }    #T_f6de4a53_46c1_11e8_ad8a_7429af7f125drow2_col2 {\n",
       "            background-color:  #fc7f00;\n",
       "        }</style>  \n",
       "<table id=\"T_f6de4a53_46c1_11e8_ad8a_7429af7f125d\" > \n",
       "<thead>    <tr> \n",
       "        <th class=\"blank level0\" ></th> \n",
       "        <th class=\"col_heading level0 col0\" >Value</th> \n",
       "        <th class=\"col_heading level0 col1\" >Average Precipitation</th> \n",
       "        <th class=\"col_heading level0 col2\" >Average Temperature</th> \n",
       "    </tr></thead> \n",
       "<tbody>    <tr> \n",
       "        <th id=\"T_f6de4a53_46c1_11e8_ad8a_7429af7f125d\" class=\"row_heading level0 row0\" >Value</th> \n",
       "        <td id=\"T_f6de4a53_46c1_11e8_ad8a_7429af7f125drow0_col0\" class=\"data row0 col0\" >1.0</td> \n",
       "        <td id=\"T_f6de4a53_46c1_11e8_ad8a_7429af7f125drow0_col1\" class=\"data row0 col1\" >-0.17</td> \n",
       "        <td id=\"T_f6de4a53_46c1_11e8_ad8a_7429af7f125drow0_col2\" class=\"data row0 col2\" >0.2</td> \n",
       "    </tr>    <tr> \n",
       "        <th id=\"T_f6de4a53_46c1_11e8_ad8a_7429af7f125d\" class=\"row_heading level0 row1\" >Average Precipitation</th> \n",
       "        <td id=\"T_f6de4a53_46c1_11e8_ad8a_7429af7f125drow1_col0\" class=\"data row1 col0\" >-0.17</td> \n",
       "        <td id=\"T_f6de4a53_46c1_11e8_ad8a_7429af7f125drow1_col1\" class=\"data row1 col1\" >1.0</td> \n",
       "        <td id=\"T_f6de4a53_46c1_11e8_ad8a_7429af7f125drow1_col2\" class=\"data row1 col2\" >0.12</td> \n",
       "    </tr>    <tr> \n",
       "        <th id=\"T_f6de4a53_46c1_11e8_ad8a_7429af7f125d\" class=\"row_heading level0 row2\" >Average Temperature</th> \n",
       "        <td id=\"T_f6de4a53_46c1_11e8_ad8a_7429af7f125drow2_col0\" class=\"data row2 col0\" >0.2</td> \n",
       "        <td id=\"T_f6de4a53_46c1_11e8_ad8a_7429af7f125drow2_col1\" class=\"data row2 col1\" >0.12</td> \n",
       "        <td id=\"T_f6de4a53_46c1_11e8_ad8a_7429af7f125drow2_col2\" class=\"data row2 col2\" >1.0</td> \n",
       "    </tr></tbody> \n",
       "</table> "
      ],
      "text/plain": [
       "<pandas.io.formats.style.Styler at 0x7f1626287eb8>"
      ]
     },
     "execution_count": 6,
     "metadata": {},
     "output_type": "execute_result"
    }
   ],
   "source": [
    "# Spearman\n",
    "correlation_finder(SPEARMAN, data)"
   ]
  },
  {
   "cell_type": "markdown",
   "metadata": {},
   "source": [
    "#### Beans"
   ]
  },
  {
   "cell_type": "code",
   "execution_count": 7,
   "metadata": {
    "collapsed": true
   },
   "outputs": [],
   "source": [
    "# data path\n",
    "data_path = CORE_DATA_PATH + \"beans_precip_temp(1991-2014).csv\"\n",
    "\n",
    "# read data\n",
    "data = read_data(data_path)"
   ]
  },
  {
   "cell_type": "code",
   "execution_count": 8,
   "metadata": {},
   "outputs": [
    {
     "data": {
      "text/html": [
       "<style  type=\"text/css\" >\n",
       "    #T_f6de4a54_46c1_11e8_ad8a_7429af7f125drow0_col0 {\n",
       "            background-color:  #fc7f00;\n",
       "        }    #T_f6de4a54_46c1_11e8_ad8a_7429af7f125drow0_col1 {\n",
       "            background-color:  #f5f13e;\n",
       "        }    #T_f6de4a54_46c1_11e8_ad8a_7429af7f125drow0_col2 {\n",
       "            background-color:  #ffd20c;\n",
       "        }    #T_f6de4a54_46c1_11e8_ad8a_7429af7f125drow1_col0 {\n",
       "            background-color:  #e4ff7a;\n",
       "        }    #T_f6de4a54_46c1_11e8_ad8a_7429af7f125drow1_col1 {\n",
       "            background-color:  #fc7f00;\n",
       "        }    #T_f6de4a54_46c1_11e8_ad8a_7429af7f125drow1_col2 {\n",
       "            background-color:  #e4ff7a;\n",
       "        }    #T_f6de4a54_46c1_11e8_ad8a_7429af7f125drow2_col0 {\n",
       "            background-color:  #ffe619;\n",
       "        }    #T_f6de4a54_46c1_11e8_ad8a_7429af7f125drow2_col1 {\n",
       "            background-color:  #e4ff7a;\n",
       "        }    #T_f6de4a54_46c1_11e8_ad8a_7429af7f125drow2_col2 {\n",
       "            background-color:  #fc7f00;\n",
       "        }</style>  \n",
       "<table id=\"T_f6de4a54_46c1_11e8_ad8a_7429af7f125d\" > \n",
       "<thead>    <tr> \n",
       "        <th class=\"blank level0\" ></th> \n",
       "        <th class=\"col_heading level0 col0\" >Value</th> \n",
       "        <th class=\"col_heading level0 col1\" >Average Precipitation</th> \n",
       "        <th class=\"col_heading level0 col2\" >Average Temperature</th> \n",
       "    </tr></thead> \n",
       "<tbody>    <tr> \n",
       "        <th id=\"T_f6de4a54_46c1_11e8_ad8a_7429af7f125d\" class=\"row_heading level0 row0\" >Value</th> \n",
       "        <td id=\"T_f6de4a54_46c1_11e8_ad8a_7429af7f125drow0_col0\" class=\"data row0 col0\" >1.0</td> \n",
       "        <td id=\"T_f6de4a54_46c1_11e8_ad8a_7429af7f125drow0_col1\" class=\"data row0 col1\" >0.26</td> \n",
       "        <td id=\"T_f6de4a54_46c1_11e8_ad8a_7429af7f125drow0_col2\" class=\"data row0 col2\" >0.46</td> \n",
       "    </tr>    <tr> \n",
       "        <th id=\"T_f6de4a54_46c1_11e8_ad8a_7429af7f125d\" class=\"row_heading level0 row1\" >Average Precipitation</th> \n",
       "        <td id=\"T_f6de4a54_46c1_11e8_ad8a_7429af7f125drow1_col0\" class=\"data row1 col0\" >0.26</td> \n",
       "        <td id=\"T_f6de4a54_46c1_11e8_ad8a_7429af7f125drow1_col1\" class=\"data row1 col1\" >1.0</td> \n",
       "        <td id=\"T_f6de4a54_46c1_11e8_ad8a_7429af7f125drow1_col2\" class=\"data row1 col2\" >0.12</td> \n",
       "    </tr>    <tr> \n",
       "        <th id=\"T_f6de4a54_46c1_11e8_ad8a_7429af7f125d\" class=\"row_heading level0 row2\" >Average Temperature</th> \n",
       "        <td id=\"T_f6de4a54_46c1_11e8_ad8a_7429af7f125drow2_col0\" class=\"data row2 col0\" >0.46</td> \n",
       "        <td id=\"T_f6de4a54_46c1_11e8_ad8a_7429af7f125drow2_col1\" class=\"data row2 col1\" >0.12</td> \n",
       "        <td id=\"T_f6de4a54_46c1_11e8_ad8a_7429af7f125drow2_col2\" class=\"data row2 col2\" >1.0</td> \n",
       "    </tr></tbody> \n",
       "</table> "
      ],
      "text/plain": [
       "<pandas.io.formats.style.Styler at 0x7f162eba99e8>"
      ]
     },
     "execution_count": 8,
     "metadata": {},
     "output_type": "execute_result"
    }
   ],
   "source": [
    "# Pearson\n",
    "correlation_finder(PEARSON, data)"
   ]
  },
  {
   "cell_type": "code",
   "execution_count": 9,
   "metadata": {},
   "outputs": [
    {
     "data": {
      "text/html": [
       "<style  type=\"text/css\" >\n",
       "    #T_f6de4a55_46c1_11e8_ad8a_7429af7f125drow0_col0 {\n",
       "            background-color:  #fc7f00;\n",
       "        }    #T_f6de4a55_46c1_11e8_ad8a_7429af7f125drow0_col1 {\n",
       "            background-color:  #e4ff7a;\n",
       "        }    #T_f6de4a55_46c1_11e8_ad8a_7429af7f125drow0_col2 {\n",
       "            background-color:  #ffca08;\n",
       "        }    #T_f6de4a55_46c1_11e8_ad8a_7429af7f125drow1_col0 {\n",
       "            background-color:  #e4ff7a;\n",
       "        }    #T_f6de4a55_46c1_11e8_ad8a_7429af7f125drow1_col1 {\n",
       "            background-color:  #fc7f00;\n",
       "        }    #T_f6de4a55_46c1_11e8_ad8a_7429af7f125drow1_col2 {\n",
       "            background-color:  #e4ff7a;\n",
       "        }    #T_f6de4a55_46c1_11e8_ad8a_7429af7f125drow2_col0 {\n",
       "            background-color:  #ffc907;\n",
       "        }    #T_f6de4a55_46c1_11e8_ad8a_7429af7f125drow2_col1 {\n",
       "            background-color:  #e5fe77;\n",
       "        }    #T_f6de4a55_46c1_11e8_ad8a_7429af7f125drow2_col2 {\n",
       "            background-color:  #fc7f00;\n",
       "        }</style>  \n",
       "<table id=\"T_f6de4a55_46c1_11e8_ad8a_7429af7f125d\" > \n",
       "<thead>    <tr> \n",
       "        <th class=\"blank level0\" ></th> \n",
       "        <th class=\"col_heading level0 col0\" >Value</th> \n",
       "        <th class=\"col_heading level0 col1\" >Average Precipitation</th> \n",
       "        <th class=\"col_heading level0 col2\" >Average Temperature</th> \n",
       "    </tr></thead> \n",
       "<tbody>    <tr> \n",
       "        <th id=\"T_f6de4a55_46c1_11e8_ad8a_7429af7f125d\" class=\"row_heading level0 row0\" >Value</th> \n",
       "        <td id=\"T_f6de4a55_46c1_11e8_ad8a_7429af7f125drow0_col0\" class=\"data row0 col0\" >1.0</td> \n",
       "        <td id=\"T_f6de4a55_46c1_11e8_ad8a_7429af7f125drow0_col1\" class=\"data row0 col1\" >0.072</td> \n",
       "        <td id=\"T_f6de4a55_46c1_11e8_ad8a_7429af7f125drow0_col2\" class=\"data row0 col2\" >0.47</td> \n",
       "    </tr>    <tr> \n",
       "        <th id=\"T_f6de4a55_46c1_11e8_ad8a_7429af7f125d\" class=\"row_heading level0 row1\" >Average Precipitation</th> \n",
       "        <td id=\"T_f6de4a55_46c1_11e8_ad8a_7429af7f125drow1_col0\" class=\"data row1 col0\" >0.072</td> \n",
       "        <td id=\"T_f6de4a55_46c1_11e8_ad8a_7429af7f125drow1_col1\" class=\"data row1 col1\" >1.0</td> \n",
       "        <td id=\"T_f6de4a55_46c1_11e8_ad8a_7429af7f125drow1_col2\" class=\"data row1 col2\" >0.08</td> \n",
       "    </tr>    <tr> \n",
       "        <th id=\"T_f6de4a55_46c1_11e8_ad8a_7429af7f125d\" class=\"row_heading level0 row2\" >Average Temperature</th> \n",
       "        <td id=\"T_f6de4a55_46c1_11e8_ad8a_7429af7f125drow2_col0\" class=\"data row2 col0\" >0.47</td> \n",
       "        <td id=\"T_f6de4a55_46c1_11e8_ad8a_7429af7f125drow2_col1\" class=\"data row2 col1\" >0.08</td> \n",
       "        <td id=\"T_f6de4a55_46c1_11e8_ad8a_7429af7f125drow2_col2\" class=\"data row2 col2\" >1.0</td> \n",
       "    </tr></tbody> \n",
       "</table> "
      ],
      "text/plain": [
       "<pandas.io.formats.style.Styler at 0x7f162e1b2b70>"
      ]
     },
     "execution_count": 9,
     "metadata": {},
     "output_type": "execute_result"
    }
   ],
   "source": [
    "# Kendall\n",
    "correlation_finder(KENDALL, data)"
   ]
  },
  {
   "cell_type": "code",
   "execution_count": 10,
   "metadata": {},
   "outputs": [
    {
     "data": {
      "text/html": [
       "<style  type=\"text/css\" >\n",
       "    #T_f6de4a56_46c1_11e8_ad8a_7429af7f125drow0_col0 {\n",
       "            background-color:  #fc7f00;\n",
       "        }    #T_f6de4a56_46c1_11e8_ad8a_7429af7f125drow0_col1 {\n",
       "            background-color:  #e9fb69;\n",
       "        }    #T_f6de4a56_46c1_11e8_ad8a_7429af7f125drow0_col2 {\n",
       "            background-color:  #ffb000;\n",
       "        }    #T_f6de4a56_46c1_11e8_ad8a_7429af7f125drow1_col0 {\n",
       "            background-color:  #e4ff7a;\n",
       "        }    #T_f6de4a56_46c1_11e8_ad8a_7429af7f125drow1_col1 {\n",
       "            background-color:  #fc7f00;\n",
       "        }    #T_f6de4a56_46c1_11e8_ad8a_7429af7f125drow1_col2 {\n",
       "            background-color:  #e4ff7a;\n",
       "        }    #T_f6de4a56_46c1_11e8_ad8a_7429af7f125drow2_col0 {\n",
       "            background-color:  #ffb100;\n",
       "        }    #T_f6de4a56_46c1_11e8_ad8a_7429af7f125drow2_col1 {\n",
       "            background-color:  #e4ff7a;\n",
       "        }    #T_f6de4a56_46c1_11e8_ad8a_7429af7f125drow2_col2 {\n",
       "            background-color:  #fc7f00;\n",
       "        }</style>  \n",
       "<table id=\"T_f6de4a56_46c1_11e8_ad8a_7429af7f125d\" > \n",
       "<thead>    <tr> \n",
       "        <th class=\"blank level0\" ></th> \n",
       "        <th class=\"col_heading level0 col0\" >Value</th> \n",
       "        <th class=\"col_heading level0 col1\" >Average Precipitation</th> \n",
       "        <th class=\"col_heading level0 col2\" >Average Temperature</th> \n",
       "    </tr></thead> \n",
       "<tbody>    <tr> \n",
       "        <th id=\"T_f6de4a56_46c1_11e8_ad8a_7429af7f125d\" class=\"row_heading level0 row0\" >Value</th> \n",
       "        <td id=\"T_f6de4a56_46c1_11e8_ad8a_7429af7f125drow0_col0\" class=\"data row0 col0\" >1.0</td> \n",
       "        <td id=\"T_f6de4a56_46c1_11e8_ad8a_7429af7f125drow0_col1\" class=\"data row0 col1\" >0.16</td> \n",
       "        <td id=\"T_f6de4a56_46c1_11e8_ad8a_7429af7f125drow0_col2\" class=\"data row0 col2\" >0.66</td> \n",
       "    </tr>    <tr> \n",
       "        <th id=\"T_f6de4a56_46c1_11e8_ad8a_7429af7f125d\" class=\"row_heading level0 row1\" >Average Precipitation</th> \n",
       "        <td id=\"T_f6de4a56_46c1_11e8_ad8a_7429af7f125drow1_col0\" class=\"data row1 col0\" >0.16</td> \n",
       "        <td id=\"T_f6de4a56_46c1_11e8_ad8a_7429af7f125drow1_col1\" class=\"data row1 col1\" >1.0</td> \n",
       "        <td id=\"T_f6de4a56_46c1_11e8_ad8a_7429af7f125drow1_col2\" class=\"data row1 col2\" >0.12</td> \n",
       "    </tr>    <tr> \n",
       "        <th id=\"T_f6de4a56_46c1_11e8_ad8a_7429af7f125d\" class=\"row_heading level0 row2\" >Average Temperature</th> \n",
       "        <td id=\"T_f6de4a56_46c1_11e8_ad8a_7429af7f125drow2_col0\" class=\"data row2 col0\" >0.66</td> \n",
       "        <td id=\"T_f6de4a56_46c1_11e8_ad8a_7429af7f125drow2_col1\" class=\"data row2 col1\" >0.12</td> \n",
       "        <td id=\"T_f6de4a56_46c1_11e8_ad8a_7429af7f125drow2_col2\" class=\"data row2 col2\" >1.0</td> \n",
       "    </tr></tbody> \n",
       "</table> "
      ],
      "text/plain": [
       "<pandas.io.formats.style.Styler at 0x7f162629f5f8>"
      ]
     },
     "execution_count": 10,
     "metadata": {},
     "output_type": "execute_result"
    }
   ],
   "source": [
    "# Spearman\n",
    "correlation_finder(SPEARMAN, data)"
   ]
  },
  {
   "cell_type": "markdown",
   "metadata": {},
   "source": [
    "#### Cassava"
   ]
  },
  {
   "cell_type": "code",
   "execution_count": 11,
   "metadata": {
    "collapsed": true
   },
   "outputs": [],
   "source": [
    "# data path\n",
    "data_path = CORE_DATA_PATH + \"cassava_precip_temp(1991-2014).csv\"\n",
    "\n",
    "# read data\n",
    "data = read_data(data_path)"
   ]
  },
  {
   "cell_type": "code",
   "execution_count": 12,
   "metadata": {},
   "outputs": [
    {
     "data": {
      "text/html": [
       "<style  type=\"text/css\" >\n",
       "    #T_f7ba8ac6_46c1_11e8_ad8a_7429af7f125drow0_col0 {\n",
       "            background-color:  #fc7f00;\n",
       "        }    #T_f7ba8ac6_46c1_11e8_ad8a_7429af7f125drow0_col1 {\n",
       "            background-color:  #e4ff7a;\n",
       "        }    #T_f7ba8ac6_46c1_11e8_ad8a_7429af7f125drow0_col2 {\n",
       "            background-color:  #ffcc09;\n",
       "        }    #T_f7ba8ac6_46c1_11e8_ad8a_7429af7f125drow1_col0 {\n",
       "            background-color:  #e4ff7a;\n",
       "        }    #T_f7ba8ac6_46c1_11e8_ad8a_7429af7f125drow1_col1 {\n",
       "            background-color:  #fc7f00;\n",
       "        }    #T_f7ba8ac6_46c1_11e8_ad8a_7429af7f125drow1_col2 {\n",
       "            background-color:  #e4ff7a;\n",
       "        }    #T_f7ba8ac6_46c1_11e8_ad8a_7429af7f125drow2_col0 {\n",
       "            background-color:  #ffb500;\n",
       "        }    #T_f7ba8ac6_46c1_11e8_ad8a_7429af7f125drow2_col1 {\n",
       "            background-color:  #ffe719;\n",
       "        }    #T_f7ba8ac6_46c1_11e8_ad8a_7429af7f125drow2_col2 {\n",
       "            background-color:  #fc7f00;\n",
       "        }</style>  \n",
       "<table id=\"T_f7ba8ac6_46c1_11e8_ad8a_7429af7f125d\" > \n",
       "<thead>    <tr> \n",
       "        <th class=\"blank level0\" ></th> \n",
       "        <th class=\"col_heading level0 col0\" >Value</th> \n",
       "        <th class=\"col_heading level0 col1\" >Average Precipitation</th> \n",
       "        <th class=\"col_heading level0 col2\" >Average Temperature</th> \n",
       "    </tr></thead> \n",
       "<tbody>    <tr> \n",
       "        <th id=\"T_f7ba8ac6_46c1_11e8_ad8a_7429af7f125d\" class=\"row_heading level0 row0\" >Value</th> \n",
       "        <td id=\"T_f7ba8ac6_46c1_11e8_ad8a_7429af7f125drow0_col0\" class=\"data row0 col0\" >1.0</td> \n",
       "        <td id=\"T_f7ba8ac6_46c1_11e8_ad8a_7429af7f125drow0_col1\" class=\"data row0 col1\" >-0.18</td> \n",
       "        <td id=\"T_f7ba8ac6_46c1_11e8_ad8a_7429af7f125drow0_col2\" class=\"data row0 col2\" >0.49</td> \n",
       "    </tr>    <tr> \n",
       "        <th id=\"T_f7ba8ac6_46c1_11e8_ad8a_7429af7f125d\" class=\"row_heading level0 row1\" >Average Precipitation</th> \n",
       "        <td id=\"T_f7ba8ac6_46c1_11e8_ad8a_7429af7f125drow1_col0\" class=\"data row1 col0\" >-0.18</td> \n",
       "        <td id=\"T_f7ba8ac6_46c1_11e8_ad8a_7429af7f125drow1_col1\" class=\"data row1 col1\" >1.0</td> \n",
       "        <td id=\"T_f7ba8ac6_46c1_11e8_ad8a_7429af7f125drow1_col2\" class=\"data row1 col2\" >0.12</td> \n",
       "    </tr>    <tr> \n",
       "        <th id=\"T_f7ba8ac6_46c1_11e8_ad8a_7429af7f125d\" class=\"row_heading level0 row2\" >Average Temperature</th> \n",
       "        <td id=\"T_f7ba8ac6_46c1_11e8_ad8a_7429af7f125drow2_col0\" class=\"data row2 col0\" >0.49</td> \n",
       "        <td id=\"T_f7ba8ac6_46c1_11e8_ad8a_7429af7f125drow2_col1\" class=\"data row2 col1\" >0.12</td> \n",
       "        <td id=\"T_f7ba8ac6_46c1_11e8_ad8a_7429af7f125drow2_col2\" class=\"data row2 col2\" >1.0</td> \n",
       "    </tr></tbody> \n",
       "</table> "
      ],
      "text/plain": [
       "<pandas.io.formats.style.Styler at 0x7f162629fd68>"
      ]
     },
     "execution_count": 12,
     "metadata": {},
     "output_type": "execute_result"
    }
   ],
   "source": [
    "# Pearson\n",
    "correlation_finder(PEARSON, data)"
   ]
  },
  {
   "cell_type": "code",
   "execution_count": 13,
   "metadata": {},
   "outputs": [
    {
     "data": {
      "text/html": [
       "<style  type=\"text/css\" >\n",
       "    #T_f7ba8ac7_46c1_11e8_ad8a_7429af7f125drow0_col0 {\n",
       "            background-color:  #fc7f00;\n",
       "        }    #T_f7ba8ac7_46c1_11e8_ad8a_7429af7f125drow0_col1 {\n",
       "            background-color:  #e4ff7a;\n",
       "        }    #T_f7ba8ac7_46c1_11e8_ad8a_7429af7f125drow0_col2 {\n",
       "            background-color:  #ffe015;\n",
       "        }    #T_f7ba8ac7_46c1_11e8_ad8a_7429af7f125drow1_col0 {\n",
       "            background-color:  #e4ff7a;\n",
       "        }    #T_f7ba8ac7_46c1_11e8_ad8a_7429af7f125drow1_col1 {\n",
       "            background-color:  #fc7f00;\n",
       "        }    #T_f7ba8ac7_46c1_11e8_ad8a_7429af7f125drow1_col2 {\n",
       "            background-color:  #e4ff7a;\n",
       "        }    #T_f7ba8ac7_46c1_11e8_ad8a_7429af7f125drow2_col0 {\n",
       "            background-color:  #ffca08;\n",
       "        }    #T_f7ba8ac7_46c1_11e8_ad8a_7429af7f125drow2_col1 {\n",
       "            background-color:  #f7ef38;\n",
       "        }    #T_f7ba8ac7_46c1_11e8_ad8a_7429af7f125drow2_col2 {\n",
       "            background-color:  #fc7f00;\n",
       "        }</style>  \n",
       "<table id=\"T_f7ba8ac7_46c1_11e8_ad8a_7429af7f125d\" > \n",
       "<thead>    <tr> \n",
       "        <th class=\"blank level0\" ></th> \n",
       "        <th class=\"col_heading level0 col0\" >Value</th> \n",
       "        <th class=\"col_heading level0 col1\" >Average Precipitation</th> \n",
       "        <th class=\"col_heading level0 col2\" >Average Temperature</th> \n",
       "    </tr></thead> \n",
       "<tbody>    <tr> \n",
       "        <th id=\"T_f7ba8ac7_46c1_11e8_ad8a_7429af7f125d\" class=\"row_heading level0 row0\" >Value</th> \n",
       "        <td id=\"T_f7ba8ac7_46c1_11e8_ad8a_7429af7f125drow0_col0\" class=\"data row0 col0\" >1.0</td> \n",
       "        <td id=\"T_f7ba8ac7_46c1_11e8_ad8a_7429af7f125drow0_col1\" class=\"data row0 col1\" >-0.12</td> \n",
       "        <td id=\"T_f7ba8ac7_46c1_11e8_ad8a_7429af7f125drow0_col2\" class=\"data row0 col2\" >0.36</td> \n",
       "    </tr>    <tr> \n",
       "        <th id=\"T_f7ba8ac7_46c1_11e8_ad8a_7429af7f125d\" class=\"row_heading level0 row1\" >Average Precipitation</th> \n",
       "        <td id=\"T_f7ba8ac7_46c1_11e8_ad8a_7429af7f125drow1_col0\" class=\"data row1 col0\" >-0.12</td> \n",
       "        <td id=\"T_f7ba8ac7_46c1_11e8_ad8a_7429af7f125drow1_col1\" class=\"data row1 col1\" >1.0</td> \n",
       "        <td id=\"T_f7ba8ac7_46c1_11e8_ad8a_7429af7f125drow1_col2\" class=\"data row1 col2\" >0.08</td> \n",
       "    </tr>    <tr> \n",
       "        <th id=\"T_f7ba8ac7_46c1_11e8_ad8a_7429af7f125d\" class=\"row_heading level0 row2\" >Average Temperature</th> \n",
       "        <td id=\"T_f7ba8ac7_46c1_11e8_ad8a_7429af7f125drow2_col0\" class=\"data row2 col0\" >0.36</td> \n",
       "        <td id=\"T_f7ba8ac7_46c1_11e8_ad8a_7429af7f125drow2_col1\" class=\"data row2 col1\" >0.08</td> \n",
       "        <td id=\"T_f7ba8ac7_46c1_11e8_ad8a_7429af7f125drow2_col2\" class=\"data row2 col2\" >1.0</td> \n",
       "    </tr></tbody> \n",
       "</table> "
      ],
      "text/plain": [
       "<pandas.io.formats.style.Styler at 0x7f1625f24550>"
      ]
     },
     "execution_count": 13,
     "metadata": {},
     "output_type": "execute_result"
    }
   ],
   "source": [
    "# Kendall\n",
    "correlation_finder(KENDALL, data)"
   ]
  },
  {
   "cell_type": "code",
   "execution_count": 14,
   "metadata": {},
   "outputs": [
    {
     "data": {
      "text/html": [
       "<style  type=\"text/css\" >\n",
       "    #T_f7ba8ac8_46c1_11e8_ad8a_7429af7f125drow0_col0 {\n",
       "            background-color:  #fc7f00;\n",
       "        }    #T_f7ba8ac8_46c1_11e8_ad8a_7429af7f125drow0_col1 {\n",
       "            background-color:  #e4ff7a;\n",
       "        }    #T_f7ba8ac8_46c1_11e8_ad8a_7429af7f125drow0_col2 {\n",
       "            background-color:  #ffcc09;\n",
       "        }    #T_f7ba8ac8_46c1_11e8_ad8a_7429af7f125drow1_col0 {\n",
       "            background-color:  #e4ff7a;\n",
       "        }    #T_f7ba8ac8_46c1_11e8_ad8a_7429af7f125drow1_col1 {\n",
       "            background-color:  #fc7f00;\n",
       "        }    #T_f7ba8ac8_46c1_11e8_ad8a_7429af7f125drow1_col2 {\n",
       "            background-color:  #e4ff7a;\n",
       "        }    #T_f7ba8ac8_46c1_11e8_ad8a_7429af7f125drow2_col0 {\n",
       "            background-color:  #ffb500;\n",
       "        }    #T_f7ba8ac8_46c1_11e8_ad8a_7429af7f125drow2_col1 {\n",
       "            background-color:  #ffe619;\n",
       "        }    #T_f7ba8ac8_46c1_11e8_ad8a_7429af7f125drow2_col2 {\n",
       "            background-color:  #fc7f00;\n",
       "        }</style>  \n",
       "<table id=\"T_f7ba8ac8_46c1_11e8_ad8a_7429af7f125d\" > \n",
       "<thead>    <tr> \n",
       "        <th class=\"blank level0\" ></th> \n",
       "        <th class=\"col_heading level0 col0\" >Value</th> \n",
       "        <th class=\"col_heading level0 col1\" >Average Precipitation</th> \n",
       "        <th class=\"col_heading level0 col2\" >Average Temperature</th> \n",
       "    </tr></thead> \n",
       "<tbody>    <tr> \n",
       "        <th id=\"T_f7ba8ac8_46c1_11e8_ad8a_7429af7f125d\" class=\"row_heading level0 row0\" >Value</th> \n",
       "        <td id=\"T_f7ba8ac8_46c1_11e8_ad8a_7429af7f125drow0_col0\" class=\"data row0 col0\" >1.0</td> \n",
       "        <td id=\"T_f7ba8ac8_46c1_11e8_ad8a_7429af7f125drow0_col1\" class=\"data row0 col1\" >-0.18</td> \n",
       "        <td id=\"T_f7ba8ac8_46c1_11e8_ad8a_7429af7f125drow0_col2\" class=\"data row0 col2\" >0.49</td> \n",
       "    </tr>    <tr> \n",
       "        <th id=\"T_f7ba8ac8_46c1_11e8_ad8a_7429af7f125d\" class=\"row_heading level0 row1\" >Average Precipitation</th> \n",
       "        <td id=\"T_f7ba8ac8_46c1_11e8_ad8a_7429af7f125drow1_col0\" class=\"data row1 col0\" >-0.18</td> \n",
       "        <td id=\"T_f7ba8ac8_46c1_11e8_ad8a_7429af7f125drow1_col1\" class=\"data row1 col1\" >1.0</td> \n",
       "        <td id=\"T_f7ba8ac8_46c1_11e8_ad8a_7429af7f125drow1_col2\" class=\"data row1 col2\" >0.12</td> \n",
       "    </tr>    <tr> \n",
       "        <th id=\"T_f7ba8ac8_46c1_11e8_ad8a_7429af7f125d\" class=\"row_heading level0 row2\" >Average Temperature</th> \n",
       "        <td id=\"T_f7ba8ac8_46c1_11e8_ad8a_7429af7f125drow2_col0\" class=\"data row2 col0\" >0.49</td> \n",
       "        <td id=\"T_f7ba8ac8_46c1_11e8_ad8a_7429af7f125drow2_col1\" class=\"data row2 col1\" >0.12</td> \n",
       "        <td id=\"T_f7ba8ac8_46c1_11e8_ad8a_7429af7f125drow2_col2\" class=\"data row2 col2\" >1.0</td> \n",
       "    </tr></tbody> \n",
       "</table> "
      ],
      "text/plain": [
       "<pandas.io.formats.style.Styler at 0x7f162629fb00>"
      ]
     },
     "execution_count": 14,
     "metadata": {},
     "output_type": "execute_result"
    }
   ],
   "source": [
    "# Spearman\n",
    "correlation_finder(SPEARMAN, data)"
   ]
  },
  {
   "cell_type": "markdown",
   "metadata": {},
   "source": [
    "#### Cow Peas- Dry"
   ]
  },
  {
   "cell_type": "code",
   "execution_count": 15,
   "metadata": {
    "collapsed": true
   },
   "outputs": [],
   "source": [
    "# data path\n",
    "data_path = CORE_DATA_PATH + \"cow_peas_precip_temp(1991-2014).csv\"\n",
    "\n",
    "# read data\n",
    "data = read_data(data_path)"
   ]
  },
  {
   "cell_type": "code",
   "execution_count": 16,
   "metadata": {},
   "outputs": [
    {
     "data": {
      "text/html": [
       "<style  type=\"text/css\" >\n",
       "    #T_f7ba8ac9_46c1_11e8_ad8a_7429af7f125drow0_col0 {\n",
       "            background-color:  #fc7f00;\n",
       "        }    #T_f7ba8ac9_46c1_11e8_ad8a_7429af7f125drow0_col1 {\n",
       "            background-color:  #e4ff7a;\n",
       "        }    #T_f7ba8ac9_46c1_11e8_ad8a_7429af7f125drow0_col2 {\n",
       "            background-color:  #e4ff7a;\n",
       "        }    #T_f7ba8ac9_46c1_11e8_ad8a_7429af7f125drow1_col0 {\n",
       "            background-color:  #e4ff7a;\n",
       "        }    #T_f7ba8ac9_46c1_11e8_ad8a_7429af7f125drow1_col1 {\n",
       "            background-color:  #fc7f00;\n",
       "        }    #T_f7ba8ac9_46c1_11e8_ad8a_7429af7f125drow1_col2 {\n",
       "            background-color:  #f2f347;\n",
       "        }    #T_f7ba8ac9_46c1_11e8_ad8a_7429af7f125drow2_col0 {\n",
       "            background-color:  #f9ed30;\n",
       "        }    #T_f7ba8ac9_46c1_11e8_ad8a_7429af7f125drow2_col1 {\n",
       "            background-color:  #ffdf15;\n",
       "        }    #T_f7ba8ac9_46c1_11e8_ad8a_7429af7f125drow2_col2 {\n",
       "            background-color:  #fc7f00;\n",
       "        }</style>  \n",
       "<table id=\"T_f7ba8ac9_46c1_11e8_ad8a_7429af7f125d\" > \n",
       "<thead>    <tr> \n",
       "        <th class=\"blank level0\" ></th> \n",
       "        <th class=\"col_heading level0 col0\" >Value</th> \n",
       "        <th class=\"col_heading level0 col1\" >Average Precipitation</th> \n",
       "        <th class=\"col_heading level0 col2\" >Average Temperature</th> \n",
       "    </tr></thead> \n",
       "<tbody>    <tr> \n",
       "        <th id=\"T_f7ba8ac9_46c1_11e8_ad8a_7429af7f125d\" class=\"row_heading level0 row0\" >Value</th> \n",
       "        <td id=\"T_f7ba8ac9_46c1_11e8_ad8a_7429af7f125drow0_col0\" class=\"data row0 col0\" >1.0</td> \n",
       "        <td id=\"T_f7ba8ac9_46c1_11e8_ad8a_7429af7f125drow0_col1\" class=\"data row0 col1\" >-0.26</td> \n",
       "        <td id=\"T_f7ba8ac9_46c1_11e8_ad8a_7429af7f125drow0_col2\" class=\"data row0 col2\" >-0.012</td> \n",
       "    </tr>    <tr> \n",
       "        <th id=\"T_f7ba8ac9_46c1_11e8_ad8a_7429af7f125d\" class=\"row_heading level0 row1\" >Average Precipitation</th> \n",
       "        <td id=\"T_f7ba8ac9_46c1_11e8_ad8a_7429af7f125drow1_col0\" class=\"data row1 col0\" >-0.26</td> \n",
       "        <td id=\"T_f7ba8ac9_46c1_11e8_ad8a_7429af7f125drow1_col1\" class=\"data row1 col1\" >1.0</td> \n",
       "        <td id=\"T_f7ba8ac9_46c1_11e8_ad8a_7429af7f125drow1_col2\" class=\"data row1 col2\" >0.12</td> \n",
       "    </tr>    <tr> \n",
       "        <th id=\"T_f7ba8ac9_46c1_11e8_ad8a_7429af7f125d\" class=\"row_heading level0 row2\" >Average Temperature</th> \n",
       "        <td id=\"T_f7ba8ac9_46c1_11e8_ad8a_7429af7f125drow2_col0\" class=\"data row2 col0\" >-0.012</td> \n",
       "        <td id=\"T_f7ba8ac9_46c1_11e8_ad8a_7429af7f125drow2_col1\" class=\"data row2 col1\" >0.12</td> \n",
       "        <td id=\"T_f7ba8ac9_46c1_11e8_ad8a_7429af7f125drow2_col2\" class=\"data row2 col2\" >1.0</td> \n",
       "    </tr></tbody> \n",
       "</table> "
      ],
      "text/plain": [
       "<pandas.io.formats.style.Styler at 0x7f1625f24c88>"
      ]
     },
     "execution_count": 16,
     "metadata": {},
     "output_type": "execute_result"
    }
   ],
   "source": [
    "# Pearson\n",
    "correlation_finder(PEARSON, data)"
   ]
  },
  {
   "cell_type": "code",
   "execution_count": 17,
   "metadata": {},
   "outputs": [
    {
     "data": {
      "text/html": [
       "<style  type=\"text/css\" >\n",
       "    #T_f7ba8aca_46c1_11e8_ad8a_7429af7f125drow0_col0 {\n",
       "            background-color:  #fc7f00;\n",
       "        }    #T_f7ba8aca_46c1_11e8_ad8a_7429af7f125drow0_col1 {\n",
       "            background-color:  #e4ff7a;\n",
       "        }    #T_f7ba8aca_46c1_11e8_ad8a_7429af7f125drow0_col2 {\n",
       "            background-color:  #e4ff7a;\n",
       "        }    #T_f7ba8aca_46c1_11e8_ad8a_7429af7f125drow1_col0 {\n",
       "            background-color:  #e4ff7a;\n",
       "        }    #T_f7ba8aca_46c1_11e8_ad8a_7429af7f125drow1_col1 {\n",
       "            background-color:  #fc7f00;\n",
       "        }    #T_f7ba8aca_46c1_11e8_ad8a_7429af7f125drow1_col2 {\n",
       "            background-color:  #e7fd71;\n",
       "        }    #T_f7ba8aca_46c1_11e8_ad8a_7429af7f125drow2_col0 {\n",
       "            background-color:  #f0f550;\n",
       "        }    #T_f7ba8aca_46c1_11e8_ad8a_7429af7f125drow2_col1 {\n",
       "            background-color:  #f2f347;\n",
       "        }    #T_f7ba8aca_46c1_11e8_ad8a_7429af7f125drow2_col2 {\n",
       "            background-color:  #fc7f00;\n",
       "        }</style>  \n",
       "<table id=\"T_f7ba8aca_46c1_11e8_ad8a_7429af7f125d\" > \n",
       "<thead>    <tr> \n",
       "        <th class=\"blank level0\" ></th> \n",
       "        <th class=\"col_heading level0 col0\" >Value</th> \n",
       "        <th class=\"col_heading level0 col1\" >Average Precipitation</th> \n",
       "        <th class=\"col_heading level0 col2\" >Average Temperature</th> \n",
       "    </tr></thead> \n",
       "<tbody>    <tr> \n",
       "        <th id=\"T_f7ba8aca_46c1_11e8_ad8a_7429af7f125d\" class=\"row_heading level0 row0\" >Value</th> \n",
       "        <td id=\"T_f7ba8aca_46c1_11e8_ad8a_7429af7f125drow0_col0\" class=\"data row0 col0\" >1.0</td> \n",
       "        <td id=\"T_f7ba8aca_46c1_11e8_ad8a_7429af7f125drow0_col1\" class=\"data row0 col1\" >-0.062</td> \n",
       "        <td id=\"T_f7ba8aca_46c1_11e8_ad8a_7429af7f125drow0_col2\" class=\"data row0 col2\" >0.055</td> \n",
       "    </tr>    <tr> \n",
       "        <th id=\"T_f7ba8aca_46c1_11e8_ad8a_7429af7f125d\" class=\"row_heading level0 row1\" >Average Precipitation</th> \n",
       "        <td id=\"T_f7ba8aca_46c1_11e8_ad8a_7429af7f125drow1_col0\" class=\"data row1 col0\" >-0.062</td> \n",
       "        <td id=\"T_f7ba8aca_46c1_11e8_ad8a_7429af7f125drow1_col1\" class=\"data row1 col1\" >1.0</td> \n",
       "        <td id=\"T_f7ba8aca_46c1_11e8_ad8a_7429af7f125drow1_col2\" class=\"data row1 col2\" >0.08</td> \n",
       "    </tr>    <tr> \n",
       "        <th id=\"T_f7ba8aca_46c1_11e8_ad8a_7429af7f125d\" class=\"row_heading level0 row2\" >Average Temperature</th> \n",
       "        <td id=\"T_f7ba8aca_46c1_11e8_ad8a_7429af7f125drow2_col0\" class=\"data row2 col0\" >0.055</td> \n",
       "        <td id=\"T_f7ba8aca_46c1_11e8_ad8a_7429af7f125drow2_col1\" class=\"data row2 col1\" >0.08</td> \n",
       "        <td id=\"T_f7ba8aca_46c1_11e8_ad8a_7429af7f125drow2_col2\" class=\"data row2 col2\" >1.0</td> \n",
       "    </tr></tbody> \n",
       "</table> "
      ],
      "text/plain": [
       "<pandas.io.formats.style.Styler at 0x7f1625f24eb8>"
      ]
     },
     "execution_count": 17,
     "metadata": {},
     "output_type": "execute_result"
    }
   ],
   "source": [
    "# Kendall\n",
    "correlation_finder(KENDALL, data)"
   ]
  },
  {
   "cell_type": "code",
   "execution_count": 18,
   "metadata": {},
   "outputs": [
    {
     "data": {
      "text/html": [
       "<style  type=\"text/css\" >\n",
       "    #T_f7ba8acb_46c1_11e8_ad8a_7429af7f125drow0_col0 {\n",
       "            background-color:  #fc7f00;\n",
       "        }    #T_f7ba8acb_46c1_11e8_ad8a_7429af7f125drow0_col1 {\n",
       "            background-color:  #e4ff7a;\n",
       "        }    #T_f7ba8acb_46c1_11e8_ad8a_7429af7f125drow0_col2 {\n",
       "            background-color:  #e4ff7a;\n",
       "        }    #T_f7ba8acb_46c1_11e8_ad8a_7429af7f125drow1_col0 {\n",
       "            background-color:  #e4ff7a;\n",
       "        }    #T_f7ba8acb_46c1_11e8_ad8a_7429af7f125drow1_col1 {\n",
       "            background-color:  #fc7f00;\n",
       "        }    #T_f7ba8acb_46c1_11e8_ad8a_7429af7f125drow1_col2 {\n",
       "            background-color:  #e6fe74;\n",
       "        }    #T_f7ba8acb_46c1_11e8_ad8a_7429af7f125drow2_col0 {\n",
       "            background-color:  #f7ee35;\n",
       "        }    #T_f7ba8acb_46c1_11e8_ad8a_7429af7f125drow2_col1 {\n",
       "            background-color:  #f9ed2f;\n",
       "        }    #T_f7ba8acb_46c1_11e8_ad8a_7429af7f125drow2_col2 {\n",
       "            background-color:  #fc7f00;\n",
       "        }</style>  \n",
       "<table id=\"T_f7ba8acb_46c1_11e8_ad8a_7429af7f125d\" > \n",
       "<thead>    <tr> \n",
       "        <th class=\"blank level0\" ></th> \n",
       "        <th class=\"col_heading level0 col0\" >Value</th> \n",
       "        <th class=\"col_heading level0 col1\" >Average Precipitation</th> \n",
       "        <th class=\"col_heading level0 col2\" >Average Temperature</th> \n",
       "    </tr></thead> \n",
       "<tbody>    <tr> \n",
       "        <th id=\"T_f7ba8acb_46c1_11e8_ad8a_7429af7f125d\" class=\"row_heading level0 row0\" >Value</th> \n",
       "        <td id=\"T_f7ba8acb_46c1_11e8_ad8a_7429af7f125drow0_col0\" class=\"data row0 col0\" >1.0</td> \n",
       "        <td id=\"T_f7ba8acb_46c1_11e8_ad8a_7429af7f125drow0_col1\" class=\"data row0 col1\" >-0.092</td> \n",
       "        <td id=\"T_f7ba8acb_46c1_11e8_ad8a_7429af7f125drow0_col2\" class=\"data row0 col2\" >0.11</td> \n",
       "    </tr>    <tr> \n",
       "        <th id=\"T_f7ba8acb_46c1_11e8_ad8a_7429af7f125d\" class=\"row_heading level0 row1\" >Average Precipitation</th> \n",
       "        <td id=\"T_f7ba8acb_46c1_11e8_ad8a_7429af7f125drow1_col0\" class=\"data row1 col0\" >-0.092</td> \n",
       "        <td id=\"T_f7ba8acb_46c1_11e8_ad8a_7429af7f125drow1_col1\" class=\"data row1 col1\" >1.0</td> \n",
       "        <td id=\"T_f7ba8acb_46c1_11e8_ad8a_7429af7f125drow1_col2\" class=\"data row1 col2\" >0.12</td> \n",
       "    </tr>    <tr> \n",
       "        <th id=\"T_f7ba8acb_46c1_11e8_ad8a_7429af7f125d\" class=\"row_heading level0 row2\" >Average Temperature</th> \n",
       "        <td id=\"T_f7ba8acb_46c1_11e8_ad8a_7429af7f125drow2_col0\" class=\"data row2 col0\" >0.11</td> \n",
       "        <td id=\"T_f7ba8acb_46c1_11e8_ad8a_7429af7f125drow2_col1\" class=\"data row2 col1\" >0.12</td> \n",
       "        <td id=\"T_f7ba8acb_46c1_11e8_ad8a_7429af7f125drow2_col2\" class=\"data row2 col2\" >1.0</td> \n",
       "    </tr></tbody> \n",
       "</table> "
      ],
      "text/plain": [
       "<pandas.io.formats.style.Styler at 0x7f1625f326d8>"
      ]
     },
     "execution_count": 18,
     "metadata": {},
     "output_type": "execute_result"
    }
   ],
   "source": [
    "# Spearman\n",
    "correlation_finder(SPEARMAN, data)"
   ]
  },
  {
   "cell_type": "markdown",
   "metadata": {},
   "source": [
    "#### Peas- Dry"
   ]
  },
  {
   "cell_type": "code",
   "execution_count": 19,
   "metadata": {
    "collapsed": true
   },
   "outputs": [],
   "source": [
    "# data path\n",
    "data_path = CORE_DATA_PATH + \"dry_peas_precip_temp(1991-2014).csv\"\n",
    "\n",
    "# read data\n",
    "data = read_data(data_path)"
   ]
  },
  {
   "cell_type": "code",
   "execution_count": 20,
   "metadata": {},
   "outputs": [
    {
     "data": {
      "text/html": [
       "<style  type=\"text/css\" >\n",
       "    #T_f8bdd824_46c1_11e8_ad8a_7429af7f125drow0_col0 {\n",
       "            background-color:  #fc7f00;\n",
       "        }    #T_f8bdd824_46c1_11e8_ad8a_7429af7f125drow0_col1 {\n",
       "            background-color:  #e4ff7a;\n",
       "        }    #T_f8bdd824_46c1_11e8_ad8a_7429af7f125drow0_col2 {\n",
       "            background-color:  #e4ff7a;\n",
       "        }    #T_f8bdd824_46c1_11e8_ad8a_7429af7f125drow1_col0 {\n",
       "            background-color:  #ffe81a;\n",
       "        }    #T_f8bdd824_46c1_11e8_ad8a_7429af7f125drow1_col1 {\n",
       "            background-color:  #fc7f00;\n",
       "        }    #T_f8bdd824_46c1_11e8_ad8a_7429af7f125drow1_col2 {\n",
       "            background-color:  #ffe619;\n",
       "        }    #T_f8bdd824_46c1_11e8_ad8a_7429af7f125drow2_col0 {\n",
       "            background-color:  #e4ff7a;\n",
       "        }    #T_f8bdd824_46c1_11e8_ad8a_7429af7f125drow2_col1 {\n",
       "            background-color:  #e5fe75;\n",
       "        }    #T_f8bdd824_46c1_11e8_ad8a_7429af7f125drow2_col2 {\n",
       "            background-color:  #fc7f00;\n",
       "        }</style>  \n",
       "<table id=\"T_f8bdd824_46c1_11e8_ad8a_7429af7f125d\" > \n",
       "<thead>    <tr> \n",
       "        <th class=\"blank level0\" ></th> \n",
       "        <th class=\"col_heading level0 col0\" >Value</th> \n",
       "        <th class=\"col_heading level0 col1\" >Average Precipitation</th> \n",
       "        <th class=\"col_heading level0 col2\" >Average Temperature</th> \n",
       "    </tr></thead> \n",
       "<tbody>    <tr> \n",
       "        <th id=\"T_f8bdd824_46c1_11e8_ad8a_7429af7f125d\" class=\"row_heading level0 row0\" >Value</th> \n",
       "        <td id=\"T_f8bdd824_46c1_11e8_ad8a_7429af7f125drow0_col0\" class=\"data row0 col0\" >1.0</td> \n",
       "        <td id=\"T_f8bdd824_46c1_11e8_ad8a_7429af7f125drow0_col1\" class=\"data row0 col1\" >0.11</td> \n",
       "        <td id=\"T_f8bdd824_46c1_11e8_ad8a_7429af7f125drow0_col2\" class=\"data row0 col2\" >-0.19</td> \n",
       "    </tr>    <tr> \n",
       "        <th id=\"T_f8bdd824_46c1_11e8_ad8a_7429af7f125d\" class=\"row_heading level0 row1\" >Average Precipitation</th> \n",
       "        <td id=\"T_f8bdd824_46c1_11e8_ad8a_7429af7f125drow1_col0\" class=\"data row1 col0\" >0.11</td> \n",
       "        <td id=\"T_f8bdd824_46c1_11e8_ad8a_7429af7f125drow1_col1\" class=\"data row1 col1\" >1.0</td> \n",
       "        <td id=\"T_f8bdd824_46c1_11e8_ad8a_7429af7f125drow1_col2\" class=\"data row1 col2\" >0.12</td> \n",
       "    </tr>    <tr> \n",
       "        <th id=\"T_f8bdd824_46c1_11e8_ad8a_7429af7f125d\" class=\"row_heading level0 row2\" >Average Temperature</th> \n",
       "        <td id=\"T_f8bdd824_46c1_11e8_ad8a_7429af7f125drow2_col0\" class=\"data row2 col0\" >-0.19</td> \n",
       "        <td id=\"T_f8bdd824_46c1_11e8_ad8a_7429af7f125drow2_col1\" class=\"data row2 col1\" >0.12</td> \n",
       "        <td id=\"T_f8bdd824_46c1_11e8_ad8a_7429af7f125drow2_col2\" class=\"data row2 col2\" >1.0</td> \n",
       "    </tr></tbody> \n",
       "</table> "
      ],
      "text/plain": [
       "<pandas.io.formats.style.Styler at 0x7f1625f24b70>"
      ]
     },
     "execution_count": 20,
     "metadata": {},
     "output_type": "execute_result"
    }
   ],
   "source": [
    "# Pearson\n",
    "correlation_finder(PEARSON, data)"
   ]
  },
  {
   "cell_type": "code",
   "execution_count": 21,
   "metadata": {},
   "outputs": [
    {
     "data": {
      "text/html": [
       "<style  type=\"text/css\" >\n",
       "    #T_f8bdd825_46c1_11e8_ad8a_7429af7f125drow0_col0 {\n",
       "            background-color:  #fc7f00;\n",
       "        }    #T_f8bdd825_46c1_11e8_ad8a_7429af7f125drow0_col1 {\n",
       "            background-color:  #f3f244;\n",
       "        }    #T_f8bdd825_46c1_11e8_ad8a_7429af7f125drow0_col2 {\n",
       "            background-color:  #e4ff7a;\n",
       "        }    #T_f8bdd825_46c1_11e8_ad8a_7429af7f125drow1_col0 {\n",
       "            background-color:  #ffde14;\n",
       "        }    #T_f8bdd825_46c1_11e8_ad8a_7429af7f125drow1_col1 {\n",
       "            background-color:  #fc7f00;\n",
       "        }    #T_f8bdd825_46c1_11e8_ad8a_7429af7f125drow1_col2 {\n",
       "            background-color:  #f8ee32;\n",
       "        }    #T_f8bdd825_46c1_11e8_ad8a_7429af7f125drow2_col0 {\n",
       "            background-color:  #e4ff7a;\n",
       "        }    #T_f8bdd825_46c1_11e8_ad8a_7429af7f125drow2_col1 {\n",
       "            background-color:  #e4ff7a;\n",
       "        }    #T_f8bdd825_46c1_11e8_ad8a_7429af7f125drow2_col2 {\n",
       "            background-color:  #fc7f00;\n",
       "        }</style>  \n",
       "<table id=\"T_f8bdd825_46c1_11e8_ad8a_7429af7f125d\" > \n",
       "<thead>    <tr> \n",
       "        <th class=\"blank level0\" ></th> \n",
       "        <th class=\"col_heading level0 col0\" >Value</th> \n",
       "        <th class=\"col_heading level0 col1\" >Average Precipitation</th> \n",
       "        <th class=\"col_heading level0 col2\" >Average Temperature</th> \n",
       "    </tr></thead> \n",
       "<tbody>    <tr> \n",
       "        <th id=\"T_f8bdd825_46c1_11e8_ad8a_7429af7f125d\" class=\"row_heading level0 row0\" >Value</th> \n",
       "        <td id=\"T_f8bdd825_46c1_11e8_ad8a_7429af7f125drow0_col0\" class=\"data row0 col0\" >1.0</td> \n",
       "        <td id=\"T_f8bdd825_46c1_11e8_ad8a_7429af7f125drow0_col1\" class=\"data row0 col1\" >0.21</td> \n",
       "        <td id=\"T_f8bdd825_46c1_11e8_ad8a_7429af7f125drow0_col2\" class=\"data row0 col2\" >-0.14</td> \n",
       "    </tr>    <tr> \n",
       "        <th id=\"T_f8bdd825_46c1_11e8_ad8a_7429af7f125d\" class=\"row_heading level0 row1\" >Average Precipitation</th> \n",
       "        <td id=\"T_f8bdd825_46c1_11e8_ad8a_7429af7f125drow1_col0\" class=\"data row1 col0\" >0.21</td> \n",
       "        <td id=\"T_f8bdd825_46c1_11e8_ad8a_7429af7f125drow1_col1\" class=\"data row1 col1\" >1.0</td> \n",
       "        <td id=\"T_f8bdd825_46c1_11e8_ad8a_7429af7f125drow1_col2\" class=\"data row1 col2\" >0.08</td> \n",
       "    </tr>    <tr> \n",
       "        <th id=\"T_f8bdd825_46c1_11e8_ad8a_7429af7f125d\" class=\"row_heading level0 row2\" >Average Temperature</th> \n",
       "        <td id=\"T_f8bdd825_46c1_11e8_ad8a_7429af7f125drow2_col0\" class=\"data row2 col0\" >-0.14</td> \n",
       "        <td id=\"T_f8bdd825_46c1_11e8_ad8a_7429af7f125drow2_col1\" class=\"data row2 col1\" >0.08</td> \n",
       "        <td id=\"T_f8bdd825_46c1_11e8_ad8a_7429af7f125drow2_col2\" class=\"data row2 col2\" >1.0</td> \n",
       "    </tr></tbody> \n",
       "</table> "
      ],
      "text/plain": [
       "<pandas.io.formats.style.Styler at 0x7f1625f32e10>"
      ]
     },
     "execution_count": 21,
     "metadata": {},
     "output_type": "execute_result"
    }
   ],
   "source": [
    "# Kendall\n",
    "correlation_finder(KENDALL, data)"
   ]
  },
  {
   "cell_type": "code",
   "execution_count": 22,
   "metadata": {},
   "outputs": [
    {
     "data": {
      "text/html": [
       "<style  type=\"text/css\" >\n",
       "    #T_f8bdd826_46c1_11e8_ad8a_7429af7f125drow0_col0 {\n",
       "            background-color:  #fc7f00;\n",
       "        }    #T_f8bdd826_46c1_11e8_ad8a_7429af7f125drow0_col1 {\n",
       "            background-color:  #fdea21;\n",
       "        }    #T_f8bdd826_46c1_11e8_ad8a_7429af7f125drow0_col2 {\n",
       "            background-color:  #e4ff7a;\n",
       "        }    #T_f8bdd826_46c1_11e8_ad8a_7429af7f125drow1_col0 {\n",
       "            background-color:  #ffc807;\n",
       "        }    #T_f8bdd826_46c1_11e8_ad8a_7429af7f125drow1_col1 {\n",
       "            background-color:  #fc7f00;\n",
       "        }    #T_f8bdd826_46c1_11e8_ad8a_7429af7f125drow1_col2 {\n",
       "            background-color:  #ffe619;\n",
       "        }    #T_f8bdd826_46c1_11e8_ad8a_7429af7f125drow2_col0 {\n",
       "            background-color:  #e4ff7a;\n",
       "        }    #T_f8bdd826_46c1_11e8_ad8a_7429af7f125drow2_col1 {\n",
       "            background-color:  #e4ff7a;\n",
       "        }    #T_f8bdd826_46c1_11e8_ad8a_7429af7f125drow2_col2 {\n",
       "            background-color:  #fc7f00;\n",
       "        }</style>  \n",
       "<table id=\"T_f8bdd826_46c1_11e8_ad8a_7429af7f125d\" > \n",
       "<thead>    <tr> \n",
       "        <th class=\"blank level0\" ></th> \n",
       "        <th class=\"col_heading level0 col0\" >Value</th> \n",
       "        <th class=\"col_heading level0 col1\" >Average Precipitation</th> \n",
       "        <th class=\"col_heading level0 col2\" >Average Temperature</th> \n",
       "    </tr></thead> \n",
       "<tbody>    <tr> \n",
       "        <th id=\"T_f8bdd826_46c1_11e8_ad8a_7429af7f125d\" class=\"row_heading level0 row0\" >Value</th> \n",
       "        <td id=\"T_f8bdd826_46c1_11e8_ad8a_7429af7f125drow0_col0\" class=\"data row0 col0\" >1.0</td> \n",
       "        <td id=\"T_f8bdd826_46c1_11e8_ad8a_7429af7f125drow0_col1\" class=\"data row0 col1\" >0.33</td> \n",
       "        <td id=\"T_f8bdd826_46c1_11e8_ad8a_7429af7f125drow0_col2\" class=\"data row0 col2\" >-0.19</td> \n",
       "    </tr>    <tr> \n",
       "        <th id=\"T_f8bdd826_46c1_11e8_ad8a_7429af7f125d\" class=\"row_heading level0 row1\" >Average Precipitation</th> \n",
       "        <td id=\"T_f8bdd826_46c1_11e8_ad8a_7429af7f125drow1_col0\" class=\"data row1 col0\" >0.33</td> \n",
       "        <td id=\"T_f8bdd826_46c1_11e8_ad8a_7429af7f125drow1_col1\" class=\"data row1 col1\" >1.0</td> \n",
       "        <td id=\"T_f8bdd826_46c1_11e8_ad8a_7429af7f125drow1_col2\" class=\"data row1 col2\" >0.12</td> \n",
       "    </tr>    <tr> \n",
       "        <th id=\"T_f8bdd826_46c1_11e8_ad8a_7429af7f125d\" class=\"row_heading level0 row2\" >Average Temperature</th> \n",
       "        <td id=\"T_f8bdd826_46c1_11e8_ad8a_7429af7f125drow2_col0\" class=\"data row2 col0\" >-0.19</td> \n",
       "        <td id=\"T_f8bdd826_46c1_11e8_ad8a_7429af7f125drow2_col1\" class=\"data row2 col1\" >0.12</td> \n",
       "        <td id=\"T_f8bdd826_46c1_11e8_ad8a_7429af7f125drow2_col2\" class=\"data row2 col2\" >1.0</td> \n",
       "    </tr></tbody> \n",
       "</table> "
      ],
      "text/plain": [
       "<pandas.io.formats.style.Styler at 0x7f1625f401d0>"
      ]
     },
     "execution_count": 22,
     "metadata": {},
     "output_type": "execute_result"
    }
   ],
   "source": [
    "# Spearman\n",
    "correlation_finder(SPEARMAN, data)"
   ]
  },
  {
   "cell_type": "markdown",
   "metadata": {},
   "source": [
    "#### Groudnuts"
   ]
  },
  {
   "cell_type": "code",
   "execution_count": 23,
   "metadata": {
    "collapsed": true
   },
   "outputs": [],
   "source": [
    "# data path\n",
    "data_path = CORE_DATA_PATH + \"groundnuts_precip_temp(1991-2014).csv\"\n",
    "\n",
    "# read data\n",
    "data = read_data(data_path)"
   ]
  },
  {
   "cell_type": "code",
   "execution_count": 24,
   "metadata": {},
   "outputs": [
    {
     "data": {
      "text/html": [
       "<style  type=\"text/css\" >\n",
       "    #T_f8bdd827_46c1_11e8_ad8a_7429af7f125drow0_col0 {\n",
       "            background-color:  #fc7f00;\n",
       "        }    #T_f8bdd827_46c1_11e8_ad8a_7429af7f125drow0_col1 {\n",
       "            background-color:  #fcea24;\n",
       "        }    #T_f8bdd827_46c1_11e8_ad8a_7429af7f125drow0_col2 {\n",
       "            background-color:  #ffd20d;\n",
       "        }    #T_f8bdd827_46c1_11e8_ad8a_7429af7f125drow1_col0 {\n",
       "            background-color:  #e4ff7a;\n",
       "        }    #T_f8bdd827_46c1_11e8_ad8a_7429af7f125drow1_col1 {\n",
       "            background-color:  #fc7f00;\n",
       "        }    #T_f8bdd827_46c1_11e8_ad8a_7429af7f125drow1_col2 {\n",
       "            background-color:  #e4ff7a;\n",
       "        }    #T_f8bdd827_46c1_11e8_ad8a_7429af7f125drow2_col0 {\n",
       "            background-color:  #f9ed2f;\n",
       "        }    #T_f8bdd827_46c1_11e8_ad8a_7429af7f125drow2_col1 {\n",
       "            background-color:  #e4ff7a;\n",
       "        }    #T_f8bdd827_46c1_11e8_ad8a_7429af7f125drow2_col2 {\n",
       "            background-color:  #fc7f00;\n",
       "        }</style>  \n",
       "<table id=\"T_f8bdd827_46c1_11e8_ad8a_7429af7f125d\" > \n",
       "<thead>    <tr> \n",
       "        <th class=\"blank level0\" ></th> \n",
       "        <th class=\"col_heading level0 col0\" >Value</th> \n",
       "        <th class=\"col_heading level0 col1\" >Average Precipitation</th> \n",
       "        <th class=\"col_heading level0 col2\" >Average Temperature</th> \n",
       "    </tr></thead> \n",
       "<tbody>    <tr> \n",
       "        <th id=\"T_f8bdd827_46c1_11e8_ad8a_7429af7f125d\" class=\"row_heading level0 row0\" >Value</th> \n",
       "        <td id=\"T_f8bdd827_46c1_11e8_ad8a_7429af7f125drow0_col0\" class=\"data row0 col0\" >1.0</td> \n",
       "        <td id=\"T_f8bdd827_46c1_11e8_ad8a_7429af7f125drow0_col1\" class=\"data row0 col1\" >0.32</td> \n",
       "        <td id=\"T_f8bdd827_46c1_11e8_ad8a_7429af7f125drow0_col2\" class=\"data row0 col2\" >0.45</td> \n",
       "    </tr>    <tr> \n",
       "        <th id=\"T_f8bdd827_46c1_11e8_ad8a_7429af7f125d\" class=\"row_heading level0 row1\" >Average Precipitation</th> \n",
       "        <td id=\"T_f8bdd827_46c1_11e8_ad8a_7429af7f125drow1_col0\" class=\"data row1 col0\" >0.32</td> \n",
       "        <td id=\"T_f8bdd827_46c1_11e8_ad8a_7429af7f125drow1_col1\" class=\"data row1 col1\" >1.0</td> \n",
       "        <td id=\"T_f8bdd827_46c1_11e8_ad8a_7429af7f125drow1_col2\" class=\"data row1 col2\" >0.12</td> \n",
       "    </tr>    <tr> \n",
       "        <th id=\"T_f8bdd827_46c1_11e8_ad8a_7429af7f125d\" class=\"row_heading level0 row2\" >Average Temperature</th> \n",
       "        <td id=\"T_f8bdd827_46c1_11e8_ad8a_7429af7f125drow2_col0\" class=\"data row2 col0\" >0.45</td> \n",
       "        <td id=\"T_f8bdd827_46c1_11e8_ad8a_7429af7f125drow2_col1\" class=\"data row2 col1\" >0.12</td> \n",
       "        <td id=\"T_f8bdd827_46c1_11e8_ad8a_7429af7f125drow2_col2\" class=\"data row2 col2\" >1.0</td> \n",
       "    </tr></tbody> \n",
       "</table> "
      ],
      "text/plain": [
       "<pandas.io.formats.style.Styler at 0x7f1625f40588>"
      ]
     },
     "execution_count": 24,
     "metadata": {},
     "output_type": "execute_result"
    }
   ],
   "source": [
    "# Pearson\n",
    "correlation_finder(PEARSON, data)"
   ]
  },
  {
   "cell_type": "code",
   "execution_count": 25,
   "metadata": {},
   "outputs": [
    {
     "data": {
      "text/html": [
       "<style  type=\"text/css\" >\n",
       "    #T_f8bdd828_46c1_11e8_ad8a_7429af7f125drow0_col0 {\n",
       "            background-color:  #fc7f00;\n",
       "        }    #T_f8bdd828_46c1_11e8_ad8a_7429af7f125drow0_col1 {\n",
       "            background-color:  #edf759;\n",
       "        }    #T_f8bdd828_46c1_11e8_ad8a_7429af7f125drow0_col2 {\n",
       "            background-color:  #f9ed2f;\n",
       "        }    #T_f8bdd828_46c1_11e8_ad8a_7429af7f125drow1_col0 {\n",
       "            background-color:  #e4ff7a;\n",
       "        }    #T_f8bdd828_46c1_11e8_ad8a_7429af7f125drow1_col1 {\n",
       "            background-color:  #fc7f00;\n",
       "        }    #T_f8bdd828_46c1_11e8_ad8a_7429af7f125drow1_col2 {\n",
       "            background-color:  #e4ff7a;\n",
       "        }    #T_f8bdd828_46c1_11e8_ad8a_7429af7f125drow2_col0 {\n",
       "            background-color:  #f1f44b;\n",
       "        }    #T_f8bdd828_46c1_11e8_ad8a_7429af7f125drow2_col1 {\n",
       "            background-color:  #e4ff7a;\n",
       "        }    #T_f8bdd828_46c1_11e8_ad8a_7429af7f125drow2_col2 {\n",
       "            background-color:  #fc7f00;\n",
       "        }</style>  \n",
       "<table id=\"T_f8bdd828_46c1_11e8_ad8a_7429af7f125d\" > \n",
       "<thead>    <tr> \n",
       "        <th class=\"blank level0\" ></th> \n",
       "        <th class=\"col_heading level0 col0\" >Value</th> \n",
       "        <th class=\"col_heading level0 col1\" >Average Precipitation</th> \n",
       "        <th class=\"col_heading level0 col2\" >Average Temperature</th> \n",
       "    </tr></thead> \n",
       "<tbody>    <tr> \n",
       "        <th id=\"T_f8bdd828_46c1_11e8_ad8a_7429af7f125d\" class=\"row_heading level0 row0\" >Value</th> \n",
       "        <td id=\"T_f8bdd828_46c1_11e8_ad8a_7429af7f125drow0_col0\" class=\"data row0 col0\" >1.0</td> \n",
       "        <td id=\"T_f8bdd828_46c1_11e8_ad8a_7429af7f125drow0_col1\" class=\"data row0 col1\" >0.16</td> \n",
       "        <td id=\"T_f8bdd828_46c1_11e8_ad8a_7429af7f125drow0_col2\" class=\"data row0 col2\" >0.26</td> \n",
       "    </tr>    <tr> \n",
       "        <th id=\"T_f8bdd828_46c1_11e8_ad8a_7429af7f125d\" class=\"row_heading level0 row1\" >Average Precipitation</th> \n",
       "        <td id=\"T_f8bdd828_46c1_11e8_ad8a_7429af7f125drow1_col0\" class=\"data row1 col0\" >0.16</td> \n",
       "        <td id=\"T_f8bdd828_46c1_11e8_ad8a_7429af7f125drow1_col1\" class=\"data row1 col1\" >1.0</td> \n",
       "        <td id=\"T_f8bdd828_46c1_11e8_ad8a_7429af7f125drow1_col2\" class=\"data row1 col2\" >0.08</td> \n",
       "    </tr>    <tr> \n",
       "        <th id=\"T_f8bdd828_46c1_11e8_ad8a_7429af7f125d\" class=\"row_heading level0 row2\" >Average Temperature</th> \n",
       "        <td id=\"T_f8bdd828_46c1_11e8_ad8a_7429af7f125drow2_col0\" class=\"data row2 col0\" >0.26</td> \n",
       "        <td id=\"T_f8bdd828_46c1_11e8_ad8a_7429af7f125drow2_col1\" class=\"data row2 col1\" >0.08</td> \n",
       "        <td id=\"T_f8bdd828_46c1_11e8_ad8a_7429af7f125drow2_col2\" class=\"data row2 col2\" >1.0</td> \n",
       "    </tr></tbody> \n",
       "</table> "
      ],
      "text/plain": [
       "<pandas.io.formats.style.Styler at 0x7f1625f40dd8>"
      ]
     },
     "execution_count": 25,
     "metadata": {},
     "output_type": "execute_result"
    }
   ],
   "source": [
    "# Kendall\n",
    "correlation_finder(KENDALL, data)"
   ]
  },
  {
   "cell_type": "code",
   "execution_count": 26,
   "metadata": {},
   "outputs": [
    {
     "data": {
      "text/html": [
       "<style  type=\"text/css\" >\n",
       "    #T_f8bdd829_46c1_11e8_ad8a_7429af7f125drow0_col0 {\n",
       "            background-color:  #fc7f00;\n",
       "        }    #T_f8bdd829_46c1_11e8_ad8a_7429af7f125drow0_col1 {\n",
       "            background-color:  #f7ef36;\n",
       "        }    #T_f8bdd829_46c1_11e8_ad8a_7429af7f125drow0_col2 {\n",
       "            background-color:  #ffcf0b;\n",
       "        }    #T_f8bdd829_46c1_11e8_ad8a_7429af7f125drow1_col0 {\n",
       "            background-color:  #e4ff7a;\n",
       "        }    #T_f8bdd829_46c1_11e8_ad8a_7429af7f125drow1_col1 {\n",
       "            background-color:  #fc7f00;\n",
       "        }    #T_f8bdd829_46c1_11e8_ad8a_7429af7f125drow1_col2 {\n",
       "            background-color:  #e4ff7a;\n",
       "        }    #T_f8bdd829_46c1_11e8_ad8a_7429af7f125drow2_col0 {\n",
       "            background-color:  #ffe518;\n",
       "        }    #T_f8bdd829_46c1_11e8_ad8a_7429af7f125drow2_col1 {\n",
       "            background-color:  #e4ff7a;\n",
       "        }    #T_f8bdd829_46c1_11e8_ad8a_7429af7f125drow2_col2 {\n",
       "            background-color:  #fc7f00;\n",
       "        }</style>  \n",
       "<table id=\"T_f8bdd829_46c1_11e8_ad8a_7429af7f125d\" > \n",
       "<thead>    <tr> \n",
       "        <th class=\"blank level0\" ></th> \n",
       "        <th class=\"col_heading level0 col0\" >Value</th> \n",
       "        <th class=\"col_heading level0 col1\" >Average Precipitation</th> \n",
       "        <th class=\"col_heading level0 col2\" >Average Temperature</th> \n",
       "    </tr></thead> \n",
       "<tbody>    <tr> \n",
       "        <th id=\"T_f8bdd829_46c1_11e8_ad8a_7429af7f125d\" class=\"row_heading level0 row0\" >Value</th> \n",
       "        <td id=\"T_f8bdd829_46c1_11e8_ad8a_7429af7f125drow0_col0\" class=\"data row0 col0\" >1.0</td> \n",
       "        <td id=\"T_f8bdd829_46c1_11e8_ad8a_7429af7f125drow0_col1\" class=\"data row0 col1\" >0.28</td> \n",
       "        <td id=\"T_f8bdd829_46c1_11e8_ad8a_7429af7f125drow0_col2\" class=\"data row0 col2\" >0.47</td> \n",
       "    </tr>    <tr> \n",
       "        <th id=\"T_f8bdd829_46c1_11e8_ad8a_7429af7f125d\" class=\"row_heading level0 row1\" >Average Precipitation</th> \n",
       "        <td id=\"T_f8bdd829_46c1_11e8_ad8a_7429af7f125drow1_col0\" class=\"data row1 col0\" >0.28</td> \n",
       "        <td id=\"T_f8bdd829_46c1_11e8_ad8a_7429af7f125drow1_col1\" class=\"data row1 col1\" >1.0</td> \n",
       "        <td id=\"T_f8bdd829_46c1_11e8_ad8a_7429af7f125drow1_col2\" class=\"data row1 col2\" >0.12</td> \n",
       "    </tr>    <tr> \n",
       "        <th id=\"T_f8bdd829_46c1_11e8_ad8a_7429af7f125d\" class=\"row_heading level0 row2\" >Average Temperature</th> \n",
       "        <td id=\"T_f8bdd829_46c1_11e8_ad8a_7429af7f125drow2_col0\" class=\"data row2 col0\" >0.47</td> \n",
       "        <td id=\"T_f8bdd829_46c1_11e8_ad8a_7429af7f125drow2_col1\" class=\"data row2 col1\" >0.12</td> \n",
       "        <td id=\"T_f8bdd829_46c1_11e8_ad8a_7429af7f125drow2_col2\" class=\"data row2 col2\" >1.0</td> \n",
       "    </tr></tbody> \n",
       "</table> "
      ],
      "text/plain": [
       "<pandas.io.formats.style.Styler at 0x7f1625f409b0>"
      ]
     },
     "execution_count": 26,
     "metadata": {},
     "output_type": "execute_result"
    }
   ],
   "source": [
    "# Spearman\n",
    "correlation_finder(SPEARMAN, data)"
   ]
  },
  {
   "cell_type": "markdown",
   "metadata": {},
   "source": [
    "#### Maize"
   ]
  },
  {
   "cell_type": "code",
   "execution_count": 27,
   "metadata": {
    "collapsed": true
   },
   "outputs": [],
   "source": [
    "# data path\n",
    "data_path = CORE_DATA_PATH + \"maize_precip_temp(1991-2014).csv\"\n",
    "\n",
    "# read data\n",
    "data = read_data(data_path)"
   ]
  },
  {
   "cell_type": "code",
   "execution_count": 28,
   "metadata": {},
   "outputs": [
    {
     "data": {
      "text/html": [
       "<style  type=\"text/css\" >\n",
       "    #T_fa3ce97e_46c1_11e8_ad8a_7429af7f125drow0_col0 {\n",
       "            background-color:  #fc7f00;\n",
       "        }    #T_fa3ce97e_46c1_11e8_ad8a_7429af7f125drow0_col1 {\n",
       "            background-color:  #ffe417;\n",
       "        }    #T_fa3ce97e_46c1_11e8_ad8a_7429af7f125drow0_col2 {\n",
       "            background-color:  #ffd20c;\n",
       "        }    #T_fa3ce97e_46c1_11e8_ad8a_7429af7f125drow1_col0 {\n",
       "            background-color:  #e4ff7a;\n",
       "        }    #T_fa3ce97e_46c1_11e8_ad8a_7429af7f125drow1_col1 {\n",
       "            background-color:  #fc7f00;\n",
       "        }    #T_fa3ce97e_46c1_11e8_ad8a_7429af7f125drow1_col2 {\n",
       "            background-color:  #e4ff7a;\n",
       "        }    #T_fa3ce97e_46c1_11e8_ad8a_7429af7f125drow2_col0 {\n",
       "            background-color:  #f3f244;\n",
       "        }    #T_fa3ce97e_46c1_11e8_ad8a_7429af7f125drow2_col1 {\n",
       "            background-color:  #e4ff7a;\n",
       "        }    #T_fa3ce97e_46c1_11e8_ad8a_7429af7f125drow2_col2 {\n",
       "            background-color:  #fc7f00;\n",
       "        }</style>  \n",
       "<table id=\"T_fa3ce97e_46c1_11e8_ad8a_7429af7f125d\" > \n",
       "<thead>    <tr> \n",
       "        <th class=\"blank level0\" ></th> \n",
       "        <th class=\"col_heading level0 col0\" >Value</th> \n",
       "        <th class=\"col_heading level0 col1\" >Average Precipitation</th> \n",
       "        <th class=\"col_heading level0 col2\" >Average Temperature</th> \n",
       "    </tr></thead> \n",
       "<tbody>    <tr> \n",
       "        <th id=\"T_fa3ce97e_46c1_11e8_ad8a_7429af7f125d\" class=\"row_heading level0 row0\" >Value</th> \n",
       "        <td id=\"T_fa3ce97e_46c1_11e8_ad8a_7429af7f125drow0_col0\" class=\"data row0 col0\" >1.0</td> \n",
       "        <td id=\"T_fa3ce97e_46c1_11e8_ad8a_7429af7f125drow0_col1\" class=\"data row0 col1\" >0.36</td> \n",
       "        <td id=\"T_fa3ce97e_46c1_11e8_ad8a_7429af7f125drow0_col2\" class=\"data row0 col2\" >0.46</td> \n",
       "    </tr>    <tr> \n",
       "        <th id=\"T_fa3ce97e_46c1_11e8_ad8a_7429af7f125d\" class=\"row_heading level0 row1\" >Average Precipitation</th> \n",
       "        <td id=\"T_fa3ce97e_46c1_11e8_ad8a_7429af7f125drow1_col0\" class=\"data row1 col0\" >0.36</td> \n",
       "        <td id=\"T_fa3ce97e_46c1_11e8_ad8a_7429af7f125drow1_col1\" class=\"data row1 col1\" >1.0</td> \n",
       "        <td id=\"T_fa3ce97e_46c1_11e8_ad8a_7429af7f125drow1_col2\" class=\"data row1 col2\" >0.12</td> \n",
       "    </tr>    <tr> \n",
       "        <th id=\"T_fa3ce97e_46c1_11e8_ad8a_7429af7f125d\" class=\"row_heading level0 row2\" >Average Temperature</th> \n",
       "        <td id=\"T_fa3ce97e_46c1_11e8_ad8a_7429af7f125drow2_col0\" class=\"data row2 col0\" >0.46</td> \n",
       "        <td id=\"T_fa3ce97e_46c1_11e8_ad8a_7429af7f125drow2_col1\" class=\"data row2 col1\" >0.12</td> \n",
       "        <td id=\"T_fa3ce97e_46c1_11e8_ad8a_7429af7f125drow2_col2\" class=\"data row2 col2\" >1.0</td> \n",
       "    </tr></tbody> \n",
       "</table> "
      ],
      "text/plain": [
       "<pandas.io.formats.style.Styler at 0x7f1625f40470>"
      ]
     },
     "execution_count": 28,
     "metadata": {},
     "output_type": "execute_result"
    }
   ],
   "source": [
    "# Pearson\n",
    "correlation_finder(PEARSON, data)"
   ]
  },
  {
   "cell_type": "code",
   "execution_count": 29,
   "metadata": {},
   "outputs": [
    {
     "data": {
      "text/html": [
       "<style  type=\"text/css\" >\n",
       "    #T_fa3ce97f_46c1_11e8_ad8a_7429af7f125drow0_col0 {\n",
       "            background-color:  #fc7f00;\n",
       "        }    #T_fa3ce97f_46c1_11e8_ad8a_7429af7f125drow0_col1 {\n",
       "            background-color:  #f7ef38;\n",
       "        }    #T_fa3ce97f_46c1_11e8_ad8a_7429af7f125drow0_col2 {\n",
       "            background-color:  #ffd40e;\n",
       "        }    #T_fa3ce97f_46c1_11e8_ad8a_7429af7f125drow1_col0 {\n",
       "            background-color:  #e4ff7a;\n",
       "        }    #T_fa3ce97f_46c1_11e8_ad8a_7429af7f125drow1_col1 {\n",
       "            background-color:  #fc7f00;\n",
       "        }    #T_fa3ce97f_46c1_11e8_ad8a_7429af7f125drow1_col2 {\n",
       "            background-color:  #e4ff7a;\n",
       "        }    #T_fa3ce97f_46c1_11e8_ad8a_7429af7f125drow2_col0 {\n",
       "            background-color:  #fde920;\n",
       "        }    #T_fa3ce97f_46c1_11e8_ad8a_7429af7f125drow2_col1 {\n",
       "            background-color:  #e4ff7a;\n",
       "        }    #T_fa3ce97f_46c1_11e8_ad8a_7429af7f125drow2_col2 {\n",
       "            background-color:  #fc7f00;\n",
       "        }</style>  \n",
       "<table id=\"T_fa3ce97f_46c1_11e8_ad8a_7429af7f125d\" > \n",
       "<thead>    <tr> \n",
       "        <th class=\"blank level0\" ></th> \n",
       "        <th class=\"col_heading level0 col0\" >Value</th> \n",
       "        <th class=\"col_heading level0 col1\" >Average Precipitation</th> \n",
       "        <th class=\"col_heading level0 col2\" >Average Temperature</th> \n",
       "    </tr></thead> \n",
       "<tbody>    <tr> \n",
       "        <th id=\"T_fa3ce97f_46c1_11e8_ad8a_7429af7f125d\" class=\"row_heading level0 row0\" >Value</th> \n",
       "        <td id=\"T_fa3ce97f_46c1_11e8_ad8a_7429af7f125drow0_col0\" class=\"data row0 col0\" >1.0</td> \n",
       "        <td id=\"T_fa3ce97f_46c1_11e8_ad8a_7429af7f125drow0_col1\" class=\"data row0 col1\" >0.24</td> \n",
       "        <td id=\"T_fa3ce97f_46c1_11e8_ad8a_7429af7f125drow0_col2\" class=\"data row0 col2\" >0.42</td> \n",
       "    </tr>    <tr> \n",
       "        <th id=\"T_fa3ce97f_46c1_11e8_ad8a_7429af7f125d\" class=\"row_heading level0 row1\" >Average Precipitation</th> \n",
       "        <td id=\"T_fa3ce97f_46c1_11e8_ad8a_7429af7f125drow1_col0\" class=\"data row1 col0\" >0.24</td> \n",
       "        <td id=\"T_fa3ce97f_46c1_11e8_ad8a_7429af7f125drow1_col1\" class=\"data row1 col1\" >1.0</td> \n",
       "        <td id=\"T_fa3ce97f_46c1_11e8_ad8a_7429af7f125drow1_col2\" class=\"data row1 col2\" >0.08</td> \n",
       "    </tr>    <tr> \n",
       "        <th id=\"T_fa3ce97f_46c1_11e8_ad8a_7429af7f125d\" class=\"row_heading level0 row2\" >Average Temperature</th> \n",
       "        <td id=\"T_fa3ce97f_46c1_11e8_ad8a_7429af7f125drow2_col0\" class=\"data row2 col0\" >0.42</td> \n",
       "        <td id=\"T_fa3ce97f_46c1_11e8_ad8a_7429af7f125drow2_col1\" class=\"data row2 col1\" >0.08</td> \n",
       "        <td id=\"T_fa3ce97f_46c1_11e8_ad8a_7429af7f125drow2_col2\" class=\"data row2 col2\" >1.0</td> \n",
       "    </tr></tbody> \n",
       "</table> "
      ],
      "text/plain": [
       "<pandas.io.formats.style.Styler at 0x7f1625f4c978>"
      ]
     },
     "execution_count": 29,
     "metadata": {},
     "output_type": "execute_result"
    }
   ],
   "source": [
    "# Kendall\n",
    "correlation_finder(KENDALL, data)"
   ]
  },
  {
   "cell_type": "code",
   "execution_count": 30,
   "metadata": {},
   "outputs": [
    {
     "data": {
      "text/html": [
       "<style  type=\"text/css\" >\n",
       "    #T_fa3ce980_46c1_11e8_ad8a_7429af7f125drow0_col0 {\n",
       "            background-color:  #fc7f00;\n",
       "        }    #T_fa3ce980_46c1_11e8_ad8a_7429af7f125drow0_col1 {\n",
       "            background-color:  #ffe619;\n",
       "        }    #T_fa3ce980_46c1_11e8_ad8a_7429af7f125drow0_col2 {\n",
       "            background-color:  #ffb400;\n",
       "        }    #T_fa3ce980_46c1_11e8_ad8a_7429af7f125drow1_col0 {\n",
       "            background-color:  #e4ff7a;\n",
       "        }    #T_fa3ce980_46c1_11e8_ad8a_7429af7f125drow1_col1 {\n",
       "            background-color:  #fc7f00;\n",
       "        }    #T_fa3ce980_46c1_11e8_ad8a_7429af7f125drow1_col2 {\n",
       "            background-color:  #e4ff7a;\n",
       "        }    #T_fa3ce980_46c1_11e8_ad8a_7429af7f125drow2_col0 {\n",
       "            background-color:  #ffc908;\n",
       "        }    #T_fa3ce980_46c1_11e8_ad8a_7429af7f125drow2_col1 {\n",
       "            background-color:  #e4ff7a;\n",
       "        }    #T_fa3ce980_46c1_11e8_ad8a_7429af7f125drow2_col2 {\n",
       "            background-color:  #fc7f00;\n",
       "        }</style>  \n",
       "<table id=\"T_fa3ce980_46c1_11e8_ad8a_7429af7f125d\" > \n",
       "<thead>    <tr> \n",
       "        <th class=\"blank level0\" ></th> \n",
       "        <th class=\"col_heading level0 col0\" >Value</th> \n",
       "        <th class=\"col_heading level0 col1\" >Average Precipitation</th> \n",
       "        <th class=\"col_heading level0 col2\" >Average Temperature</th> \n",
       "    </tr></thead> \n",
       "<tbody>    <tr> \n",
       "        <th id=\"T_fa3ce980_46c1_11e8_ad8a_7429af7f125d\" class=\"row_heading level0 row0\" >Value</th> \n",
       "        <td id=\"T_fa3ce980_46c1_11e8_ad8a_7429af7f125drow0_col0\" class=\"data row0 col0\" >1.0</td> \n",
       "        <td id=\"T_fa3ce980_46c1_11e8_ad8a_7429af7f125drow0_col1\" class=\"data row0 col1\" >0.35</td> \n",
       "        <td id=\"T_fa3ce980_46c1_11e8_ad8a_7429af7f125drow0_col2\" class=\"data row0 col2\" >0.63</td> \n",
       "    </tr>    <tr> \n",
       "        <th id=\"T_fa3ce980_46c1_11e8_ad8a_7429af7f125d\" class=\"row_heading level0 row1\" >Average Precipitation</th> \n",
       "        <td id=\"T_fa3ce980_46c1_11e8_ad8a_7429af7f125drow1_col0\" class=\"data row1 col0\" >0.35</td> \n",
       "        <td id=\"T_fa3ce980_46c1_11e8_ad8a_7429af7f125drow1_col1\" class=\"data row1 col1\" >1.0</td> \n",
       "        <td id=\"T_fa3ce980_46c1_11e8_ad8a_7429af7f125drow1_col2\" class=\"data row1 col2\" >0.12</td> \n",
       "    </tr>    <tr> \n",
       "        <th id=\"T_fa3ce980_46c1_11e8_ad8a_7429af7f125d\" class=\"row_heading level0 row2\" >Average Temperature</th> \n",
       "        <td id=\"T_fa3ce980_46c1_11e8_ad8a_7429af7f125drow2_col0\" class=\"data row2 col0\" >0.63</td> \n",
       "        <td id=\"T_fa3ce980_46c1_11e8_ad8a_7429af7f125drow2_col1\" class=\"data row2 col1\" >0.12</td> \n",
       "        <td id=\"T_fa3ce980_46c1_11e8_ad8a_7429af7f125drow2_col2\" class=\"data row2 col2\" >1.0</td> \n",
       "    </tr></tbody> \n",
       "</table> "
      ],
      "text/plain": [
       "<pandas.io.formats.style.Styler at 0x7f1625f4c400>"
      ]
     },
     "execution_count": 30,
     "metadata": {},
     "output_type": "execute_result"
    }
   ],
   "source": [
    "# Spearman\n",
    "correlation_finder(SPEARMAN, data)"
   ]
  },
  {
   "cell_type": "markdown",
   "metadata": {},
   "source": [
    "#### Millet"
   ]
  },
  {
   "cell_type": "code",
   "execution_count": 31,
   "metadata": {
    "collapsed": true
   },
   "outputs": [],
   "source": [
    "# data path\n",
    "data_path = CORE_DATA_PATH + \"millet_precip_temp(1991-2014).csv\"\n",
    "\n",
    "# read data\n",
    "data = read_data(data_path)"
   ]
  },
  {
   "cell_type": "code",
   "execution_count": 32,
   "metadata": {},
   "outputs": [
    {
     "data": {
      "text/html": [
       "<style  type=\"text/css\" >\n",
       "    #T_fa3ce981_46c1_11e8_ad8a_7429af7f125drow0_col0 {\n",
       "            background-color:  #fc7f00;\n",
       "        }    #T_fa3ce981_46c1_11e8_ad8a_7429af7f125drow0_col1 {\n",
       "            background-color:  #e4ff7a;\n",
       "        }    #T_fa3ce981_46c1_11e8_ad8a_7429af7f125drow0_col2 {\n",
       "            background-color:  #e4ff7a;\n",
       "        }    #T_fa3ce981_46c1_11e8_ad8a_7429af7f125drow1_col0 {\n",
       "            background-color:  #e4ff7a;\n",
       "        }    #T_fa3ce981_46c1_11e8_ad8a_7429af7f125drow1_col1 {\n",
       "            background-color:  #fc7f00;\n",
       "        }    #T_fa3ce981_46c1_11e8_ad8a_7429af7f125drow1_col2 {\n",
       "            background-color:  #ffe217;\n",
       "        }    #T_fa3ce981_46c1_11e8_ad8a_7429af7f125drow2_col0 {\n",
       "            background-color:  #ecf95f;\n",
       "        }    #T_fa3ce981_46c1_11e8_ad8a_7429af7f125drow2_col1 {\n",
       "            background-color:  #ffd911;\n",
       "        }    #T_fa3ce981_46c1_11e8_ad8a_7429af7f125drow2_col2 {\n",
       "            background-color:  #fc7f00;\n",
       "        }</style>  \n",
       "<table id=\"T_fa3ce981_46c1_11e8_ad8a_7429af7f125d\" > \n",
       "<thead>    <tr> \n",
       "        <th class=\"blank level0\" ></th> \n",
       "        <th class=\"col_heading level0 col0\" >Value</th> \n",
       "        <th class=\"col_heading level0 col1\" >Average Precipitation</th> \n",
       "        <th class=\"col_heading level0 col2\" >Average Temperature</th> \n",
       "    </tr></thead> \n",
       "<tbody>    <tr> \n",
       "        <th id=\"T_fa3ce981_46c1_11e8_ad8a_7429af7f125d\" class=\"row_heading level0 row0\" >Value</th> \n",
       "        <td id=\"T_fa3ce981_46c1_11e8_ad8a_7429af7f125drow0_col0\" class=\"data row0 col0\" >1.0</td> \n",
       "        <td id=\"T_fa3ce981_46c1_11e8_ad8a_7429af7f125drow0_col1\" class=\"data row0 col1\" >-0.32</td> \n",
       "        <td id=\"T_fa3ce981_46c1_11e8_ad8a_7429af7f125drow0_col2\" class=\"data row0 col2\" >-0.23</td> \n",
       "    </tr>    <tr> \n",
       "        <th id=\"T_fa3ce981_46c1_11e8_ad8a_7429af7f125d\" class=\"row_heading level0 row1\" >Average Precipitation</th> \n",
       "        <td id=\"T_fa3ce981_46c1_11e8_ad8a_7429af7f125drow1_col0\" class=\"data row1 col0\" >-0.32</td> \n",
       "        <td id=\"T_fa3ce981_46c1_11e8_ad8a_7429af7f125drow1_col1\" class=\"data row1 col1\" >1.0</td> \n",
       "        <td id=\"T_fa3ce981_46c1_11e8_ad8a_7429af7f125drow1_col2\" class=\"data row1 col2\" >0.12</td> \n",
       "    </tr>    <tr> \n",
       "        <th id=\"T_fa3ce981_46c1_11e8_ad8a_7429af7f125d\" class=\"row_heading level0 row2\" >Average Temperature</th> \n",
       "        <td id=\"T_fa3ce981_46c1_11e8_ad8a_7429af7f125drow2_col0\" class=\"data row2 col0\" >-0.23</td> \n",
       "        <td id=\"T_fa3ce981_46c1_11e8_ad8a_7429af7f125drow2_col1\" class=\"data row2 col1\" >0.12</td> \n",
       "        <td id=\"T_fa3ce981_46c1_11e8_ad8a_7429af7f125drow2_col2\" class=\"data row2 col2\" >1.0</td> \n",
       "    </tr></tbody> \n",
       "</table> "
      ],
      "text/plain": [
       "<pandas.io.formats.style.Styler at 0x7f1625f4c780>"
      ]
     },
     "execution_count": 32,
     "metadata": {},
     "output_type": "execute_result"
    }
   ],
   "source": [
    "# Pearson\n",
    "correlation_finder(PEARSON, data)"
   ]
  },
  {
   "cell_type": "code",
   "execution_count": 33,
   "metadata": {},
   "outputs": [
    {
     "data": {
      "text/html": [
       "<style  type=\"text/css\" >\n",
       "    #T_fa3ce982_46c1_11e8_ad8a_7429af7f125drow0_col0 {\n",
       "            background-color:  #fc7f00;\n",
       "        }    #T_fa3ce982_46c1_11e8_ad8a_7429af7f125drow0_col1 {\n",
       "            background-color:  #e4ff7a;\n",
       "        }    #T_fa3ce982_46c1_11e8_ad8a_7429af7f125drow0_col2 {\n",
       "            background-color:  #e4ff7a;\n",
       "        }    #T_fa3ce982_46c1_11e8_ad8a_7429af7f125drow1_col0 {\n",
       "            background-color:  #e4ff7a;\n",
       "        }    #T_fa3ce982_46c1_11e8_ad8a_7429af7f125drow1_col1 {\n",
       "            background-color:  #fc7f00;\n",
       "        }    #T_fa3ce982_46c1_11e8_ad8a_7429af7f125drow1_col2 {\n",
       "            background-color:  #f2f347;\n",
       "        }    #T_fa3ce982_46c1_11e8_ad8a_7429af7f125drow2_col0 {\n",
       "            background-color:  #f3f244;\n",
       "        }    #T_fa3ce982_46c1_11e8_ad8a_7429af7f125drow2_col1 {\n",
       "            background-color:  #ffe719;\n",
       "        }    #T_fa3ce982_46c1_11e8_ad8a_7429af7f125drow2_col2 {\n",
       "            background-color:  #fc7f00;\n",
       "        }</style>  \n",
       "<table id=\"T_fa3ce982_46c1_11e8_ad8a_7429af7f125d\" > \n",
       "<thead>    <tr> \n",
       "        <th class=\"blank level0\" ></th> \n",
       "        <th class=\"col_heading level0 col0\" >Value</th> \n",
       "        <th class=\"col_heading level0 col1\" >Average Precipitation</th> \n",
       "        <th class=\"col_heading level0 col2\" >Average Temperature</th> \n",
       "    </tr></thead> \n",
       "<tbody>    <tr> \n",
       "        <th id=\"T_fa3ce982_46c1_11e8_ad8a_7429af7f125d\" class=\"row_heading level0 row0\" >Value</th> \n",
       "        <td id=\"T_fa3ce982_46c1_11e8_ad8a_7429af7f125drow0_col0\" class=\"data row0 col0\" >1.0</td> \n",
       "        <td id=\"T_fa3ce982_46c1_11e8_ad8a_7429af7f125drow0_col1\" class=\"data row0 col1\" >-0.24</td> \n",
       "        <td id=\"T_fa3ce982_46c1_11e8_ad8a_7429af7f125drow0_col2\" class=\"data row0 col2\" >-0.062</td> \n",
       "    </tr>    <tr> \n",
       "        <th id=\"T_fa3ce982_46c1_11e8_ad8a_7429af7f125d\" class=\"row_heading level0 row1\" >Average Precipitation</th> \n",
       "        <td id=\"T_fa3ce982_46c1_11e8_ad8a_7429af7f125drow1_col0\" class=\"data row1 col0\" >-0.24</td> \n",
       "        <td id=\"T_fa3ce982_46c1_11e8_ad8a_7429af7f125drow1_col1\" class=\"data row1 col1\" >1.0</td> \n",
       "        <td id=\"T_fa3ce982_46c1_11e8_ad8a_7429af7f125drow1_col2\" class=\"data row1 col2\" >0.08</td> \n",
       "    </tr>    <tr> \n",
       "        <th id=\"T_fa3ce982_46c1_11e8_ad8a_7429af7f125d\" class=\"row_heading level0 row2\" >Average Temperature</th> \n",
       "        <td id=\"T_fa3ce982_46c1_11e8_ad8a_7429af7f125drow2_col0\" class=\"data row2 col0\" >-0.062</td> \n",
       "        <td id=\"T_fa3ce982_46c1_11e8_ad8a_7429af7f125drow2_col1\" class=\"data row2 col1\" >0.08</td> \n",
       "        <td id=\"T_fa3ce982_46c1_11e8_ad8a_7429af7f125drow2_col2\" class=\"data row2 col2\" >1.0</td> \n",
       "    </tr></tbody> \n",
       "</table> "
      ],
      "text/plain": [
       "<pandas.io.formats.style.Styler at 0x7f1625ee2240>"
      ]
     },
     "execution_count": 33,
     "metadata": {},
     "output_type": "execute_result"
    }
   ],
   "source": [
    "# Kendall\n",
    "correlation_finder(KENDALL, data)"
   ]
  },
  {
   "cell_type": "code",
   "execution_count": 34,
   "metadata": {},
   "outputs": [
    {
     "data": {
      "text/html": [
       "<style  type=\"text/css\" >\n",
       "    #T_fa3ce983_46c1_11e8_ad8a_7429af7f125drow0_col0 {\n",
       "            background-color:  #fc7f00;\n",
       "        }    #T_fa3ce983_46c1_11e8_ad8a_7429af7f125drow0_col1 {\n",
       "            background-color:  #e4ff7a;\n",
       "        }    #T_fa3ce983_46c1_11e8_ad8a_7429af7f125drow0_col2 {\n",
       "            background-color:  #e4ff7a;\n",
       "        }    #T_fa3ce983_46c1_11e8_ad8a_7429af7f125drow1_col0 {\n",
       "            background-color:  #e4ff7a;\n",
       "        }    #T_fa3ce983_46c1_11e8_ad8a_7429af7f125drow1_col1 {\n",
       "            background-color:  #fc7f00;\n",
       "        }    #T_fa3ce983_46c1_11e8_ad8a_7429af7f125drow1_col2 {\n",
       "            background-color:  #f7ef36;\n",
       "        }    #T_fa3ce983_46c1_11e8_ad8a_7429af7f125drow2_col0 {\n",
       "            background-color:  #f5f13e;\n",
       "        }    #T_fa3ce983_46c1_11e8_ad8a_7429af7f125drow2_col1 {\n",
       "            background-color:  #ffde14;\n",
       "        }    #T_fa3ce983_46c1_11e8_ad8a_7429af7f125drow2_col2 {\n",
       "            background-color:  #fc7f00;\n",
       "        }</style>  \n",
       "<table id=\"T_fa3ce983_46c1_11e8_ad8a_7429af7f125d\" > \n",
       "<thead>    <tr> \n",
       "        <th class=\"blank level0\" ></th> \n",
       "        <th class=\"col_heading level0 col0\" >Value</th> \n",
       "        <th class=\"col_heading level0 col1\" >Average Precipitation</th> \n",
       "        <th class=\"col_heading level0 col2\" >Average Temperature</th> \n",
       "    </tr></thead> \n",
       "<tbody>    <tr> \n",
       "        <th id=\"T_fa3ce983_46c1_11e8_ad8a_7429af7f125d\" class=\"row_heading level0 row0\" >Value</th> \n",
       "        <td id=\"T_fa3ce983_46c1_11e8_ad8a_7429af7f125drow0_col0\" class=\"data row0 col0\" >1.0</td> \n",
       "        <td id=\"T_fa3ce983_46c1_11e8_ad8a_7429af7f125drow0_col1\" class=\"data row0 col1\" >-0.26</td> \n",
       "        <td id=\"T_fa3ce983_46c1_11e8_ad8a_7429af7f125drow0_col2\" class=\"data row0 col2\" >-0.066</td> \n",
       "    </tr>    <tr> \n",
       "        <th id=\"T_fa3ce983_46c1_11e8_ad8a_7429af7f125d\" class=\"row_heading level0 row1\" >Average Precipitation</th> \n",
       "        <td id=\"T_fa3ce983_46c1_11e8_ad8a_7429af7f125drow1_col0\" class=\"data row1 col0\" >-0.26</td> \n",
       "        <td id=\"T_fa3ce983_46c1_11e8_ad8a_7429af7f125drow1_col1\" class=\"data row1 col1\" >1.0</td> \n",
       "        <td id=\"T_fa3ce983_46c1_11e8_ad8a_7429af7f125drow1_col2\" class=\"data row1 col2\" >0.12</td> \n",
       "    </tr>    <tr> \n",
       "        <th id=\"T_fa3ce983_46c1_11e8_ad8a_7429af7f125d\" class=\"row_heading level0 row2\" >Average Temperature</th> \n",
       "        <td id=\"T_fa3ce983_46c1_11e8_ad8a_7429af7f125drow2_col0\" class=\"data row2 col0\" >-0.066</td> \n",
       "        <td id=\"T_fa3ce983_46c1_11e8_ad8a_7429af7f125drow2_col1\" class=\"data row2 col1\" >0.12</td> \n",
       "        <td id=\"T_fa3ce983_46c1_11e8_ad8a_7429af7f125drow2_col2\" class=\"data row2 col2\" >1.0</td> \n",
       "    </tr></tbody> \n",
       "</table> "
      ],
      "text/plain": [
       "<pandas.io.formats.style.Styler at 0x7f1625ee2748>"
      ]
     },
     "execution_count": 34,
     "metadata": {},
     "output_type": "execute_result"
    }
   ],
   "source": [
    "# Spearman\n",
    "correlation_finder(SPEARMAN, data)"
   ]
  },
  {
   "cell_type": "markdown",
   "metadata": {},
   "source": [
    "#### Rice- Paddy"
   ]
  },
  {
   "cell_type": "code",
   "execution_count": 35,
   "metadata": {
    "collapsed": true
   },
   "outputs": [],
   "source": [
    "# data path\n",
    "data_path = CORE_DATA_PATH + \"paddy_rice_precip_temp(1991-2014).csv\"\n",
    "\n",
    "# read data\n",
    "data = read_data(data_path)"
   ]
  },
  {
   "cell_type": "code",
   "execution_count": 36,
   "metadata": {},
   "outputs": [
    {
     "data": {
      "text/html": [
       "<style  type=\"text/css\" >\n",
       "    #T_fb451c9c_46c1_11e8_ad8a_7429af7f125drow0_col0 {\n",
       "            background-color:  #fc7f00;\n",
       "        }    #T_fb451c9c_46c1_11e8_ad8a_7429af7f125drow0_col1 {\n",
       "            background-color:  #ffe217;\n",
       "        }    #T_fb451c9c_46c1_11e8_ad8a_7429af7f125drow0_col2 {\n",
       "            background-color:  #ffba00;\n",
       "        }    #T_fb451c9c_46c1_11e8_ad8a_7429af7f125drow1_col0 {\n",
       "            background-color:  #e4ff7a;\n",
       "        }    #T_fb451c9c_46c1_11e8_ad8a_7429af7f125drow1_col1 {\n",
       "            background-color:  #fc7f00;\n",
       "        }    #T_fb451c9c_46c1_11e8_ad8a_7429af7f125drow1_col2 {\n",
       "            background-color:  #e4ff7a;\n",
       "        }    #T_fb451c9c_46c1_11e8_ad8a_7429af7f125drow2_col0 {\n",
       "            background-color:  #ffda11;\n",
       "        }    #T_fb451c9c_46c1_11e8_ad8a_7429af7f125drow2_col1 {\n",
       "            background-color:  #e4ff7a;\n",
       "        }    #T_fb451c9c_46c1_11e8_ad8a_7429af7f125drow2_col2 {\n",
       "            background-color:  #fc7f00;\n",
       "        }</style>  \n",
       "<table id=\"T_fb451c9c_46c1_11e8_ad8a_7429af7f125d\" > \n",
       "<thead>    <tr> \n",
       "        <th class=\"blank level0\" ></th> \n",
       "        <th class=\"col_heading level0 col0\" >Value</th> \n",
       "        <th class=\"col_heading level0 col1\" >Average Precipitation</th> \n",
       "        <th class=\"col_heading level0 col2\" >Average Temperature</th> \n",
       "    </tr></thead> \n",
       "<tbody>    <tr> \n",
       "        <th id=\"T_fb451c9c_46c1_11e8_ad8a_7429af7f125d\" class=\"row_heading level0 row0\" >Value</th> \n",
       "        <td id=\"T_fb451c9c_46c1_11e8_ad8a_7429af7f125drow0_col0\" class=\"data row0 col0\" >1.0</td> \n",
       "        <td id=\"T_fb451c9c_46c1_11e8_ad8a_7429af7f125drow0_col1\" class=\"data row0 col1\" >0.37</td> \n",
       "        <td id=\"T_fb451c9c_46c1_11e8_ad8a_7429af7f125drow0_col2\" class=\"data row0 col2\" >0.58</td> \n",
       "    </tr>    <tr> \n",
       "        <th id=\"T_fb451c9c_46c1_11e8_ad8a_7429af7f125d\" class=\"row_heading level0 row1\" >Average Precipitation</th> \n",
       "        <td id=\"T_fb451c9c_46c1_11e8_ad8a_7429af7f125drow1_col0\" class=\"data row1 col0\" >0.37</td> \n",
       "        <td id=\"T_fb451c9c_46c1_11e8_ad8a_7429af7f125drow1_col1\" class=\"data row1 col1\" >1.0</td> \n",
       "        <td id=\"T_fb451c9c_46c1_11e8_ad8a_7429af7f125drow1_col2\" class=\"data row1 col2\" >0.12</td> \n",
       "    </tr>    <tr> \n",
       "        <th id=\"T_fb451c9c_46c1_11e8_ad8a_7429af7f125d\" class=\"row_heading level0 row2\" >Average Temperature</th> \n",
       "        <td id=\"T_fb451c9c_46c1_11e8_ad8a_7429af7f125drow2_col0\" class=\"data row2 col0\" >0.58</td> \n",
       "        <td id=\"T_fb451c9c_46c1_11e8_ad8a_7429af7f125drow2_col1\" class=\"data row2 col1\" >0.12</td> \n",
       "        <td id=\"T_fb451c9c_46c1_11e8_ad8a_7429af7f125drow2_col2\" class=\"data row2 col2\" >1.0</td> \n",
       "    </tr></tbody> \n",
       "</table> "
      ],
      "text/plain": [
       "<pandas.io.formats.style.Styler at 0x7f1625ee2c88>"
      ]
     },
     "execution_count": 36,
     "metadata": {},
     "output_type": "execute_result"
    }
   ],
   "source": [
    "# Pearson\n",
    "correlation_finder(PEARSON, data)"
   ]
  },
  {
   "cell_type": "code",
   "execution_count": 37,
   "metadata": {},
   "outputs": [
    {
     "data": {
      "text/html": [
       "<style  type=\"text/css\" >\n",
       "    #T_fb451c9d_46c1_11e8_ad8a_7429af7f125drow0_col0 {\n",
       "            background-color:  #fc7f00;\n",
       "        }    #T_fb451c9d_46c1_11e8_ad8a_7429af7f125drow0_col1 {\n",
       "            background-color:  #faec2a;\n",
       "        }    #T_fb451c9d_46c1_11e8_ad8a_7429af7f125drow0_col2 {\n",
       "            background-color:  #ffce0a;\n",
       "        }    #T_fb451c9d_46c1_11e8_ad8a_7429af7f125drow1_col0 {\n",
       "            background-color:  #e4ff7a;\n",
       "        }    #T_fb451c9d_46c1_11e8_ad8a_7429af7f125drow1_col1 {\n",
       "            background-color:  #fc7f00;\n",
       "        }    #T_fb451c9d_46c1_11e8_ad8a_7429af7f125drow1_col2 {\n",
       "            background-color:  #e4ff7a;\n",
       "        }    #T_fb451c9d_46c1_11e8_ad8a_7429af7f125drow2_col0 {\n",
       "            background-color:  #fee91e;\n",
       "        }    #T_fb451c9d_46c1_11e8_ad8a_7429af7f125drow2_col1 {\n",
       "            background-color:  #e4ff7a;\n",
       "        }    #T_fb451c9d_46c1_11e8_ad8a_7429af7f125drow2_col2 {\n",
       "            background-color:  #fc7f00;\n",
       "        }</style>  \n",
       "<table id=\"T_fb451c9d_46c1_11e8_ad8a_7429af7f125d\" > \n",
       "<thead>    <tr> \n",
       "        <th class=\"blank level0\" ></th> \n",
       "        <th class=\"col_heading level0 col0\" >Value</th> \n",
       "        <th class=\"col_heading level0 col1\" >Average Precipitation</th> \n",
       "        <th class=\"col_heading level0 col2\" >Average Temperature</th> \n",
       "    </tr></thead> \n",
       "<tbody>    <tr> \n",
       "        <th id=\"T_fb451c9d_46c1_11e8_ad8a_7429af7f125d\" class=\"row_heading level0 row0\" >Value</th> \n",
       "        <td id=\"T_fb451c9d_46c1_11e8_ad8a_7429af7f125drow0_col0\" class=\"data row0 col0\" >1.0</td> \n",
       "        <td id=\"T_fb451c9d_46c1_11e8_ad8a_7429af7f125drow0_col1\" class=\"data row0 col1\" >0.27</td> \n",
       "        <td id=\"T_fb451c9d_46c1_11e8_ad8a_7429af7f125drow0_col2\" class=\"data row0 col2\" >0.45</td> \n",
       "    </tr>    <tr> \n",
       "        <th id=\"T_fb451c9d_46c1_11e8_ad8a_7429af7f125d\" class=\"row_heading level0 row1\" >Average Precipitation</th> \n",
       "        <td id=\"T_fb451c9d_46c1_11e8_ad8a_7429af7f125drow1_col0\" class=\"data row1 col0\" >0.27</td> \n",
       "        <td id=\"T_fb451c9d_46c1_11e8_ad8a_7429af7f125drow1_col1\" class=\"data row1 col1\" >1.0</td> \n",
       "        <td id=\"T_fb451c9d_46c1_11e8_ad8a_7429af7f125drow1_col2\" class=\"data row1 col2\" >0.08</td> \n",
       "    </tr>    <tr> \n",
       "        <th id=\"T_fb451c9d_46c1_11e8_ad8a_7429af7f125d\" class=\"row_heading level0 row2\" >Average Temperature</th> \n",
       "        <td id=\"T_fb451c9d_46c1_11e8_ad8a_7429af7f125drow2_col0\" class=\"data row2 col0\" >0.45</td> \n",
       "        <td id=\"T_fb451c9d_46c1_11e8_ad8a_7429af7f125drow2_col1\" class=\"data row2 col1\" >0.08</td> \n",
       "        <td id=\"T_fb451c9d_46c1_11e8_ad8a_7429af7f125drow2_col2\" class=\"data row2 col2\" >1.0</td> \n",
       "    </tr></tbody> \n",
       "</table> "
      ],
      "text/plain": [
       "<pandas.io.formats.style.Styler at 0x7f1625ef3128>"
      ]
     },
     "execution_count": 37,
     "metadata": {},
     "output_type": "execute_result"
    }
   ],
   "source": [
    "# Kendall\n",
    "correlation_finder(KENDALL, data)"
   ]
  },
  {
   "cell_type": "code",
   "execution_count": 38,
   "metadata": {},
   "outputs": [
    {
     "data": {
      "text/html": [
       "<style  type=\"text/css\" >\n",
       "    #T_fb451c9e_46c1_11e8_ad8a_7429af7f125drow0_col0 {\n",
       "            background-color:  #fc7f00;\n",
       "        }    #T_fb451c9e_46c1_11e8_ad8a_7429af7f125drow0_col1 {\n",
       "            background-color:  #ffe015;\n",
       "        }    #T_fb451c9e_46c1_11e8_ad8a_7429af7f125drow0_col2 {\n",
       "            background-color:  #ffb100;\n",
       "        }    #T_fb451c9e_46c1_11e8_ad8a_7429af7f125drow1_col0 {\n",
       "            background-color:  #e4ff7a;\n",
       "        }    #T_fb451c9e_46c1_11e8_ad8a_7429af7f125drow1_col1 {\n",
       "            background-color:  #fc7f00;\n",
       "        }    #T_fb451c9e_46c1_11e8_ad8a_7429af7f125drow1_col2 {\n",
       "            background-color:  #e4ff7a;\n",
       "        }    #T_fb451c9e_46c1_11e8_ad8a_7429af7f125drow2_col0 {\n",
       "            background-color:  #ffc807;\n",
       "        }    #T_fb451c9e_46c1_11e8_ad8a_7429af7f125drow2_col1 {\n",
       "            background-color:  #e4ff7a;\n",
       "        }    #T_fb451c9e_46c1_11e8_ad8a_7429af7f125drow2_col2 {\n",
       "            background-color:  #fc7f00;\n",
       "        }</style>  \n",
       "<table id=\"T_fb451c9e_46c1_11e8_ad8a_7429af7f125d\" > \n",
       "<thead>    <tr> \n",
       "        <th class=\"blank level0\" ></th> \n",
       "        <th class=\"col_heading level0 col0\" >Value</th> \n",
       "        <th class=\"col_heading level0 col1\" >Average Precipitation</th> \n",
       "        <th class=\"col_heading level0 col2\" >Average Temperature</th> \n",
       "    </tr></thead> \n",
       "<tbody>    <tr> \n",
       "        <th id=\"T_fb451c9e_46c1_11e8_ad8a_7429af7f125d\" class=\"row_heading level0 row0\" >Value</th> \n",
       "        <td id=\"T_fb451c9e_46c1_11e8_ad8a_7429af7f125drow0_col0\" class=\"data row0 col0\" >1.0</td> \n",
       "        <td id=\"T_fb451c9e_46c1_11e8_ad8a_7429af7f125drow0_col1\" class=\"data row0 col1\" >0.39</td> \n",
       "        <td id=\"T_fb451c9e_46c1_11e8_ad8a_7429af7f125drow0_col2\" class=\"data row0 col2\" >0.65</td> \n",
       "    </tr>    <tr> \n",
       "        <th id=\"T_fb451c9e_46c1_11e8_ad8a_7429af7f125d\" class=\"row_heading level0 row1\" >Average Precipitation</th> \n",
       "        <td id=\"T_fb451c9e_46c1_11e8_ad8a_7429af7f125drow1_col0\" class=\"data row1 col0\" >0.39</td> \n",
       "        <td id=\"T_fb451c9e_46c1_11e8_ad8a_7429af7f125drow1_col1\" class=\"data row1 col1\" >1.0</td> \n",
       "        <td id=\"T_fb451c9e_46c1_11e8_ad8a_7429af7f125drow1_col2\" class=\"data row1 col2\" >0.12</td> \n",
       "    </tr>    <tr> \n",
       "        <th id=\"T_fb451c9e_46c1_11e8_ad8a_7429af7f125d\" class=\"row_heading level0 row2\" >Average Temperature</th> \n",
       "        <td id=\"T_fb451c9e_46c1_11e8_ad8a_7429af7f125drow2_col0\" class=\"data row2 col0\" >0.65</td> \n",
       "        <td id=\"T_fb451c9e_46c1_11e8_ad8a_7429af7f125drow2_col1\" class=\"data row2 col1\" >0.12</td> \n",
       "        <td id=\"T_fb451c9e_46c1_11e8_ad8a_7429af7f125drow2_col2\" class=\"data row2 col2\" >1.0</td> \n",
       "    </tr></tbody> \n",
       "</table> "
      ],
      "text/plain": [
       "<pandas.io.formats.style.Styler at 0x7f1625ef3358>"
      ]
     },
     "execution_count": 38,
     "metadata": {},
     "output_type": "execute_result"
    }
   ],
   "source": [
    "# Spearman\n",
    "correlation_finder(SPEARMAN, data)"
   ]
  },
  {
   "cell_type": "markdown",
   "metadata": {},
   "source": [
    "#### Peas- Pigeon"
   ]
  },
  {
   "cell_type": "code",
   "execution_count": 39,
   "metadata": {
    "collapsed": true
   },
   "outputs": [],
   "source": [
    "# data path\n",
    "data_path = CORE_DATA_PATH + \"pigeon_peas_precip_temp(1991-2014).csv\"\n",
    "\n",
    "# read data\n",
    "data = read_data(data_path)"
   ]
  },
  {
   "cell_type": "code",
   "execution_count": 40,
   "metadata": {},
   "outputs": [
    {
     "data": {
      "text/html": [
       "<style  type=\"text/css\" >\n",
       "    #T_fb451c9f_46c1_11e8_ad8a_7429af7f125drow0_col0 {\n",
       "            background-color:  #fc7f00;\n",
       "        }    #T_fb451c9f_46c1_11e8_ad8a_7429af7f125drow0_col1 {\n",
       "            background-color:  #e4ff7a;\n",
       "        }    #T_fb451c9f_46c1_11e8_ad8a_7429af7f125drow0_col2 {\n",
       "            background-color:  #e4ff7a;\n",
       "        }    #T_fb451c9f_46c1_11e8_ad8a_7429af7f125drow1_col0 {\n",
       "            background-color:  #e4ff7a;\n",
       "        }    #T_fb451c9f_46c1_11e8_ad8a_7429af7f125drow1_col1 {\n",
       "            background-color:  #fc7f00;\n",
       "        }    #T_fb451c9f_46c1_11e8_ad8a_7429af7f125drow1_col2 {\n",
       "            background-color:  #f0f54e;\n",
       "        }    #T_fb451c9f_46c1_11e8_ad8a_7429af7f125drow2_col0 {\n",
       "            background-color:  #faec2a;\n",
       "        }    #T_fb451c9f_46c1_11e8_ad8a_7429af7f125drow2_col1 {\n",
       "            background-color:  #ffe015;\n",
       "        }    #T_fb451c9f_46c1_11e8_ad8a_7429af7f125drow2_col2 {\n",
       "            background-color:  #fc7f00;\n",
       "        }</style>  \n",
       "<table id=\"T_fb451c9f_46c1_11e8_ad8a_7429af7f125d\" > \n",
       "<thead>    <tr> \n",
       "        <th class=\"blank level0\" ></th> \n",
       "        <th class=\"col_heading level0 col0\" >Value</th> \n",
       "        <th class=\"col_heading level0 col1\" >Average Precipitation</th> \n",
       "        <th class=\"col_heading level0 col2\" >Average Temperature</th> \n",
       "    </tr></thead> \n",
       "<tbody>    <tr> \n",
       "        <th id=\"T_fb451c9f_46c1_11e8_ad8a_7429af7f125d\" class=\"row_heading level0 row0\" >Value</th> \n",
       "        <td id=\"T_fb451c9f_46c1_11e8_ad8a_7429af7f125drow0_col0\" class=\"data row0 col0\" >1.0</td> \n",
       "        <td id=\"T_fb451c9f_46c1_11e8_ad8a_7429af7f125drow0_col1\" class=\"data row0 col1\" >-0.25</td> \n",
       "        <td id=\"T_fb451c9f_46c1_11e8_ad8a_7429af7f125drow0_col2\" class=\"data row0 col2\" >0.0076</td> \n",
       "    </tr>    <tr> \n",
       "        <th id=\"T_fb451c9f_46c1_11e8_ad8a_7429af7f125d\" class=\"row_heading level0 row1\" >Average Precipitation</th> \n",
       "        <td id=\"T_fb451c9f_46c1_11e8_ad8a_7429af7f125drow1_col0\" class=\"data row1 col0\" >-0.25</td> \n",
       "        <td id=\"T_fb451c9f_46c1_11e8_ad8a_7429af7f125drow1_col1\" class=\"data row1 col1\" >1.0</td> \n",
       "        <td id=\"T_fb451c9f_46c1_11e8_ad8a_7429af7f125drow1_col2\" class=\"data row1 col2\" >0.12</td> \n",
       "    </tr>    <tr> \n",
       "        <th id=\"T_fb451c9f_46c1_11e8_ad8a_7429af7f125d\" class=\"row_heading level0 row2\" >Average Temperature</th> \n",
       "        <td id=\"T_fb451c9f_46c1_11e8_ad8a_7429af7f125drow2_col0\" class=\"data row2 col0\" >0.0076</td> \n",
       "        <td id=\"T_fb451c9f_46c1_11e8_ad8a_7429af7f125drow2_col1\" class=\"data row2 col1\" >0.12</td> \n",
       "        <td id=\"T_fb451c9f_46c1_11e8_ad8a_7429af7f125drow2_col2\" class=\"data row2 col2\" >1.0</td> \n",
       "    </tr></tbody> \n",
       "</table> "
      ],
      "text/plain": [
       "<pandas.io.formats.style.Styler at 0x7f1625ef3a90>"
      ]
     },
     "execution_count": 40,
     "metadata": {},
     "output_type": "execute_result"
    }
   ],
   "source": [
    "# Pearson\n",
    "correlation_finder(PEARSON, data)"
   ]
  },
  {
   "cell_type": "code",
   "execution_count": 41,
   "metadata": {},
   "outputs": [
    {
     "data": {
      "text/html": [
       "<style  type=\"text/css\" >\n",
       "    #T_fb451ca0_46c1_11e8_ad8a_7429af7f125drow0_col0 {\n",
       "            background-color:  #fc7f00;\n",
       "        }    #T_fb451ca0_46c1_11e8_ad8a_7429af7f125drow0_col1 {\n",
       "            background-color:  #e4ff7a;\n",
       "        }    #T_fb451ca0_46c1_11e8_ad8a_7429af7f125drow0_col2 {\n",
       "            background-color:  #e4ff7a;\n",
       "        }    #T_fb451ca0_46c1_11e8_ad8a_7429af7f125drow1_col0 {\n",
       "            background-color:  #e4ff7a;\n",
       "        }    #T_fb451ca0_46c1_11e8_ad8a_7429af7f125drow1_col1 {\n",
       "            background-color:  #fc7f00;\n",
       "        }    #T_fb451ca0_46c1_11e8_ad8a_7429af7f125drow1_col2 {\n",
       "            background-color:  #e4ff7a;\n",
       "        }    #T_fb451ca0_46c1_11e8_ad8a_7429af7f125drow2_col0 {\n",
       "            background-color:  #f0f550;\n",
       "        }    #T_fb451ca0_46c1_11e8_ad8a_7429af7f125drow2_col1 {\n",
       "            background-color:  #f0f54e;\n",
       "        }    #T_fb451ca0_46c1_11e8_ad8a_7429af7f125drow2_col2 {\n",
       "            background-color:  #fc7f00;\n",
       "        }</style>  \n",
       "<table id=\"T_fb451ca0_46c1_11e8_ad8a_7429af7f125d\" > \n",
       "<thead>    <tr> \n",
       "        <th class=\"blank level0\" ></th> \n",
       "        <th class=\"col_heading level0 col0\" >Value</th> \n",
       "        <th class=\"col_heading level0 col1\" >Average Precipitation</th> \n",
       "        <th class=\"col_heading level0 col2\" >Average Temperature</th> \n",
       "    </tr></thead> \n",
       "<tbody>    <tr> \n",
       "        <th id=\"T_fb451ca0_46c1_11e8_ad8a_7429af7f125d\" class=\"row_heading level0 row0\" >Value</th> \n",
       "        <td id=\"T_fb451ca0_46c1_11e8_ad8a_7429af7f125drow0_col0\" class=\"data row0 col0\" >1.0</td> \n",
       "        <td id=\"T_fb451ca0_46c1_11e8_ad8a_7429af7f125drow0_col1\" class=\"data row0 col1\" >-0.04</td> \n",
       "        <td id=\"T_fb451ca0_46c1_11e8_ad8a_7429af7f125drow0_col2\" class=\"data row0 col2\" >0.077</td> \n",
       "    </tr>    <tr> \n",
       "        <th id=\"T_fb451ca0_46c1_11e8_ad8a_7429af7f125d\" class=\"row_heading level0 row1\" >Average Precipitation</th> \n",
       "        <td id=\"T_fb451ca0_46c1_11e8_ad8a_7429af7f125drow1_col0\" class=\"data row1 col0\" >-0.04</td> \n",
       "        <td id=\"T_fb451ca0_46c1_11e8_ad8a_7429af7f125drow1_col1\" class=\"data row1 col1\" >1.0</td> \n",
       "        <td id=\"T_fb451ca0_46c1_11e8_ad8a_7429af7f125drow1_col2\" class=\"data row1 col2\" >0.08</td> \n",
       "    </tr>    <tr> \n",
       "        <th id=\"T_fb451ca0_46c1_11e8_ad8a_7429af7f125d\" class=\"row_heading level0 row2\" >Average Temperature</th> \n",
       "        <td id=\"T_fb451ca0_46c1_11e8_ad8a_7429af7f125drow2_col0\" class=\"data row2 col0\" >0.077</td> \n",
       "        <td id=\"T_fb451ca0_46c1_11e8_ad8a_7429af7f125drow2_col1\" class=\"data row2 col1\" >0.08</td> \n",
       "        <td id=\"T_fb451ca0_46c1_11e8_ad8a_7429af7f125drow2_col2\" class=\"data row2 col2\" >1.0</td> \n",
       "    </tr></tbody> \n",
       "</table> "
      ],
      "text/plain": [
       "<pandas.io.formats.style.Styler at 0x7f1625ee2be0>"
      ]
     },
     "execution_count": 41,
     "metadata": {},
     "output_type": "execute_result"
    }
   ],
   "source": [
    "# Kendall\n",
    "correlation_finder(KENDALL, data)"
   ]
  },
  {
   "cell_type": "code",
   "execution_count": 42,
   "metadata": {},
   "outputs": [
    {
     "data": {
      "text/html": [
       "<style  type=\"text/css\" >\n",
       "    #T_fb451ca1_46c1_11e8_ad8a_7429af7f125drow0_col0 {\n",
       "            background-color:  #fc7f00;\n",
       "        }    #T_fb451ca1_46c1_11e8_ad8a_7429af7f125drow0_col1 {\n",
       "            background-color:  #e4ff7a;\n",
       "        }    #T_fb451ca1_46c1_11e8_ad8a_7429af7f125drow0_col2 {\n",
       "            background-color:  #e5fe75;\n",
       "        }    #T_fb451ca1_46c1_11e8_ad8a_7429af7f125drow1_col0 {\n",
       "            background-color:  #e4ff7a;\n",
       "        }    #T_fb451ca1_46c1_11e8_ad8a_7429af7f125drow1_col1 {\n",
       "            background-color:  #fc7f00;\n",
       "        }    #T_fb451ca1_46c1_11e8_ad8a_7429af7f125drow1_col2 {\n",
       "            background-color:  #e4ff7a;\n",
       "        }    #T_fb451ca1_46c1_11e8_ad8a_7429af7f125drow2_col0 {\n",
       "            background-color:  #f8ee33;\n",
       "        }    #T_fb451ca1_46c1_11e8_ad8a_7429af7f125drow2_col1 {\n",
       "            background-color:  #f7ef38;\n",
       "        }    #T_fb451ca1_46c1_11e8_ad8a_7429af7f125drow2_col2 {\n",
       "            background-color:  #fc7f00;\n",
       "        }</style>  \n",
       "<table id=\"T_fb451ca1_46c1_11e8_ad8a_7429af7f125d\" > \n",
       "<thead>    <tr> \n",
       "        <th class=\"blank level0\" ></th> \n",
       "        <th class=\"col_heading level0 col0\" >Value</th> \n",
       "        <th class=\"col_heading level0 col1\" >Average Precipitation</th> \n",
       "        <th class=\"col_heading level0 col2\" >Average Temperature</th> \n",
       "    </tr></thead> \n",
       "<tbody>    <tr> \n",
       "        <th id=\"T_fb451ca1_46c1_11e8_ad8a_7429af7f125d\" class=\"row_heading level0 row0\" >Value</th> \n",
       "        <td id=\"T_fb451ca1_46c1_11e8_ad8a_7429af7f125drow0_col0\" class=\"data row0 col0\" >1.0</td> \n",
       "        <td id=\"T_fb451ca1_46c1_11e8_ad8a_7429af7f125drow0_col1\" class=\"data row0 col1\" >-0.057</td> \n",
       "        <td id=\"T_fb451ca1_46c1_11e8_ad8a_7429af7f125drow0_col2\" class=\"data row0 col2\" >0.14</td> \n",
       "    </tr>    <tr> \n",
       "        <th id=\"T_fb451ca1_46c1_11e8_ad8a_7429af7f125d\" class=\"row_heading level0 row1\" >Average Precipitation</th> \n",
       "        <td id=\"T_fb451ca1_46c1_11e8_ad8a_7429af7f125drow1_col0\" class=\"data row1 col0\" >-0.057</td> \n",
       "        <td id=\"T_fb451ca1_46c1_11e8_ad8a_7429af7f125drow1_col1\" class=\"data row1 col1\" >1.0</td> \n",
       "        <td id=\"T_fb451ca1_46c1_11e8_ad8a_7429af7f125drow1_col2\" class=\"data row1 col2\" >0.12</td> \n",
       "    </tr>    <tr> \n",
       "        <th id=\"T_fb451ca1_46c1_11e8_ad8a_7429af7f125d\" class=\"row_heading level0 row2\" >Average Temperature</th> \n",
       "        <td id=\"T_fb451ca1_46c1_11e8_ad8a_7429af7f125drow2_col0\" class=\"data row2 col0\" >0.14</td> \n",
       "        <td id=\"T_fb451ca1_46c1_11e8_ad8a_7429af7f125drow2_col1\" class=\"data row2 col1\" >0.12</td> \n",
       "        <td id=\"T_fb451ca1_46c1_11e8_ad8a_7429af7f125drow2_col2\" class=\"data row2 col2\" >1.0</td> \n",
       "    </tr></tbody> \n",
       "</table> "
      ],
      "text/plain": [
       "<pandas.io.formats.style.Styler at 0x7f1625efc240>"
      ]
     },
     "execution_count": 42,
     "metadata": {},
     "output_type": "execute_result"
    }
   ],
   "source": [
    "# Spearman\n",
    "correlation_finder(SPEARMAN, data)"
   ]
  },
  {
   "cell_type": "markdown",
   "metadata": {},
   "source": [
    "#### Potatoes"
   ]
  },
  {
   "cell_type": "code",
   "execution_count": 43,
   "metadata": {
    "collapsed": true
   },
   "outputs": [],
   "source": [
    "# data path\n",
    "data_path = CORE_DATA_PATH + \"potatoes_precip_temp(1991-2014).csv\"\n",
    "\n",
    "# read data\n",
    "data = read_data(data_path)"
   ]
  },
  {
   "cell_type": "code",
   "execution_count": 44,
   "metadata": {},
   "outputs": [
    {
     "data": {
      "text/html": [
       "<style  type=\"text/css\" >\n",
       "    #T_fc8a36b4_46c1_11e8_ad8a_7429af7f125drow0_col0 {\n",
       "            background-color:  #fc7f00;\n",
       "        }    #T_fc8a36b4_46c1_11e8_ad8a_7429af7f125drow0_col1 {\n",
       "            background-color:  #e4ff7a;\n",
       "        }    #T_fc8a36b4_46c1_11e8_ad8a_7429af7f125drow0_col2 {\n",
       "            background-color:  #edf75a;\n",
       "        }    #T_fc8a36b4_46c1_11e8_ad8a_7429af7f125drow1_col0 {\n",
       "            background-color:  #e4ff7a;\n",
       "        }    #T_fc8a36b4_46c1_11e8_ad8a_7429af7f125drow1_col1 {\n",
       "            background-color:  #fc7f00;\n",
       "        }    #T_fc8a36b4_46c1_11e8_ad8a_7429af7f125drow1_col2 {\n",
       "            background-color:  #e4ff7a;\n",
       "        }    #T_fc8a36b4_46c1_11e8_ad8a_7429af7f125drow2_col0 {\n",
       "            background-color:  #ffe015;\n",
       "        }    #T_fc8a36b4_46c1_11e8_ad8a_7429af7f125drow2_col1 {\n",
       "            background-color:  #fde920;\n",
       "        }    #T_fc8a36b4_46c1_11e8_ad8a_7429af7f125drow2_col2 {\n",
       "            background-color:  #fc7f00;\n",
       "        }</style>  \n",
       "<table id=\"T_fc8a36b4_46c1_11e8_ad8a_7429af7f125d\" > \n",
       "<thead>    <tr> \n",
       "        <th class=\"blank level0\" ></th> \n",
       "        <th class=\"col_heading level0 col0\" >Value</th> \n",
       "        <th class=\"col_heading level0 col1\" >Average Precipitation</th> \n",
       "        <th class=\"col_heading level0 col2\" >Average Temperature</th> \n",
       "    </tr></thead> \n",
       "<tbody>    <tr> \n",
       "        <th id=\"T_fc8a36b4_46c1_11e8_ad8a_7429af7f125d\" class=\"row_heading level0 row0\" >Value</th> \n",
       "        <td id=\"T_fc8a36b4_46c1_11e8_ad8a_7429af7f125drow0_col0\" class=\"data row0 col0\" >1.0</td> \n",
       "        <td id=\"T_fc8a36b4_46c1_11e8_ad8a_7429af7f125drow0_col1\" class=\"data row0 col1\" >-0.15</td> \n",
       "        <td id=\"T_fc8a36b4_46c1_11e8_ad8a_7429af7f125drow0_col2\" class=\"data row0 col2\" >0.2</td> \n",
       "    </tr>    <tr> \n",
       "        <th id=\"T_fc8a36b4_46c1_11e8_ad8a_7429af7f125d\" class=\"row_heading level0 row1\" >Average Precipitation</th> \n",
       "        <td id=\"T_fc8a36b4_46c1_11e8_ad8a_7429af7f125drow1_col0\" class=\"data row1 col0\" >-0.15</td> \n",
       "        <td id=\"T_fc8a36b4_46c1_11e8_ad8a_7429af7f125drow1_col1\" class=\"data row1 col1\" >1.0</td> \n",
       "        <td id=\"T_fc8a36b4_46c1_11e8_ad8a_7429af7f125drow1_col2\" class=\"data row1 col2\" >0.12</td> \n",
       "    </tr>    <tr> \n",
       "        <th id=\"T_fc8a36b4_46c1_11e8_ad8a_7429af7f125d\" class=\"row_heading level0 row2\" >Average Temperature</th> \n",
       "        <td id=\"T_fc8a36b4_46c1_11e8_ad8a_7429af7f125drow2_col0\" class=\"data row2 col0\" >0.2</td> \n",
       "        <td id=\"T_fc8a36b4_46c1_11e8_ad8a_7429af7f125drow2_col1\" class=\"data row2 col1\" >0.12</td> \n",
       "        <td id=\"T_fc8a36b4_46c1_11e8_ad8a_7429af7f125drow2_col2\" class=\"data row2 col2\" >1.0</td> \n",
       "    </tr></tbody> \n",
       "</table> "
      ],
      "text/plain": [
       "<pandas.io.formats.style.Styler at 0x7f1625efc6d8>"
      ]
     },
     "execution_count": 44,
     "metadata": {},
     "output_type": "execute_result"
    }
   ],
   "source": [
    "# Pearson\n",
    "correlation_finder(PEARSON, data)"
   ]
  },
  {
   "cell_type": "code",
   "execution_count": 45,
   "metadata": {},
   "outputs": [
    {
     "data": {
      "text/html": [
       "<style  type=\"text/css\" >\n",
       "    #T_fc8a36b5_46c1_11e8_ad8a_7429af7f125drow0_col0 {\n",
       "            background-color:  #fc7f00;\n",
       "        }    #T_fc8a36b5_46c1_11e8_ad8a_7429af7f125drow0_col1 {\n",
       "            background-color:  #e4ff7a;\n",
       "        }    #T_fc8a36b5_46c1_11e8_ad8a_7429af7f125drow0_col2 {\n",
       "            background-color:  #e4ff7a;\n",
       "        }    #T_fc8a36b5_46c1_11e8_ad8a_7429af7f125drow1_col0 {\n",
       "            background-color:  #e4ff7a;\n",
       "        }    #T_fc8a36b5_46c1_11e8_ad8a_7429af7f125drow1_col1 {\n",
       "            background-color:  #fc7f00;\n",
       "        }    #T_fc8a36b5_46c1_11e8_ad8a_7429af7f125drow1_col2 {\n",
       "            background-color:  #e6fd72;\n",
       "        }    #T_fc8a36b5_46c1_11e8_ad8a_7429af7f125drow2_col0 {\n",
       "            background-color:  #f3f245;\n",
       "        }    #T_fc8a36b5_46c1_11e8_ad8a_7429af7f125drow2_col1 {\n",
       "            background-color:  #f5f13e;\n",
       "        }    #T_fc8a36b5_46c1_11e8_ad8a_7429af7f125drow2_col2 {\n",
       "            background-color:  #fc7f00;\n",
       "        }</style>  \n",
       "<table id=\"T_fc8a36b5_46c1_11e8_ad8a_7429af7f125d\" > \n",
       "<thead>    <tr> \n",
       "        <th class=\"blank level0\" ></th> \n",
       "        <th class=\"col_heading level0 col0\" >Value</th> \n",
       "        <th class=\"col_heading level0 col1\" >Average Precipitation</th> \n",
       "        <th class=\"col_heading level0 col2\" >Average Temperature</th> \n",
       "    </tr></thead> \n",
       "<tbody>    <tr> \n",
       "        <th id=\"T_fc8a36b5_46c1_11e8_ad8a_7429af7f125d\" class=\"row_heading level0 row0\" >Value</th> \n",
       "        <td id=\"T_fc8a36b5_46c1_11e8_ad8a_7429af7f125drow0_col0\" class=\"data row0 col0\" >1.0</td> \n",
       "        <td id=\"T_fc8a36b5_46c1_11e8_ad8a_7429af7f125drow0_col1\" class=\"data row0 col1\" >-0.094</td> \n",
       "        <td id=\"T_fc8a36b5_46c1_11e8_ad8a_7429af7f125drow0_col2\" class=\"data row0 col2\" >0.058</td> \n",
       "    </tr>    <tr> \n",
       "        <th id=\"T_fc8a36b5_46c1_11e8_ad8a_7429af7f125d\" class=\"row_heading level0 row1\" >Average Precipitation</th> \n",
       "        <td id=\"T_fc8a36b5_46c1_11e8_ad8a_7429af7f125drow1_col0\" class=\"data row1 col0\" >-0.094</td> \n",
       "        <td id=\"T_fc8a36b5_46c1_11e8_ad8a_7429af7f125drow1_col1\" class=\"data row1 col1\" >1.0</td> \n",
       "        <td id=\"T_fc8a36b5_46c1_11e8_ad8a_7429af7f125drow1_col2\" class=\"data row1 col2\" >0.08</td> \n",
       "    </tr>    <tr> \n",
       "        <th id=\"T_fc8a36b5_46c1_11e8_ad8a_7429af7f125d\" class=\"row_heading level0 row2\" >Average Temperature</th> \n",
       "        <td id=\"T_fc8a36b5_46c1_11e8_ad8a_7429af7f125drow2_col0\" class=\"data row2 col0\" >0.058</td> \n",
       "        <td id=\"T_fc8a36b5_46c1_11e8_ad8a_7429af7f125drow2_col1\" class=\"data row2 col1\" >0.08</td> \n",
       "        <td id=\"T_fc8a36b5_46c1_11e8_ad8a_7429af7f125drow2_col2\" class=\"data row2 col2\" >1.0</td> \n",
       "    </tr></tbody> \n",
       "</table> "
      ],
      "text/plain": [
       "<pandas.io.formats.style.Styler at 0x7f1625efcac8>"
      ]
     },
     "execution_count": 45,
     "metadata": {},
     "output_type": "execute_result"
    }
   ],
   "source": [
    "# Kendall\n",
    "correlation_finder(KENDALL, data)"
   ]
  },
  {
   "cell_type": "code",
   "execution_count": 46,
   "metadata": {},
   "outputs": [
    {
     "data": {
      "text/html": [
       "<style  type=\"text/css\" >\n",
       "    #T_fc8a36b6_46c1_11e8_ad8a_7429af7f125drow0_col0 {\n",
       "            background-color:  #fc7f00;\n",
       "        }    #T_fc8a36b6_46c1_11e8_ad8a_7429af7f125drow0_col1 {\n",
       "            background-color:  #e4ff7a;\n",
       "        }    #T_fc8a36b6_46c1_11e8_ad8a_7429af7f125drow0_col2 {\n",
       "            background-color:  #e4ff7a;\n",
       "        }    #T_fc8a36b6_46c1_11e8_ad8a_7429af7f125drow1_col0 {\n",
       "            background-color:  #e4ff7a;\n",
       "        }    #T_fc8a36b6_46c1_11e8_ad8a_7429af7f125drow1_col1 {\n",
       "            background-color:  #fc7f00;\n",
       "        }    #T_fc8a36b6_46c1_11e8_ad8a_7429af7f125drow1_col2 {\n",
       "            background-color:  #e4ff7a;\n",
       "        }    #T_fc8a36b6_46c1_11e8_ad8a_7429af7f125drow2_col0 {\n",
       "            background-color:  #faed2d;\n",
       "        }    #T_fc8a36b6_46c1_11e8_ad8a_7429af7f125drow2_col1 {\n",
       "            background-color:  #faed2d;\n",
       "        }    #T_fc8a36b6_46c1_11e8_ad8a_7429af7f125drow2_col2 {\n",
       "            background-color:  #fc7f00;\n",
       "        }</style>  \n",
       "<table id=\"T_fc8a36b6_46c1_11e8_ad8a_7429af7f125d\" > \n",
       "<thead>    <tr> \n",
       "        <th class=\"blank level0\" ></th> \n",
       "        <th class=\"col_heading level0 col0\" >Value</th> \n",
       "        <th class=\"col_heading level0 col1\" >Average Precipitation</th> \n",
       "        <th class=\"col_heading level0 col2\" >Average Temperature</th> \n",
       "    </tr></thead> \n",
       "<tbody>    <tr> \n",
       "        <th id=\"T_fc8a36b6_46c1_11e8_ad8a_7429af7f125d\" class=\"row_heading level0 row0\" >Value</th> \n",
       "        <td id=\"T_fc8a36b6_46c1_11e8_ad8a_7429af7f125drow0_col0\" class=\"data row0 col0\" >1.0</td> \n",
       "        <td id=\"T_fc8a36b6_46c1_11e8_ad8a_7429af7f125drow0_col1\" class=\"data row0 col1\" >-0.097</td> \n",
       "        <td id=\"T_fc8a36b6_46c1_11e8_ad8a_7429af7f125drow0_col2\" class=\"data row0 col2\" >0.12</td> \n",
       "    </tr>    <tr> \n",
       "        <th id=\"T_fc8a36b6_46c1_11e8_ad8a_7429af7f125d\" class=\"row_heading level0 row1\" >Average Precipitation</th> \n",
       "        <td id=\"T_fc8a36b6_46c1_11e8_ad8a_7429af7f125drow1_col0\" class=\"data row1 col0\" >-0.097</td> \n",
       "        <td id=\"T_fc8a36b6_46c1_11e8_ad8a_7429af7f125drow1_col1\" class=\"data row1 col1\" >1.0</td> \n",
       "        <td id=\"T_fc8a36b6_46c1_11e8_ad8a_7429af7f125drow1_col2\" class=\"data row1 col2\" >0.12</td> \n",
       "    </tr>    <tr> \n",
       "        <th id=\"T_fc8a36b6_46c1_11e8_ad8a_7429af7f125d\" class=\"row_heading level0 row2\" >Average Temperature</th> \n",
       "        <td id=\"T_fc8a36b6_46c1_11e8_ad8a_7429af7f125drow2_col0\" class=\"data row2 col0\" >0.12</td> \n",
       "        <td id=\"T_fc8a36b6_46c1_11e8_ad8a_7429af7f125drow2_col1\" class=\"data row2 col1\" >0.12</td> \n",
       "        <td id=\"T_fc8a36b6_46c1_11e8_ad8a_7429af7f125drow2_col2\" class=\"data row2 col2\" >1.0</td> \n",
       "    </tr></tbody> \n",
       "</table> "
      ],
      "text/plain": [
       "<pandas.io.formats.style.Styler at 0x7f1625efc518>"
      ]
     },
     "execution_count": 46,
     "metadata": {},
     "output_type": "execute_result"
    }
   ],
   "source": [
    "# Spearman\n",
    "correlation_finder(SPEARMAN, data)"
   ]
  },
  {
   "cell_type": "markdown",
   "metadata": {},
   "source": [
    "#### Sesame seed"
   ]
  },
  {
   "cell_type": "code",
   "execution_count": 47,
   "metadata": {
    "collapsed": true
   },
   "outputs": [],
   "source": [
    "# data path\n",
    "data_path = CORE_DATA_PATH + \"sesame_seed_precip_temp(1991-2014).csv\"\n",
    "\n",
    "# read data\n",
    "data = read_data(data_path)"
   ]
  },
  {
   "cell_type": "code",
   "execution_count": 48,
   "metadata": {},
   "outputs": [
    {
     "data": {
      "text/html": [
       "<style  type=\"text/css\" >\n",
       "    #T_fc8a36b7_46c1_11e8_ad8a_7429af7f125drow0_col0 {\n",
       "            background-color:  #fc7f00;\n",
       "        }    #T_fc8a36b7_46c1_11e8_ad8a_7429af7f125drow0_col1 {\n",
       "            background-color:  #eef656;\n",
       "        }    #T_fc8a36b7_46c1_11e8_ad8a_7429af7f125drow0_col2 {\n",
       "            background-color:  #ffb700;\n",
       "        }    #T_fc8a36b7_46c1_11e8_ad8a_7429af7f125drow1_col0 {\n",
       "            background-color:  #e4ff7a;\n",
       "        }    #T_fc8a36b7_46c1_11e8_ad8a_7429af7f125drow1_col1 {\n",
       "            background-color:  #fc7f00;\n",
       "        }    #T_fc8a36b7_46c1_11e8_ad8a_7429af7f125drow1_col2 {\n",
       "            background-color:  #e4ff7a;\n",
       "        }    #T_fc8a36b7_46c1_11e8_ad8a_7429af7f125drow2_col0 {\n",
       "            background-color:  #ffbc00;\n",
       "        }    #T_fc8a36b7_46c1_11e8_ad8a_7429af7f125drow2_col1 {\n",
       "            background-color:  #e4ff7a;\n",
       "        }    #T_fc8a36b7_46c1_11e8_ad8a_7429af7f125drow2_col2 {\n",
       "            background-color:  #fc7f00;\n",
       "        }</style>  \n",
       "<table id=\"T_fc8a36b7_46c1_11e8_ad8a_7429af7f125d\" > \n",
       "<thead>    <tr> \n",
       "        <th class=\"blank level0\" ></th> \n",
       "        <th class=\"col_heading level0 col0\" >Value</th> \n",
       "        <th class=\"col_heading level0 col1\" >Average Precipitation</th> \n",
       "        <th class=\"col_heading level0 col2\" >Average Temperature</th> \n",
       "    </tr></thead> \n",
       "<tbody>    <tr> \n",
       "        <th id=\"T_fc8a36b7_46c1_11e8_ad8a_7429af7f125d\" class=\"row_heading level0 row0\" >Value</th> \n",
       "        <td id=\"T_fc8a36b7_46c1_11e8_ad8a_7429af7f125drow0_col0\" class=\"data row0 col0\" >1.0</td> \n",
       "        <td id=\"T_fc8a36b7_46c1_11e8_ad8a_7429af7f125drow0_col1\" class=\"data row0 col1\" >0.21</td> \n",
       "        <td id=\"T_fc8a36b7_46c1_11e8_ad8a_7429af7f125drow0_col2\" class=\"data row0 col2\" >0.61</td> \n",
       "    </tr>    <tr> \n",
       "        <th id=\"T_fc8a36b7_46c1_11e8_ad8a_7429af7f125d\" class=\"row_heading level0 row1\" >Average Precipitation</th> \n",
       "        <td id=\"T_fc8a36b7_46c1_11e8_ad8a_7429af7f125drow1_col0\" class=\"data row1 col0\" >0.21</td> \n",
       "        <td id=\"T_fc8a36b7_46c1_11e8_ad8a_7429af7f125drow1_col1\" class=\"data row1 col1\" >1.0</td> \n",
       "        <td id=\"T_fc8a36b7_46c1_11e8_ad8a_7429af7f125drow1_col2\" class=\"data row1 col2\" >0.12</td> \n",
       "    </tr>    <tr> \n",
       "        <th id=\"T_fc8a36b7_46c1_11e8_ad8a_7429af7f125d\" class=\"row_heading level0 row2\" >Average Temperature</th> \n",
       "        <td id=\"T_fc8a36b7_46c1_11e8_ad8a_7429af7f125drow2_col0\" class=\"data row2 col0\" >0.61</td> \n",
       "        <td id=\"T_fc8a36b7_46c1_11e8_ad8a_7429af7f125drow2_col1\" class=\"data row2 col1\" >0.12</td> \n",
       "        <td id=\"T_fc8a36b7_46c1_11e8_ad8a_7429af7f125drow2_col2\" class=\"data row2 col2\" >1.0</td> \n",
       "    </tr></tbody> \n",
       "</table> "
      ],
      "text/plain": [
       "<pandas.io.formats.style.Styler at 0x7f1625efc9e8>"
      ]
     },
     "execution_count": 48,
     "metadata": {},
     "output_type": "execute_result"
    }
   ],
   "source": [
    "# Pearson\n",
    "correlation_finder(PEARSON, data)"
   ]
  },
  {
   "cell_type": "code",
   "execution_count": 49,
   "metadata": {},
   "outputs": [
    {
     "data": {
      "text/html": [
       "<style  type=\"text/css\" >\n",
       "    #T_fc8a36b8_46c1_11e8_ad8a_7429af7f125drow0_col0 {\n",
       "            background-color:  #fc7f00;\n",
       "        }    #T_fc8a36b8_46c1_11e8_ad8a_7429af7f125drow0_col1 {\n",
       "            background-color:  #f1f44d;\n",
       "        }    #T_fc8a36b8_46c1_11e8_ad8a_7429af7f125drow0_col2 {\n",
       "            background-color:  #ffce0a;\n",
       "        }    #T_fc8a36b8_46c1_11e8_ad8a_7429af7f125drow1_col0 {\n",
       "            background-color:  #e4ff7a;\n",
       "        }    #T_fc8a36b8_46c1_11e8_ad8a_7429af7f125drow1_col1 {\n",
       "            background-color:  #fc7f00;\n",
       "        }    #T_fc8a36b8_46c1_11e8_ad8a_7429af7f125drow1_col2 {\n",
       "            background-color:  #e4ff7a;\n",
       "        }    #T_fc8a36b8_46c1_11e8_ad8a_7429af7f125drow2_col0 {\n",
       "            background-color:  #ffdc13;\n",
       "        }    #T_fc8a36b8_46c1_11e8_ad8a_7429af7f125drow2_col1 {\n",
       "            background-color:  #e4ff7a;\n",
       "        }    #T_fc8a36b8_46c1_11e8_ad8a_7429af7f125drow2_col2 {\n",
       "            background-color:  #fc7f00;\n",
       "        }</style>  \n",
       "<table id=\"T_fc8a36b8_46c1_11e8_ad8a_7429af7f125d\" > \n",
       "<thead>    <tr> \n",
       "        <th class=\"blank level0\" ></th> \n",
       "        <th class=\"col_heading level0 col0\" >Value</th> \n",
       "        <th class=\"col_heading level0 col1\" >Average Precipitation</th> \n",
       "        <th class=\"col_heading level0 col2\" >Average Temperature</th> \n",
       "    </tr></thead> \n",
       "<tbody>    <tr> \n",
       "        <th id=\"T_fc8a36b8_46c1_11e8_ad8a_7429af7f125d\" class=\"row_heading level0 row0\" >Value</th> \n",
       "        <td id=\"T_fc8a36b8_46c1_11e8_ad8a_7429af7f125drow0_col0\" class=\"data row0 col0\" >1.0</td> \n",
       "        <td id=\"T_fc8a36b8_46c1_11e8_ad8a_7429af7f125drow0_col1\" class=\"data row0 col1\" >0.19</td> \n",
       "        <td id=\"T_fc8a36b8_46c1_11e8_ad8a_7429af7f125drow0_col2\" class=\"data row0 col2\" >0.45</td> \n",
       "    </tr>    <tr> \n",
       "        <th id=\"T_fc8a36b8_46c1_11e8_ad8a_7429af7f125d\" class=\"row_heading level0 row1\" >Average Precipitation</th> \n",
       "        <td id=\"T_fc8a36b8_46c1_11e8_ad8a_7429af7f125drow1_col0\" class=\"data row1 col0\" >0.19</td> \n",
       "        <td id=\"T_fc8a36b8_46c1_11e8_ad8a_7429af7f125drow1_col1\" class=\"data row1 col1\" >1.0</td> \n",
       "        <td id=\"T_fc8a36b8_46c1_11e8_ad8a_7429af7f125drow1_col2\" class=\"data row1 col2\" >0.08</td> \n",
       "    </tr>    <tr> \n",
       "        <th id=\"T_fc8a36b8_46c1_11e8_ad8a_7429af7f125d\" class=\"row_heading level0 row2\" >Average Temperature</th> \n",
       "        <td id=\"T_fc8a36b8_46c1_11e8_ad8a_7429af7f125drow2_col0\" class=\"data row2 col0\" >0.45</td> \n",
       "        <td id=\"T_fc8a36b8_46c1_11e8_ad8a_7429af7f125drow2_col1\" class=\"data row2 col1\" >0.08</td> \n",
       "        <td id=\"T_fc8a36b8_46c1_11e8_ad8a_7429af7f125drow2_col2\" class=\"data row2 col2\" >1.0</td> \n",
       "    </tr></tbody> \n",
       "</table> "
      ],
      "text/plain": [
       "<pandas.io.formats.style.Styler at 0x7f1625f0e4a8>"
      ]
     },
     "execution_count": 49,
     "metadata": {},
     "output_type": "execute_result"
    }
   ],
   "source": [
    "# Kendall\n",
    "correlation_finder(KENDALL, data)"
   ]
  },
  {
   "cell_type": "code",
   "execution_count": 50,
   "metadata": {},
   "outputs": [
    {
     "data": {
      "text/html": [
       "<style  type=\"text/css\" >\n",
       "    #T_fc8a36b9_46c1_11e8_ad8a_7429af7f125drow0_col0 {\n",
       "            background-color:  #fc7f00;\n",
       "        }    #T_fc8a36b9_46c1_11e8_ad8a_7429af7f125drow0_col1 {\n",
       "            background-color:  #f6f03b;\n",
       "        }    #T_fc8a36b9_46c1_11e8_ad8a_7429af7f125drow0_col2 {\n",
       "            background-color:  #ffb400;\n",
       "        }    #T_fc8a36b9_46c1_11e8_ad8a_7429af7f125drow1_col0 {\n",
       "            background-color:  #e4ff7a;\n",
       "        }    #T_fc8a36b9_46c1_11e8_ad8a_7429af7f125drow1_col1 {\n",
       "            background-color:  #fc7f00;\n",
       "        }    #T_fc8a36b9_46c1_11e8_ad8a_7429af7f125drow1_col2 {\n",
       "            background-color:  #e4ff7a;\n",
       "        }    #T_fc8a36b9_46c1_11e8_ad8a_7429af7f125drow2_col0 {\n",
       "            background-color:  #ffbd00;\n",
       "        }    #T_fc8a36b9_46c1_11e8_ad8a_7429af7f125drow2_col1 {\n",
       "            background-color:  #e4ff7a;\n",
       "        }    #T_fc8a36b9_46c1_11e8_ad8a_7429af7f125drow2_col2 {\n",
       "            background-color:  #fc7f00;\n",
       "        }</style>  \n",
       "<table id=\"T_fc8a36b9_46c1_11e8_ad8a_7429af7f125d\" > \n",
       "<thead>    <tr> \n",
       "        <th class=\"blank level0\" ></th> \n",
       "        <th class=\"col_heading level0 col0\" >Value</th> \n",
       "        <th class=\"col_heading level0 col1\" >Average Precipitation</th> \n",
       "        <th class=\"col_heading level0 col2\" >Average Temperature</th> \n",
       "    </tr></thead> \n",
       "<tbody>    <tr> \n",
       "        <th id=\"T_fc8a36b9_46c1_11e8_ad8a_7429af7f125d\" class=\"row_heading level0 row0\" >Value</th> \n",
       "        <td id=\"T_fc8a36b9_46c1_11e8_ad8a_7429af7f125drow0_col0\" class=\"data row0 col0\" >1.0</td> \n",
       "        <td id=\"T_fc8a36b9_46c1_11e8_ad8a_7429af7f125drow0_col1\" class=\"data row0 col1\" >0.27</td> \n",
       "        <td id=\"T_fc8a36b9_46c1_11e8_ad8a_7429af7f125drow0_col2\" class=\"data row0 col2\" >0.63</td> \n",
       "    </tr>    <tr> \n",
       "        <th id=\"T_fc8a36b9_46c1_11e8_ad8a_7429af7f125d\" class=\"row_heading level0 row1\" >Average Precipitation</th> \n",
       "        <td id=\"T_fc8a36b9_46c1_11e8_ad8a_7429af7f125drow1_col0\" class=\"data row1 col0\" >0.27</td> \n",
       "        <td id=\"T_fc8a36b9_46c1_11e8_ad8a_7429af7f125drow1_col1\" class=\"data row1 col1\" >1.0</td> \n",
       "        <td id=\"T_fc8a36b9_46c1_11e8_ad8a_7429af7f125drow1_col2\" class=\"data row1 col2\" >0.12</td> \n",
       "    </tr>    <tr> \n",
       "        <th id=\"T_fc8a36b9_46c1_11e8_ad8a_7429af7f125d\" class=\"row_heading level0 row2\" >Average Temperature</th> \n",
       "        <td id=\"T_fc8a36b9_46c1_11e8_ad8a_7429af7f125drow2_col0\" class=\"data row2 col0\" >0.63</td> \n",
       "        <td id=\"T_fc8a36b9_46c1_11e8_ad8a_7429af7f125drow2_col1\" class=\"data row2 col1\" >0.12</td> \n",
       "        <td id=\"T_fc8a36b9_46c1_11e8_ad8a_7429af7f125drow2_col2\" class=\"data row2 col2\" >1.0</td> \n",
       "    </tr></tbody> \n",
       "</table> "
      ],
      "text/plain": [
       "<pandas.io.formats.style.Styler at 0x7f1625f0ea58>"
      ]
     },
     "execution_count": 50,
     "metadata": {},
     "output_type": "execute_result"
    }
   ],
   "source": [
    "# Spearman\n",
    "correlation_finder(SPEARMAN, data)"
   ]
  },
  {
   "cell_type": "markdown",
   "metadata": {},
   "source": [
    "#### Sorghum"
   ]
  },
  {
   "cell_type": "code",
   "execution_count": 51,
   "metadata": {
    "collapsed": true
   },
   "outputs": [],
   "source": [
    "# data path\n",
    "data_path = CORE_DATA_PATH + \"sorghum_precip_temp(1991-2014).csv\"\n",
    "\n",
    "# read data\n",
    "data = read_data(data_path)"
   ]
  },
  {
   "cell_type": "code",
   "execution_count": 52,
   "metadata": {},
   "outputs": [
    {
     "data": {
      "text/html": [
       "<style  type=\"text/css\" >\n",
       "    #T_fdad9b30_46c1_11e8_ad8a_7429af7f125drow0_col0 {\n",
       "            background-color:  #fc7f00;\n",
       "        }    #T_fdad9b30_46c1_11e8_ad8a_7429af7f125drow0_col1 {\n",
       "            background-color:  #e4ff7a;\n",
       "        }    #T_fdad9b30_46c1_11e8_ad8a_7429af7f125drow0_col2 {\n",
       "            background-color:  #f8ee33;\n",
       "        }    #T_fdad9b30_46c1_11e8_ad8a_7429af7f125drow1_col0 {\n",
       "            background-color:  #e4ff7a;\n",
       "        }    #T_fdad9b30_46c1_11e8_ad8a_7429af7f125drow1_col1 {\n",
       "            background-color:  #fc7f00;\n",
       "        }    #T_fdad9b30_46c1_11e8_ad8a_7429af7f125drow1_col2 {\n",
       "            background-color:  #e4ff7a;\n",
       "        }    #T_fdad9b30_46c1_11e8_ad8a_7429af7f125drow2_col0 {\n",
       "            background-color:  #ffd50e;\n",
       "        }    #T_fdad9b30_46c1_11e8_ad8a_7429af7f125drow2_col1 {\n",
       "            background-color:  #fbeb27;\n",
       "        }    #T_fdad9b30_46c1_11e8_ad8a_7429af7f125drow2_col2 {\n",
       "            background-color:  #fc7f00;\n",
       "        }</style>  \n",
       "<table id=\"T_fdad9b30_46c1_11e8_ad8a_7429af7f125d\" > \n",
       "<thead>    <tr> \n",
       "        <th class=\"blank level0\" ></th> \n",
       "        <th class=\"col_heading level0 col0\" >Value</th> \n",
       "        <th class=\"col_heading level0 col1\" >Average Precipitation</th> \n",
       "        <th class=\"col_heading level0 col2\" >Average Temperature</th> \n",
       "    </tr></thead> \n",
       "<tbody>    <tr> \n",
       "        <th id=\"T_fdad9b30_46c1_11e8_ad8a_7429af7f125d\" class=\"row_heading level0 row0\" >Value</th> \n",
       "        <td id=\"T_fdad9b30_46c1_11e8_ad8a_7429af7f125drow0_col0\" class=\"data row0 col0\" >1.0</td> \n",
       "        <td id=\"T_fdad9b30_46c1_11e8_ad8a_7429af7f125drow0_col1\" class=\"data row0 col1\" >-0.12</td> \n",
       "        <td id=\"T_fdad9b30_46c1_11e8_ad8a_7429af7f125drow0_col2\" class=\"data row0 col2\" >0.28</td> \n",
       "    </tr>    <tr> \n",
       "        <th id=\"T_fdad9b30_46c1_11e8_ad8a_7429af7f125d\" class=\"row_heading level0 row1\" >Average Precipitation</th> \n",
       "        <td id=\"T_fdad9b30_46c1_11e8_ad8a_7429af7f125drow1_col0\" class=\"data row1 col0\" >-0.12</td> \n",
       "        <td id=\"T_fdad9b30_46c1_11e8_ad8a_7429af7f125drow1_col1\" class=\"data row1 col1\" >1.0</td> \n",
       "        <td id=\"T_fdad9b30_46c1_11e8_ad8a_7429af7f125drow1_col2\" class=\"data row1 col2\" >0.12</td> \n",
       "    </tr>    <tr> \n",
       "        <th id=\"T_fdad9b30_46c1_11e8_ad8a_7429af7f125d\" class=\"row_heading level0 row2\" >Average Temperature</th> \n",
       "        <td id=\"T_fdad9b30_46c1_11e8_ad8a_7429af7f125drow2_col0\" class=\"data row2 col0\" >0.28</td> \n",
       "        <td id=\"T_fdad9b30_46c1_11e8_ad8a_7429af7f125drow2_col1\" class=\"data row2 col1\" >0.12</td> \n",
       "        <td id=\"T_fdad9b30_46c1_11e8_ad8a_7429af7f125drow2_col2\" class=\"data row2 col2\" >1.0</td> \n",
       "    </tr></tbody> \n",
       "</table> "
      ],
      "text/plain": [
       "<pandas.io.formats.style.Styler at 0x7f1625f0ecf8>"
      ]
     },
     "execution_count": 52,
     "metadata": {},
     "output_type": "execute_result"
    }
   ],
   "source": [
    "# Pearson\n",
    "correlation_finder(PEARSON, data)"
   ]
  },
  {
   "cell_type": "code",
   "execution_count": 53,
   "metadata": {},
   "outputs": [
    {
     "data": {
      "text/html": [
       "<style  type=\"text/css\" >\n",
       "    #T_fdad9b31_46c1_11e8_ad8a_7429af7f125drow0_col0 {\n",
       "            background-color:  #fc7f00;\n",
       "        }    #T_fdad9b31_46c1_11e8_ad8a_7429af7f125drow0_col1 {\n",
       "            background-color:  #e4ff7a;\n",
       "        }    #T_fdad9b31_46c1_11e8_ad8a_7429af7f125drow0_col2 {\n",
       "            background-color:  #f4f141;\n",
       "        }    #T_fdad9b31_46c1_11e8_ad8a_7429af7f125drow1_col0 {\n",
       "            background-color:  #e4ff7a;\n",
       "        }    #T_fdad9b31_46c1_11e8_ad8a_7429af7f125drow1_col1 {\n",
       "            background-color:  #fc7f00;\n",
       "        }    #T_fdad9b31_46c1_11e8_ad8a_7429af7f125drow1_col2 {\n",
       "            background-color:  #e4ff7a;\n",
       "        }    #T_fdad9b31_46c1_11e8_ad8a_7429af7f125drow2_col0 {\n",
       "            background-color:  #f5f03c;\n",
       "        }    #T_fdad9b31_46c1_11e8_ad8a_7429af7f125drow2_col1 {\n",
       "            background-color:  #e5fe75;\n",
       "        }    #T_fdad9b31_46c1_11e8_ad8a_7429af7f125drow2_col2 {\n",
       "            background-color:  #fc7f00;\n",
       "        }</style>  \n",
       "<table id=\"T_fdad9b31_46c1_11e8_ad8a_7429af7f125d\" > \n",
       "<thead>    <tr> \n",
       "        <th class=\"blank level0\" ></th> \n",
       "        <th class=\"col_heading level0 col0\" >Value</th> \n",
       "        <th class=\"col_heading level0 col1\" >Average Precipitation</th> \n",
       "        <th class=\"col_heading level0 col2\" >Average Temperature</th> \n",
       "    </tr></thead> \n",
       "<tbody>    <tr> \n",
       "        <th id=\"T_fdad9b31_46c1_11e8_ad8a_7429af7f125d\" class=\"row_heading level0 row0\" >Value</th> \n",
       "        <td id=\"T_fdad9b31_46c1_11e8_ad8a_7429af7f125drow0_col0\" class=\"data row0 col0\" >1.0</td> \n",
       "        <td id=\"T_fdad9b31_46c1_11e8_ad8a_7429af7f125drow0_col1\" class=\"data row0 col1\" >0.065</td> \n",
       "        <td id=\"T_fdad9b31_46c1_11e8_ad8a_7429af7f125drow0_col2\" class=\"data row0 col2\" >0.22</td> \n",
       "    </tr>    <tr> \n",
       "        <th id=\"T_fdad9b31_46c1_11e8_ad8a_7429af7f125d\" class=\"row_heading level0 row1\" >Average Precipitation</th> \n",
       "        <td id=\"T_fdad9b31_46c1_11e8_ad8a_7429af7f125drow1_col0\" class=\"data row1 col0\" >0.065</td> \n",
       "        <td id=\"T_fdad9b31_46c1_11e8_ad8a_7429af7f125drow1_col1\" class=\"data row1 col1\" >1.0</td> \n",
       "        <td id=\"T_fdad9b31_46c1_11e8_ad8a_7429af7f125drow1_col2\" class=\"data row1 col2\" >0.08</td> \n",
       "    </tr>    <tr> \n",
       "        <th id=\"T_fdad9b31_46c1_11e8_ad8a_7429af7f125d\" class=\"row_heading level0 row2\" >Average Temperature</th> \n",
       "        <td id=\"T_fdad9b31_46c1_11e8_ad8a_7429af7f125drow2_col0\" class=\"data row2 col0\" >0.22</td> \n",
       "        <td id=\"T_fdad9b31_46c1_11e8_ad8a_7429af7f125drow2_col1\" class=\"data row2 col1\" >0.08</td> \n",
       "        <td id=\"T_fdad9b31_46c1_11e8_ad8a_7429af7f125drow2_col2\" class=\"data row2 col2\" >1.0</td> \n",
       "    </tr></tbody> \n",
       "</table> "
      ],
      "text/plain": [
       "<pandas.io.formats.style.Styler at 0x7f1625e9f358>"
      ]
     },
     "execution_count": 53,
     "metadata": {},
     "output_type": "execute_result"
    }
   ],
   "source": [
    "# Kendall\n",
    "correlation_finder(KENDALL, data)"
   ]
  },
  {
   "cell_type": "code",
   "execution_count": 54,
   "metadata": {},
   "outputs": [
    {
     "data": {
      "text/html": [
       "<style  type=\"text/css\" >\n",
       "    #T_fdad9b32_46c1_11e8_ad8a_7429af7f125drow0_col0 {\n",
       "            background-color:  #fc7f00;\n",
       "        }    #T_fdad9b32_46c1_11e8_ad8a_7429af7f125drow0_col1 {\n",
       "            background-color:  #e4ff7a;\n",
       "        }    #T_fdad9b32_46c1_11e8_ad8a_7429af7f125drow0_col2 {\n",
       "            background-color:  #ffe216;\n",
       "        }    #T_fdad9b32_46c1_11e8_ad8a_7429af7f125drow1_col0 {\n",
       "            background-color:  #e4ff7a;\n",
       "        }    #T_fdad9b32_46c1_11e8_ad8a_7429af7f125drow1_col1 {\n",
       "            background-color:  #fc7f00;\n",
       "        }    #T_fdad9b32_46c1_11e8_ad8a_7429af7f125drow1_col2 {\n",
       "            background-color:  #e4ff7a;\n",
       "        }    #T_fdad9b32_46c1_11e8_ad8a_7429af7f125drow2_col0 {\n",
       "            background-color:  #ffd710;\n",
       "        }    #T_fdad9b32_46c1_11e8_ad8a_7429af7f125drow2_col1 {\n",
       "            background-color:  #edf75a;\n",
       "        }    #T_fdad9b32_46c1_11e8_ad8a_7429af7f125drow2_col2 {\n",
       "            background-color:  #fc7f00;\n",
       "        }</style>  \n",
       "<table id=\"T_fdad9b32_46c1_11e8_ad8a_7429af7f125d\" > \n",
       "<thead>    <tr> \n",
       "        <th class=\"blank level0\" ></th> \n",
       "        <th class=\"col_heading level0 col0\" >Value</th> \n",
       "        <th class=\"col_heading level0 col1\" >Average Precipitation</th> \n",
       "        <th class=\"col_heading level0 col2\" >Average Temperature</th> \n",
       "    </tr></thead> \n",
       "<tbody>    <tr> \n",
       "        <th id=\"T_fdad9b32_46c1_11e8_ad8a_7429af7f125d\" class=\"row_heading level0 row0\" >Value</th> \n",
       "        <td id=\"T_fdad9b32_46c1_11e8_ad8a_7429af7f125drow0_col0\" class=\"data row0 col0\" >1.0</td> \n",
       "        <td id=\"T_fdad9b32_46c1_11e8_ad8a_7429af7f125drow0_col1\" class=\"data row0 col1\" >0.043</td> \n",
       "        <td id=\"T_fdad9b32_46c1_11e8_ad8a_7429af7f125drow0_col2\" class=\"data row0 col2\" >0.38</td> \n",
       "    </tr>    <tr> \n",
       "        <th id=\"T_fdad9b32_46c1_11e8_ad8a_7429af7f125d\" class=\"row_heading level0 row1\" >Average Precipitation</th> \n",
       "        <td id=\"T_fdad9b32_46c1_11e8_ad8a_7429af7f125drow1_col0\" class=\"data row1 col0\" >0.043</td> \n",
       "        <td id=\"T_fdad9b32_46c1_11e8_ad8a_7429af7f125drow1_col1\" class=\"data row1 col1\" >1.0</td> \n",
       "        <td id=\"T_fdad9b32_46c1_11e8_ad8a_7429af7f125drow1_col2\" class=\"data row1 col2\" >0.12</td> \n",
       "    </tr>    <tr> \n",
       "        <th id=\"T_fdad9b32_46c1_11e8_ad8a_7429af7f125d\" class=\"row_heading level0 row2\" >Average Temperature</th> \n",
       "        <td id=\"T_fdad9b32_46c1_11e8_ad8a_7429af7f125drow2_col0\" class=\"data row2 col0\" >0.38</td> \n",
       "        <td id=\"T_fdad9b32_46c1_11e8_ad8a_7429af7f125drow2_col1\" class=\"data row2 col1\" >0.12</td> \n",
       "        <td id=\"T_fdad9b32_46c1_11e8_ad8a_7429af7f125drow2_col2\" class=\"data row2 col2\" >1.0</td> \n",
       "    </tr></tbody> \n",
       "</table> "
      ],
      "text/plain": [
       "<pandas.io.formats.style.Styler at 0x7f1625e9f6a0>"
      ]
     },
     "execution_count": 54,
     "metadata": {},
     "output_type": "execute_result"
    }
   ],
   "source": [
    "# Spearman\n",
    "correlation_finder(SPEARMAN, data)"
   ]
  },
  {
   "cell_type": "markdown",
   "metadata": {},
   "source": [
    "#### Soy Beans"
   ]
  },
  {
   "cell_type": "code",
   "execution_count": 55,
   "metadata": {
    "collapsed": true
   },
   "outputs": [],
   "source": [
    "# data path\n",
    "data_path = CORE_DATA_PATH + \"soy_beans_precip_temp(1991-2014).csv\"\n",
    "\n",
    "# read data\n",
    "data = read_data(data_path)"
   ]
  },
  {
   "cell_type": "code",
   "execution_count": 56,
   "metadata": {},
   "outputs": [
    {
     "data": {
      "text/html": [
       "<style  type=\"text/css\" >\n",
       "    #T_fdad9b33_46c1_11e8_ad8a_7429af7f125drow0_col0 {\n",
       "            background-color:  #fc7f00;\n",
       "        }    #T_fdad9b33_46c1_11e8_ad8a_7429af7f125drow0_col1 {\n",
       "            background-color:  #e4ff7a;\n",
       "        }    #T_fdad9b33_46c1_11e8_ad8a_7429af7f125drow0_col2 {\n",
       "            background-color:  #f7ef38;\n",
       "        }    #T_fdad9b33_46c1_11e8_ad8a_7429af7f125drow1_col0 {\n",
       "            background-color:  #e4ff7a;\n",
       "        }    #T_fdad9b33_46c1_11e8_ad8a_7429af7f125drow1_col1 {\n",
       "            background-color:  #fc7f00;\n",
       "        }    #T_fdad9b33_46c1_11e8_ad8a_7429af7f125drow1_col2 {\n",
       "            background-color:  #e4ff7a;\n",
       "        }    #T_fdad9b33_46c1_11e8_ad8a_7429af7f125drow2_col0 {\n",
       "            background-color:  #ffd50e;\n",
       "        }    #T_fdad9b33_46c1_11e8_ad8a_7429af7f125drow2_col1 {\n",
       "            background-color:  #fcea24;\n",
       "        }    #T_fdad9b33_46c1_11e8_ad8a_7429af7f125drow2_col2 {\n",
       "            background-color:  #fc7f00;\n",
       "        }</style>  \n",
       "<table id=\"T_fdad9b33_46c1_11e8_ad8a_7429af7f125d\" > \n",
       "<thead>    <tr> \n",
       "        <th class=\"blank level0\" ></th> \n",
       "        <th class=\"col_heading level0 col0\" >Value</th> \n",
       "        <th class=\"col_heading level0 col1\" >Average Precipitation</th> \n",
       "        <th class=\"col_heading level0 col2\" >Average Temperature</th> \n",
       "    </tr></thead> \n",
       "<tbody>    <tr> \n",
       "        <th id=\"T_fdad9b33_46c1_11e8_ad8a_7429af7f125d\" class=\"row_heading level0 row0\" >Value</th> \n",
       "        <td id=\"T_fdad9b33_46c1_11e8_ad8a_7429af7f125drow0_col0\" class=\"data row0 col0\" >1.0</td> \n",
       "        <td id=\"T_fdad9b33_46c1_11e8_ad8a_7429af7f125drow0_col1\" class=\"data row0 col1\" >-0.13</td> \n",
       "        <td id=\"T_fdad9b33_46c1_11e8_ad8a_7429af7f125drow0_col2\" class=\"data row0 col2\" >0.28</td> \n",
       "    </tr>    <tr> \n",
       "        <th id=\"T_fdad9b33_46c1_11e8_ad8a_7429af7f125d\" class=\"row_heading level0 row1\" >Average Precipitation</th> \n",
       "        <td id=\"T_fdad9b33_46c1_11e8_ad8a_7429af7f125drow1_col0\" class=\"data row1 col0\" >-0.13</td> \n",
       "        <td id=\"T_fdad9b33_46c1_11e8_ad8a_7429af7f125drow1_col1\" class=\"data row1 col1\" >1.0</td> \n",
       "        <td id=\"T_fdad9b33_46c1_11e8_ad8a_7429af7f125drow1_col2\" class=\"data row1 col2\" >0.12</td> \n",
       "    </tr>    <tr> \n",
       "        <th id=\"T_fdad9b33_46c1_11e8_ad8a_7429af7f125d\" class=\"row_heading level0 row2\" >Average Temperature</th> \n",
       "        <td id=\"T_fdad9b33_46c1_11e8_ad8a_7429af7f125drow2_col0\" class=\"data row2 col0\" >0.28</td> \n",
       "        <td id=\"T_fdad9b33_46c1_11e8_ad8a_7429af7f125drow2_col1\" class=\"data row2 col1\" >0.12</td> \n",
       "        <td id=\"T_fdad9b33_46c1_11e8_ad8a_7429af7f125drow2_col2\" class=\"data row2 col2\" >1.0</td> \n",
       "    </tr></tbody> \n",
       "</table> "
      ],
      "text/plain": [
       "<pandas.io.formats.style.Styler at 0x7f1625e9fda0>"
      ]
     },
     "execution_count": 56,
     "metadata": {},
     "output_type": "execute_result"
    }
   ],
   "source": [
    "# Pearson\n",
    "correlation_finder(PEARSON, data)"
   ]
  },
  {
   "cell_type": "code",
   "execution_count": 57,
   "metadata": {},
   "outputs": [
    {
     "data": {
      "text/html": [
       "<style  type=\"text/css\" >\n",
       "    #T_fdad9b34_46c1_11e8_ad8a_7429af7f125drow0_col0 {\n",
       "            background-color:  #fc7f00;\n",
       "        }    #T_fdad9b34_46c1_11e8_ad8a_7429af7f125drow0_col1 {\n",
       "            background-color:  #e4ff7a;\n",
       "        }    #T_fdad9b34_46c1_11e8_ad8a_7429af7f125drow0_col2 {\n",
       "            background-color:  #eef757;\n",
       "        }    #T_fdad9b34_46c1_11e8_ad8a_7429af7f125drow1_col0 {\n",
       "            background-color:  #e4ff7a;\n",
       "        }    #T_fdad9b34_46c1_11e8_ad8a_7429af7f125drow1_col1 {\n",
       "            background-color:  #fc7f00;\n",
       "        }    #T_fdad9b34_46c1_11e8_ad8a_7429af7f125drow1_col2 {\n",
       "            background-color:  #e4ff7a;\n",
       "        }    #T_fdad9b34_46c1_11e8_ad8a_7429af7f125drow2_col0 {\n",
       "            background-color:  #f7ef36;\n",
       "        }    #T_fdad9b34_46c1_11e8_ad8a_7429af7f125drow2_col1 {\n",
       "            background-color:  #eef656;\n",
       "        }    #T_fdad9b34_46c1_11e8_ad8a_7429af7f125drow2_col2 {\n",
       "            background-color:  #fc7f00;\n",
       "        }</style>  \n",
       "<table id=\"T_fdad9b34_46c1_11e8_ad8a_7429af7f125d\" > \n",
       "<thead>    <tr> \n",
       "        <th class=\"blank level0\" ></th> \n",
       "        <th class=\"col_heading level0 col0\" >Value</th> \n",
       "        <th class=\"col_heading level0 col1\" >Average Precipitation</th> \n",
       "        <th class=\"col_heading level0 col2\" >Average Temperature</th> \n",
       "    </tr></thead> \n",
       "<tbody>    <tr> \n",
       "        <th id=\"T_fdad9b34_46c1_11e8_ad8a_7429af7f125d\" class=\"row_heading level0 row0\" >Value</th> \n",
       "        <td id=\"T_fdad9b34_46c1_11e8_ad8a_7429af7f125drow0_col0\" class=\"data row0 col0\" >1.0</td> \n",
       "        <td id=\"T_fdad9b34_46c1_11e8_ad8a_7429af7f125drow0_col1\" class=\"data row0 col1\" >-0.018</td> \n",
       "        <td id=\"T_fdad9b34_46c1_11e8_ad8a_7429af7f125drow0_col2\" class=\"data row0 col2\" >0.16</td> \n",
       "    </tr>    <tr> \n",
       "        <th id=\"T_fdad9b34_46c1_11e8_ad8a_7429af7f125d\" class=\"row_heading level0 row1\" >Average Precipitation</th> \n",
       "        <td id=\"T_fdad9b34_46c1_11e8_ad8a_7429af7f125drow1_col0\" class=\"data row1 col0\" >-0.018</td> \n",
       "        <td id=\"T_fdad9b34_46c1_11e8_ad8a_7429af7f125drow1_col1\" class=\"data row1 col1\" >1.0</td> \n",
       "        <td id=\"T_fdad9b34_46c1_11e8_ad8a_7429af7f125drow1_col2\" class=\"data row1 col2\" >0.08</td> \n",
       "    </tr>    <tr> \n",
       "        <th id=\"T_fdad9b34_46c1_11e8_ad8a_7429af7f125d\" class=\"row_heading level0 row2\" >Average Temperature</th> \n",
       "        <td id=\"T_fdad9b34_46c1_11e8_ad8a_7429af7f125drow2_col0\" class=\"data row2 col0\" >0.16</td> \n",
       "        <td id=\"T_fdad9b34_46c1_11e8_ad8a_7429af7f125drow2_col1\" class=\"data row2 col1\" >0.08</td> \n",
       "        <td id=\"T_fdad9b34_46c1_11e8_ad8a_7429af7f125drow2_col2\" class=\"data row2 col2\" >1.0</td> \n",
       "    </tr></tbody> \n",
       "</table> "
      ],
      "text/plain": [
       "<pandas.io.formats.style.Styler at 0x7f1625e9fe80>"
      ]
     },
     "execution_count": 57,
     "metadata": {},
     "output_type": "execute_result"
    }
   ],
   "source": [
    "# Kendall\n",
    "correlation_finder(KENDALL, data)"
   ]
  },
  {
   "cell_type": "code",
   "execution_count": 58,
   "metadata": {},
   "outputs": [
    {
     "data": {
      "text/html": [
       "<style  type=\"text/css\" >\n",
       "    #T_fdad9b35_46c1_11e8_ad8a_7429af7f125drow0_col0 {\n",
       "            background-color:  #fc7f00;\n",
       "        }    #T_fdad9b35_46c1_11e8_ad8a_7429af7f125drow0_col1 {\n",
       "            background-color:  #e4ff7a;\n",
       "        }    #T_fdad9b35_46c1_11e8_ad8a_7429af7f125drow0_col2 {\n",
       "            background-color:  #eef757;\n",
       "        }    #T_fdad9b35_46c1_11e8_ad8a_7429af7f125drow1_col0 {\n",
       "            background-color:  #e4ff7a;\n",
       "        }    #T_fdad9b35_46c1_11e8_ad8a_7429af7f125drow1_col1 {\n",
       "            background-color:  #fc7f00;\n",
       "        }    #T_fdad9b35_46c1_11e8_ad8a_7429af7f125drow1_col2 {\n",
       "            background-color:  #e4ff7a;\n",
       "        }    #T_fdad9b35_46c1_11e8_ad8a_7429af7f125drow2_col0 {\n",
       "            background-color:  #fde920;\n",
       "        }    #T_fdad9b35_46c1_11e8_ad8a_7429af7f125drow2_col1 {\n",
       "            background-color:  #f5f13e;\n",
       "        }    #T_fdad9b35_46c1_11e8_ad8a_7429af7f125drow2_col2 {\n",
       "            background-color:  #fc7f00;\n",
       "        }</style>  \n",
       "<table id=\"T_fdad9b35_46c1_11e8_ad8a_7429af7f125d\" > \n",
       "<thead>    <tr> \n",
       "        <th class=\"blank level0\" ></th> \n",
       "        <th class=\"col_heading level0 col0\" >Value</th> \n",
       "        <th class=\"col_heading level0 col1\" >Average Precipitation</th> \n",
       "        <th class=\"col_heading level0 col2\" >Average Temperature</th> \n",
       "    </tr></thead> \n",
       "<tbody>    <tr> \n",
       "        <th id=\"T_fdad9b35_46c1_11e8_ad8a_7429af7f125d\" class=\"row_heading level0 row0\" >Value</th> \n",
       "        <td id=\"T_fdad9b35_46c1_11e8_ad8a_7429af7f125drow0_col0\" class=\"data row0 col0\" >1.0</td> \n",
       "        <td id=\"T_fdad9b35_46c1_11e8_ad8a_7429af7f125drow0_col1\" class=\"data row0 col1\" >-0.04</td> \n",
       "        <td id=\"T_fdad9b35_46c1_11e8_ad8a_7429af7f125drow0_col2\" class=\"data row0 col2\" >0.21</td> \n",
       "    </tr>    <tr> \n",
       "        <th id=\"T_fdad9b35_46c1_11e8_ad8a_7429af7f125d\" class=\"row_heading level0 row1\" >Average Precipitation</th> \n",
       "        <td id=\"T_fdad9b35_46c1_11e8_ad8a_7429af7f125drow1_col0\" class=\"data row1 col0\" >-0.04</td> \n",
       "        <td id=\"T_fdad9b35_46c1_11e8_ad8a_7429af7f125drow1_col1\" class=\"data row1 col1\" >1.0</td> \n",
       "        <td id=\"T_fdad9b35_46c1_11e8_ad8a_7429af7f125drow1_col2\" class=\"data row1 col2\" >0.12</td> \n",
       "    </tr>    <tr> \n",
       "        <th id=\"T_fdad9b35_46c1_11e8_ad8a_7429af7f125d\" class=\"row_heading level0 row2\" >Average Temperature</th> \n",
       "        <td id=\"T_fdad9b35_46c1_11e8_ad8a_7429af7f125drow2_col0\" class=\"data row2 col0\" >0.21</td> \n",
       "        <td id=\"T_fdad9b35_46c1_11e8_ad8a_7429af7f125drow2_col1\" class=\"data row2 col1\" >0.12</td> \n",
       "        <td id=\"T_fdad9b35_46c1_11e8_ad8a_7429af7f125drow2_col2\" class=\"data row2 col2\" >1.0</td> \n",
       "    </tr></tbody> \n",
       "</table> "
      ],
      "text/plain": [
       "<pandas.io.formats.style.Styler at 0x7f1625eaf518>"
      ]
     },
     "execution_count": 58,
     "metadata": {},
     "output_type": "execute_result"
    }
   ],
   "source": [
    "# Spearman\n",
    "correlation_finder(SPEARMAN, data)"
   ]
  },
  {
   "cell_type": "markdown",
   "metadata": {},
   "source": [
    "#### Wheat"
   ]
  },
  {
   "cell_type": "code",
   "execution_count": 59,
   "metadata": {
    "collapsed": true
   },
   "outputs": [],
   "source": [
    "# data path\n",
    "data_path = CORE_DATA_PATH + \"wheat_precip_temp(1991-2014).csv\"\n",
    "\n",
    "# read data\n",
    "data = read_data(data_path)"
   ]
  },
  {
   "cell_type": "code",
   "execution_count": 60,
   "metadata": {},
   "outputs": [
    {
     "data": {
      "text/html": [
       "<style  type=\"text/css\" >\n",
       "    #T_feaccbd2_46c1_11e8_ad8a_7429af7f125drow0_col0 {\n",
       "            background-color:  #fc7f00;\n",
       "        }    #T_feaccbd2_46c1_11e8_ad8a_7429af7f125drow0_col1 {\n",
       "            background-color:  #ffe216;\n",
       "        }    #T_feaccbd2_46c1_11e8_ad8a_7429af7f125drow0_col2 {\n",
       "            background-color:  #ffb200;\n",
       "        }    #T_feaccbd2_46c1_11e8_ad8a_7429af7f125drow1_col0 {\n",
       "            background-color:  #e4ff7a;\n",
       "        }    #T_feaccbd2_46c1_11e8_ad8a_7429af7f125drow1_col1 {\n",
       "            background-color:  #fc7f00;\n",
       "        }    #T_feaccbd2_46c1_11e8_ad8a_7429af7f125drow1_col2 {\n",
       "            background-color:  #e4ff7a;\n",
       "        }    #T_feaccbd2_46c1_11e8_ad8a_7429af7f125drow2_col0 {\n",
       "            background-color:  #ffc908;\n",
       "        }    #T_feaccbd2_46c1_11e8_ad8a_7429af7f125drow2_col1 {\n",
       "            background-color:  #e4ff7a;\n",
       "        }    #T_feaccbd2_46c1_11e8_ad8a_7429af7f125drow2_col2 {\n",
       "            background-color:  #fc7f00;\n",
       "        }</style>  \n",
       "<table id=\"T_feaccbd2_46c1_11e8_ad8a_7429af7f125d\" > \n",
       "<thead>    <tr> \n",
       "        <th class=\"blank level0\" ></th> \n",
       "        <th class=\"col_heading level0 col0\" >Value</th> \n",
       "        <th class=\"col_heading level0 col1\" >Average Precipitation</th> \n",
       "        <th class=\"col_heading level0 col2\" >Average Temperature</th> \n",
       "    </tr></thead> \n",
       "<tbody>    <tr> \n",
       "        <th id=\"T_feaccbd2_46c1_11e8_ad8a_7429af7f125d\" class=\"row_heading level0 row0\" >Value</th> \n",
       "        <td id=\"T_feaccbd2_46c1_11e8_ad8a_7429af7f125drow0_col0\" class=\"data row0 col0\" >1.0</td> \n",
       "        <td id=\"T_feaccbd2_46c1_11e8_ad8a_7429af7f125drow0_col1\" class=\"data row0 col1\" >0.37</td> \n",
       "        <td id=\"T_feaccbd2_46c1_11e8_ad8a_7429af7f125drow0_col2\" class=\"data row0 col2\" >0.64</td> \n",
       "    </tr>    <tr> \n",
       "        <th id=\"T_feaccbd2_46c1_11e8_ad8a_7429af7f125d\" class=\"row_heading level0 row1\" >Average Precipitation</th> \n",
       "        <td id=\"T_feaccbd2_46c1_11e8_ad8a_7429af7f125drow1_col0\" class=\"data row1 col0\" >0.37</td> \n",
       "        <td id=\"T_feaccbd2_46c1_11e8_ad8a_7429af7f125drow1_col1\" class=\"data row1 col1\" >1.0</td> \n",
       "        <td id=\"T_feaccbd2_46c1_11e8_ad8a_7429af7f125drow1_col2\" class=\"data row1 col2\" >0.12</td> \n",
       "    </tr>    <tr> \n",
       "        <th id=\"T_feaccbd2_46c1_11e8_ad8a_7429af7f125d\" class=\"row_heading level0 row2\" >Average Temperature</th> \n",
       "        <td id=\"T_feaccbd2_46c1_11e8_ad8a_7429af7f125drow2_col0\" class=\"data row2 col0\" >0.64</td> \n",
       "        <td id=\"T_feaccbd2_46c1_11e8_ad8a_7429af7f125drow2_col1\" class=\"data row2 col1\" >0.12</td> \n",
       "        <td id=\"T_feaccbd2_46c1_11e8_ad8a_7429af7f125drow2_col2\" class=\"data row2 col2\" >1.0</td> \n",
       "    </tr></tbody> \n",
       "</table> "
      ],
      "text/plain": [
       "<pandas.io.formats.style.Styler at 0x7f1625eaf7b8>"
      ]
     },
     "execution_count": 60,
     "metadata": {},
     "output_type": "execute_result"
    }
   ],
   "source": [
    "# Pearson\n",
    "correlation_finder(PEARSON, data)"
   ]
  },
  {
   "cell_type": "code",
   "execution_count": 61,
   "metadata": {},
   "outputs": [
    {
     "data": {
      "text/html": [
       "<style  type=\"text/css\" >\n",
       "    #T_feaccbd3_46c1_11e8_ad8a_7429af7f125drow0_col0 {\n",
       "            background-color:  #fc7f00;\n",
       "        }    #T_feaccbd3_46c1_11e8_ad8a_7429af7f125drow0_col1 {\n",
       "            background-color:  #f6f03b;\n",
       "        }    #T_feaccbd3_46c1_11e8_ad8a_7429af7f125drow0_col2 {\n",
       "            background-color:  #ffce0a;\n",
       "        }    #T_feaccbd3_46c1_11e8_ad8a_7429af7f125drow1_col0 {\n",
       "            background-color:  #e4ff7a;\n",
       "        }    #T_feaccbd3_46c1_11e8_ad8a_7429af7f125drow1_col1 {\n",
       "            background-color:  #fc7f00;\n",
       "        }    #T_feaccbd3_46c1_11e8_ad8a_7429af7f125drow1_col2 {\n",
       "            background-color:  #e4ff7a;\n",
       "        }    #T_feaccbd3_46c1_11e8_ad8a_7429af7f125drow2_col0 {\n",
       "            background-color:  #ffe217;\n",
       "        }    #T_feaccbd3_46c1_11e8_ad8a_7429af7f125drow2_col1 {\n",
       "            background-color:  #e4ff7a;\n",
       "        }    #T_feaccbd3_46c1_11e8_ad8a_7429af7f125drow2_col2 {\n",
       "            background-color:  #fc7f00;\n",
       "        }</style>  \n",
       "<table id=\"T_feaccbd3_46c1_11e8_ad8a_7429af7f125d\" > \n",
       "<thead>    <tr> \n",
       "        <th class=\"blank level0\" ></th> \n",
       "        <th class=\"col_heading level0 col0\" >Value</th> \n",
       "        <th class=\"col_heading level0 col1\" >Average Precipitation</th> \n",
       "        <th class=\"col_heading level0 col2\" >Average Temperature</th> \n",
       "    </tr></thead> \n",
       "<tbody>    <tr> \n",
       "        <th id=\"T_feaccbd3_46c1_11e8_ad8a_7429af7f125d\" class=\"row_heading level0 row0\" >Value</th> \n",
       "        <td id=\"T_feaccbd3_46c1_11e8_ad8a_7429af7f125drow0_col0\" class=\"data row0 col0\" >1.0</td> \n",
       "        <td id=\"T_feaccbd3_46c1_11e8_ad8a_7429af7f125drow0_col1\" class=\"data row0 col1\" >0.23</td> \n",
       "        <td id=\"T_feaccbd3_46c1_11e8_ad8a_7429af7f125drow0_col2\" class=\"data row0 col2\" >0.45</td> \n",
       "    </tr>    <tr> \n",
       "        <th id=\"T_feaccbd3_46c1_11e8_ad8a_7429af7f125d\" class=\"row_heading level0 row1\" >Average Precipitation</th> \n",
       "        <td id=\"T_feaccbd3_46c1_11e8_ad8a_7429af7f125drow1_col0\" class=\"data row1 col0\" >0.23</td> \n",
       "        <td id=\"T_feaccbd3_46c1_11e8_ad8a_7429af7f125drow1_col1\" class=\"data row1 col1\" >1.0</td> \n",
       "        <td id=\"T_feaccbd3_46c1_11e8_ad8a_7429af7f125drow1_col2\" class=\"data row1 col2\" >0.08</td> \n",
       "    </tr>    <tr> \n",
       "        <th id=\"T_feaccbd3_46c1_11e8_ad8a_7429af7f125d\" class=\"row_heading level0 row2\" >Average Temperature</th> \n",
       "        <td id=\"T_feaccbd3_46c1_11e8_ad8a_7429af7f125drow2_col0\" class=\"data row2 col0\" >0.45</td> \n",
       "        <td id=\"T_feaccbd3_46c1_11e8_ad8a_7429af7f125drow2_col1\" class=\"data row2 col1\" >0.08</td> \n",
       "        <td id=\"T_feaccbd3_46c1_11e8_ad8a_7429af7f125drow2_col2\" class=\"data row2 col2\" >1.0</td> \n",
       "    </tr></tbody> \n",
       "</table> "
      ],
      "text/plain": [
       "<pandas.io.formats.style.Styler at 0x7f1625eafbe0>"
      ]
     },
     "execution_count": 61,
     "metadata": {},
     "output_type": "execute_result"
    }
   ],
   "source": [
    "# Kendall\n",
    "correlation_finder(KENDALL, data)"
   ]
  },
  {
   "cell_type": "code",
   "execution_count": 62,
   "metadata": {},
   "outputs": [
    {
     "data": {
      "text/html": [
       "<style  type=\"text/css\" >\n",
       "    #T_feaccbd4_46c1_11e8_ad8a_7429af7f125drow0_col0 {\n",
       "            background-color:  #fc7f00;\n",
       "        }    #T_feaccbd4_46c1_11e8_ad8a_7429af7f125drow0_col1 {\n",
       "            background-color:  #fee91d;\n",
       "        }    #T_feaccbd4_46c1_11e8_ad8a_7429af7f125drow0_col2 {\n",
       "            background-color:  #ffb200;\n",
       "        }    #T_feaccbd4_46c1_11e8_ad8a_7429af7f125drow1_col0 {\n",
       "            background-color:  #e4ff7a;\n",
       "        }    #T_feaccbd4_46c1_11e8_ad8a_7429af7f125drow1_col1 {\n",
       "            background-color:  #fc7f00;\n",
       "        }    #T_feaccbd4_46c1_11e8_ad8a_7429af7f125drow1_col2 {\n",
       "            background-color:  #e4ff7a;\n",
       "        }    #T_feaccbd4_46c1_11e8_ad8a_7429af7f125drow2_col0 {\n",
       "            background-color:  #ffc404;\n",
       "        }    #T_feaccbd4_46c1_11e8_ad8a_7429af7f125drow2_col1 {\n",
       "            background-color:  #e4ff7a;\n",
       "        }    #T_feaccbd4_46c1_11e8_ad8a_7429af7f125drow2_col2 {\n",
       "            background-color:  #fc7f00;\n",
       "        }</style>  \n",
       "<table id=\"T_feaccbd4_46c1_11e8_ad8a_7429af7f125d\" > \n",
       "<thead>    <tr> \n",
       "        <th class=\"blank level0\" ></th> \n",
       "        <th class=\"col_heading level0 col0\" >Value</th> \n",
       "        <th class=\"col_heading level0 col1\" >Average Precipitation</th> \n",
       "        <th class=\"col_heading level0 col2\" >Average Temperature</th> \n",
       "    </tr></thead> \n",
       "<tbody>    <tr> \n",
       "        <th id=\"T_feaccbd4_46c1_11e8_ad8a_7429af7f125d\" class=\"row_heading level0 row0\" >Value</th> \n",
       "        <td id=\"T_feaccbd4_46c1_11e8_ad8a_7429af7f125drow0_col0\" class=\"data row0 col0\" >1.0</td> \n",
       "        <td id=\"T_feaccbd4_46c1_11e8_ad8a_7429af7f125drow0_col1\" class=\"data row0 col1\" >0.34</td> \n",
       "        <td id=\"T_feaccbd4_46c1_11e8_ad8a_7429af7f125drow0_col2\" class=\"data row0 col2\" >0.64</td> \n",
       "    </tr>    <tr> \n",
       "        <th id=\"T_feaccbd4_46c1_11e8_ad8a_7429af7f125d\" class=\"row_heading level0 row1\" >Average Precipitation</th> \n",
       "        <td id=\"T_feaccbd4_46c1_11e8_ad8a_7429af7f125drow1_col0\" class=\"data row1 col0\" >0.34</td> \n",
       "        <td id=\"T_feaccbd4_46c1_11e8_ad8a_7429af7f125drow1_col1\" class=\"data row1 col1\" >1.0</td> \n",
       "        <td id=\"T_feaccbd4_46c1_11e8_ad8a_7429af7f125drow1_col2\" class=\"data row1 col2\" >0.12</td> \n",
       "    </tr>    <tr> \n",
       "        <th id=\"T_feaccbd4_46c1_11e8_ad8a_7429af7f125d\" class=\"row_heading level0 row2\" >Average Temperature</th> \n",
       "        <td id=\"T_feaccbd4_46c1_11e8_ad8a_7429af7f125drow2_col0\" class=\"data row2 col0\" >0.64</td> \n",
       "        <td id=\"T_feaccbd4_46c1_11e8_ad8a_7429af7f125drow2_col1\" class=\"data row2 col1\" >0.12</td> \n",
       "        <td id=\"T_feaccbd4_46c1_11e8_ad8a_7429af7f125drow2_col2\" class=\"data row2 col2\" >1.0</td> \n",
       "    </tr></tbody> \n",
       "</table> "
      ],
      "text/plain": [
       "<pandas.io.formats.style.Styler at 0x7f1625ef3c50>"
      ]
     },
     "execution_count": 62,
     "metadata": {},
     "output_type": "execute_result"
    }
   ],
   "source": [
    "# Spearman\n",
    "correlation_finder(SPEARMAN, data)"
   ]
  },
  {
   "cell_type": "markdown",
   "metadata": {},
   "source": [
    "#### Sunflower seed"
   ]
  },
  {
   "cell_type": "code",
   "execution_count": 63,
   "metadata": {
    "collapsed": true
   },
   "outputs": [],
   "source": [
    "# data path\n",
    "data_path = CORE_DATA_PATH + \"sunflower_seed_precip_temp(1991-2014).csv\"\n",
    "\n",
    "# read data\n",
    "data = read_data(data_path)"
   ]
  },
  {
   "cell_type": "code",
   "execution_count": 64,
   "metadata": {},
   "outputs": [
    {
     "data": {
      "text/html": [
       "<style  type=\"text/css\" >\n",
       "    #T_feaccbd5_46c1_11e8_ad8a_7429af7f125drow0_col0 {\n",
       "            background-color:  #fc7f00;\n",
       "        }    #T_feaccbd5_46c1_11e8_ad8a_7429af7f125drow0_col1 {\n",
       "            background-color:  #fdea21;\n",
       "        }    #T_feaccbd5_46c1_11e8_ad8a_7429af7f125drow0_col2 {\n",
       "            background-color:  #ffb500;\n",
       "        }    #T_feaccbd5_46c1_11e8_ad8a_7429af7f125drow1_col0 {\n",
       "            background-color:  #e4ff7a;\n",
       "        }    #T_feaccbd5_46c1_11e8_ad8a_7429af7f125drow1_col1 {\n",
       "            background-color:  #fc7f00;\n",
       "        }    #T_feaccbd5_46c1_11e8_ad8a_7429af7f125drow1_col2 {\n",
       "            background-color:  #e4ff7a;\n",
       "        }    #T_feaccbd5_46c1_11e8_ad8a_7429af7f125drow2_col0 {\n",
       "            background-color:  #ffc807;\n",
       "        }    #T_feaccbd5_46c1_11e8_ad8a_7429af7f125drow2_col1 {\n",
       "            background-color:  #e4ff7a;\n",
       "        }    #T_feaccbd5_46c1_11e8_ad8a_7429af7f125drow2_col2 {\n",
       "            background-color:  #fc7f00;\n",
       "        }</style>  \n",
       "<table id=\"T_feaccbd5_46c1_11e8_ad8a_7429af7f125d\" > \n",
       "<thead>    <tr> \n",
       "        <th class=\"blank level0\" ></th> \n",
       "        <th class=\"col_heading level0 col0\" >Value</th> \n",
       "        <th class=\"col_heading level0 col1\" >Average Precipitation</th> \n",
       "        <th class=\"col_heading level0 col2\" >Average Temperature</th> \n",
       "    </tr></thead> \n",
       "<tbody>    <tr> \n",
       "        <th id=\"T_feaccbd5_46c1_11e8_ad8a_7429af7f125d\" class=\"row_heading level0 row0\" >Value</th> \n",
       "        <td id=\"T_feaccbd5_46c1_11e8_ad8a_7429af7f125drow0_col0\" class=\"data row0 col0\" >1.0</td> \n",
       "        <td id=\"T_feaccbd5_46c1_11e8_ad8a_7429af7f125drow0_col1\" class=\"data row0 col1\" >0.33</td> \n",
       "        <td id=\"T_feaccbd5_46c1_11e8_ad8a_7429af7f125drow0_col2\" class=\"data row0 col2\" >0.62</td> \n",
       "    </tr>    <tr> \n",
       "        <th id=\"T_feaccbd5_46c1_11e8_ad8a_7429af7f125d\" class=\"row_heading level0 row1\" >Average Precipitation</th> \n",
       "        <td id=\"T_feaccbd5_46c1_11e8_ad8a_7429af7f125drow1_col0\" class=\"data row1 col0\" >0.33</td> \n",
       "        <td id=\"T_feaccbd5_46c1_11e8_ad8a_7429af7f125drow1_col1\" class=\"data row1 col1\" >1.0</td> \n",
       "        <td id=\"T_feaccbd5_46c1_11e8_ad8a_7429af7f125drow1_col2\" class=\"data row1 col2\" >0.12</td> \n",
       "    </tr>    <tr> \n",
       "        <th id=\"T_feaccbd5_46c1_11e8_ad8a_7429af7f125d\" class=\"row_heading level0 row2\" >Average Temperature</th> \n",
       "        <td id=\"T_feaccbd5_46c1_11e8_ad8a_7429af7f125drow2_col0\" class=\"data row2 col0\" >0.62</td> \n",
       "        <td id=\"T_feaccbd5_46c1_11e8_ad8a_7429af7f125drow2_col1\" class=\"data row2 col1\" >0.12</td> \n",
       "        <td id=\"T_feaccbd5_46c1_11e8_ad8a_7429af7f125drow2_col2\" class=\"data row2 col2\" >1.0</td> \n",
       "    </tr></tbody> \n",
       "</table> "
      ],
      "text/plain": [
       "<pandas.io.formats.style.Styler at 0x7f1625eaf6a0>"
      ]
     },
     "execution_count": 64,
     "metadata": {},
     "output_type": "execute_result"
    }
   ],
   "source": [
    "# Pearson\n",
    "correlation_finder(PEARSON, data)"
   ]
  },
  {
   "cell_type": "code",
   "execution_count": 65,
   "metadata": {},
   "outputs": [
    {
     "data": {
      "text/html": [
       "<style  type=\"text/css\" >\n",
       "    #T_feaccbd6_46c1_11e8_ad8a_7429af7f125drow0_col0 {\n",
       "            background-color:  #fc7f00;\n",
       "        }    #T_feaccbd6_46c1_11e8_ad8a_7429af7f125drow0_col1 {\n",
       "            background-color:  #f9ed2f;\n",
       "        }    #T_feaccbd6_46c1_11e8_ad8a_7429af7f125drow0_col2 {\n",
       "            background-color:  #ffcf0b;\n",
       "        }    #T_feaccbd6_46c1_11e8_ad8a_7429af7f125drow1_col0 {\n",
       "            background-color:  #e4ff7a;\n",
       "        }    #T_feaccbd6_46c1_11e8_ad8a_7429af7f125drow1_col1 {\n",
       "            background-color:  #fc7f00;\n",
       "        }    #T_feaccbd6_46c1_11e8_ad8a_7429af7f125drow1_col2 {\n",
       "            background-color:  #e4ff7a;\n",
       "        }    #T_feaccbd6_46c1_11e8_ad8a_7429af7f125drow2_col0 {\n",
       "            background-color:  #ffe81b;\n",
       "        }    #T_feaccbd6_46c1_11e8_ad8a_7429af7f125drow2_col1 {\n",
       "            background-color:  #e4ff7a;\n",
       "        }    #T_feaccbd6_46c1_11e8_ad8a_7429af7f125drow2_col2 {\n",
       "            background-color:  #fc7f00;\n",
       "        }</style>  \n",
       "<table id=\"T_feaccbd6_46c1_11e8_ad8a_7429af7f125d\" > \n",
       "<thead>    <tr> \n",
       "        <th class=\"blank level0\" ></th> \n",
       "        <th class=\"col_heading level0 col0\" >Value</th> \n",
       "        <th class=\"col_heading level0 col1\" >Average Precipitation</th> \n",
       "        <th class=\"col_heading level0 col2\" >Average Temperature</th> \n",
       "    </tr></thead> \n",
       "<tbody>    <tr> \n",
       "        <th id=\"T_feaccbd6_46c1_11e8_ad8a_7429af7f125d\" class=\"row_heading level0 row0\" >Value</th> \n",
       "        <td id=\"T_feaccbd6_46c1_11e8_ad8a_7429af7f125drow0_col0\" class=\"data row0 col0\" >1.0</td> \n",
       "        <td id=\"T_feaccbd6_46c1_11e8_ad8a_7429af7f125drow0_col1\" class=\"data row0 col1\" >0.26</td> \n",
       "        <td id=\"T_feaccbd6_46c1_11e8_ad8a_7429af7f125drow0_col2\" class=\"data row0 col2\" >0.45</td> \n",
       "    </tr>    <tr> \n",
       "        <th id=\"T_feaccbd6_46c1_11e8_ad8a_7429af7f125d\" class=\"row_heading level0 row1\" >Average Precipitation</th> \n",
       "        <td id=\"T_feaccbd6_46c1_11e8_ad8a_7429af7f125drow1_col0\" class=\"data row1 col0\" >0.26</td> \n",
       "        <td id=\"T_feaccbd6_46c1_11e8_ad8a_7429af7f125drow1_col1\" class=\"data row1 col1\" >1.0</td> \n",
       "        <td id=\"T_feaccbd6_46c1_11e8_ad8a_7429af7f125drow1_col2\" class=\"data row1 col2\" >0.08</td> \n",
       "    </tr>    <tr> \n",
       "        <th id=\"T_feaccbd6_46c1_11e8_ad8a_7429af7f125d\" class=\"row_heading level0 row2\" >Average Temperature</th> \n",
       "        <td id=\"T_feaccbd6_46c1_11e8_ad8a_7429af7f125drow2_col0\" class=\"data row2 col0\" >0.45</td> \n",
       "        <td id=\"T_feaccbd6_46c1_11e8_ad8a_7429af7f125drow2_col1\" class=\"data row2 col1\" >0.08</td> \n",
       "        <td id=\"T_feaccbd6_46c1_11e8_ad8a_7429af7f125drow2_col2\" class=\"data row2 col2\" >1.0</td> \n",
       "    </tr></tbody> \n",
       "</table> "
      ],
      "text/plain": [
       "<pandas.io.formats.style.Styler at 0x7f1625eb97f0>"
      ]
     },
     "execution_count": 65,
     "metadata": {},
     "output_type": "execute_result"
    }
   ],
   "source": [
    "# Kendall\n",
    "correlation_finder(KENDALL, data)"
   ]
  },
  {
   "cell_type": "code",
   "execution_count": 66,
   "metadata": {},
   "outputs": [
    {
     "data": {
      "text/html": [
       "<style  type=\"text/css\" >\n",
       "    #T_feaccbd7_46c1_11e8_ad8a_7429af7f125drow0_col0 {\n",
       "            background-color:  #fc7f00;\n",
       "        }    #T_feaccbd7_46c1_11e8_ad8a_7429af7f125drow0_col1 {\n",
       "            background-color:  #ffe015;\n",
       "        }    #T_feaccbd7_46c1_11e8_ad8a_7429af7f125drow0_col2 {\n",
       "            background-color:  #ffb400;\n",
       "        }    #T_feaccbd7_46c1_11e8_ad8a_7429af7f125drow1_col0 {\n",
       "            background-color:  #e4ff7a;\n",
       "        }    #T_feaccbd7_46c1_11e8_ad8a_7429af7f125drow1_col1 {\n",
       "            background-color:  #fc7f00;\n",
       "        }    #T_feaccbd7_46c1_11e8_ad8a_7429af7f125drow1_col2 {\n",
       "            background-color:  #e4ff7a;\n",
       "        }    #T_feaccbd7_46c1_11e8_ad8a_7429af7f125drow2_col0 {\n",
       "            background-color:  #ffce0a;\n",
       "        }    #T_feaccbd7_46c1_11e8_ad8a_7429af7f125drow2_col1 {\n",
       "            background-color:  #e4ff7a;\n",
       "        }    #T_feaccbd7_46c1_11e8_ad8a_7429af7f125drow2_col2 {\n",
       "            background-color:  #fc7f00;\n",
       "        }</style>  \n",
       "<table id=\"T_feaccbd7_46c1_11e8_ad8a_7429af7f125d\" > \n",
       "<thead>    <tr> \n",
       "        <th class=\"blank level0\" ></th> \n",
       "        <th class=\"col_heading level0 col0\" >Value</th> \n",
       "        <th class=\"col_heading level0 col1\" >Average Precipitation</th> \n",
       "        <th class=\"col_heading level0 col2\" >Average Temperature</th> \n",
       "    </tr></thead> \n",
       "<tbody>    <tr> \n",
       "        <th id=\"T_feaccbd7_46c1_11e8_ad8a_7429af7f125d\" class=\"row_heading level0 row0\" >Value</th> \n",
       "        <td id=\"T_feaccbd7_46c1_11e8_ad8a_7429af7f125drow0_col0\" class=\"data row0 col0\" >1.0</td> \n",
       "        <td id=\"T_feaccbd7_46c1_11e8_ad8a_7429af7f125drow0_col1\" class=\"data row0 col1\" >0.38</td> \n",
       "        <td id=\"T_feaccbd7_46c1_11e8_ad8a_7429af7f125drow0_col2\" class=\"data row0 col2\" >0.63</td> \n",
       "    </tr>    <tr> \n",
       "        <th id=\"T_feaccbd7_46c1_11e8_ad8a_7429af7f125d\" class=\"row_heading level0 row1\" >Average Precipitation</th> \n",
       "        <td id=\"T_feaccbd7_46c1_11e8_ad8a_7429af7f125drow1_col0\" class=\"data row1 col0\" >0.38</td> \n",
       "        <td id=\"T_feaccbd7_46c1_11e8_ad8a_7429af7f125drow1_col1\" class=\"data row1 col1\" >1.0</td> \n",
       "        <td id=\"T_feaccbd7_46c1_11e8_ad8a_7429af7f125drow1_col2\" class=\"data row1 col2\" >0.12</td> \n",
       "    </tr>    <tr> \n",
       "        <th id=\"T_feaccbd7_46c1_11e8_ad8a_7429af7f125d\" class=\"row_heading level0 row2\" >Average Temperature</th> \n",
       "        <td id=\"T_feaccbd7_46c1_11e8_ad8a_7429af7f125drow2_col0\" class=\"data row2 col0\" >0.63</td> \n",
       "        <td id=\"T_feaccbd7_46c1_11e8_ad8a_7429af7f125drow2_col1\" class=\"data row2 col1\" >0.12</td> \n",
       "        <td id=\"T_feaccbd7_46c1_11e8_ad8a_7429af7f125drow2_col2\" class=\"data row2 col2\" >1.0</td> \n",
       "    </tr></tbody> \n",
       "</table> "
      ],
      "text/plain": [
       "<pandas.io.formats.style.Styler at 0x7f1625eb9a20>"
      ]
     },
     "execution_count": 66,
     "metadata": {},
     "output_type": "execute_result"
    }
   ],
   "source": [
    "# Spearman\n",
    "correlation_finder(SPEARMAN, data)"
   ]
  },
  {
   "cell_type": "markdown",
   "metadata": {},
   "source": [
    "#### Sweet Potatoes"
   ]
  },
  {
   "cell_type": "code",
   "execution_count": 67,
   "metadata": {
    "collapsed": true
   },
   "outputs": [],
   "source": [
    "# data path\n",
    "data_path = CORE_DATA_PATH + \"sweet_potatoes_precip_temp(1991-2014).csv\"\n",
    "\n",
    "# read data\n",
    "data = read_data(data_path)"
   ]
  },
  {
   "cell_type": "code",
   "execution_count": 68,
   "metadata": {},
   "outputs": [
    {
     "data": {
      "text/html": [
       "<style  type=\"text/css\" >\n",
       "    #T_feaccbd8_46c1_11e8_ad8a_7429af7f125drow0_col0 {\n",
       "            background-color:  #fc7f00;\n",
       "        }    #T_feaccbd8_46c1_11e8_ad8a_7429af7f125drow0_col1 {\n",
       "            background-color:  #e4ff7a;\n",
       "        }    #T_feaccbd8_46c1_11e8_ad8a_7429af7f125drow0_col2 {\n",
       "            background-color:  #ffd911;\n",
       "        }    #T_feaccbd8_46c1_11e8_ad8a_7429af7f125drow1_col0 {\n",
       "            background-color:  #e4ff7a;\n",
       "        }    #T_feaccbd8_46c1_11e8_ad8a_7429af7f125drow1_col1 {\n",
       "            background-color:  #fc7f00;\n",
       "        }    #T_feaccbd8_46c1_11e8_ad8a_7429af7f125drow1_col2 {\n",
       "            background-color:  #e4ff7a;\n",
       "        }    #T_feaccbd8_46c1_11e8_ad8a_7429af7f125drow2_col0 {\n",
       "            background-color:  #ffbf01;\n",
       "        }    #T_feaccbd8_46c1_11e8_ad8a_7429af7f125drow2_col1 {\n",
       "            background-color:  #fdea21;\n",
       "        }    #T_feaccbd8_46c1_11e8_ad8a_7429af7f125drow2_col2 {\n",
       "            background-color:  #fc7f00;\n",
       "        }</style>  \n",
       "<table id=\"T_feaccbd8_46c1_11e8_ad8a_7429af7f125d\" > \n",
       "<thead>    <tr> \n",
       "        <th class=\"blank level0\" ></th> \n",
       "        <th class=\"col_heading level0 col0\" >Value</th> \n",
       "        <th class=\"col_heading level0 col1\" >Average Precipitation</th> \n",
       "        <th class=\"col_heading level0 col2\" >Average Temperature</th> \n",
       "    </tr></thead> \n",
       "<tbody>    <tr> \n",
       "        <th id=\"T_feaccbd8_46c1_11e8_ad8a_7429af7f125d\" class=\"row_heading level0 row0\" >Value</th> \n",
       "        <td id=\"T_feaccbd8_46c1_11e8_ad8a_7429af7f125drow0_col0\" class=\"data row0 col0\" >1.0</td> \n",
       "        <td id=\"T_feaccbd8_46c1_11e8_ad8a_7429af7f125drow0_col1\" class=\"data row0 col1\" >-0.14</td> \n",
       "        <td id=\"T_feaccbd8_46c1_11e8_ad8a_7429af7f125drow0_col2\" class=\"data row0 col2\" >0.42</td> \n",
       "    </tr>    <tr> \n",
       "        <th id=\"T_feaccbd8_46c1_11e8_ad8a_7429af7f125d\" class=\"row_heading level0 row1\" >Average Precipitation</th> \n",
       "        <td id=\"T_feaccbd8_46c1_11e8_ad8a_7429af7f125drow1_col0\" class=\"data row1 col0\" >-0.14</td> \n",
       "        <td id=\"T_feaccbd8_46c1_11e8_ad8a_7429af7f125drow1_col1\" class=\"data row1 col1\" >1.0</td> \n",
       "        <td id=\"T_feaccbd8_46c1_11e8_ad8a_7429af7f125drow1_col2\" class=\"data row1 col2\" >0.12</td> \n",
       "    </tr>    <tr> \n",
       "        <th id=\"T_feaccbd8_46c1_11e8_ad8a_7429af7f125d\" class=\"row_heading level0 row2\" >Average Temperature</th> \n",
       "        <td id=\"T_feaccbd8_46c1_11e8_ad8a_7429af7f125drow2_col0\" class=\"data row2 col0\" >0.42</td> \n",
       "        <td id=\"T_feaccbd8_46c1_11e8_ad8a_7429af7f125drow2_col1\" class=\"data row2 col1\" >0.12</td> \n",
       "        <td id=\"T_feaccbd8_46c1_11e8_ad8a_7429af7f125drow2_col2\" class=\"data row2 col2\" >1.0</td> \n",
       "    </tr></tbody> \n",
       "</table> "
      ],
      "text/plain": [
       "<pandas.io.formats.style.Styler at 0x7f1625eb9fd0>"
      ]
     },
     "execution_count": 68,
     "metadata": {},
     "output_type": "execute_result"
    }
   ],
   "source": [
    "# Pearson\n",
    "correlation_finder(PEARSON, data)"
   ]
  },
  {
   "cell_type": "code",
   "execution_count": 69,
   "metadata": {},
   "outputs": [
    {
     "data": {
      "text/html": [
       "<style  type=\"text/css\" >\n",
       "    #T_fff2dbbc_46c1_11e8_ad8a_7429af7f125drow0_col0 {\n",
       "            background-color:  #fc7f00;\n",
       "        }    #T_fff2dbbc_46c1_11e8_ad8a_7429af7f125drow0_col1 {\n",
       "            background-color:  #e4ff7a;\n",
       "        }    #T_fff2dbbc_46c1_11e8_ad8a_7429af7f125drow0_col2 {\n",
       "            background-color:  #f3f244;\n",
       "        }    #T_fff2dbbc_46c1_11e8_ad8a_7429af7f125drow1_col0 {\n",
       "            background-color:  #e4ff7a;\n",
       "        }    #T_fff2dbbc_46c1_11e8_ad8a_7429af7f125drow1_col1 {\n",
       "            background-color:  #fc7f00;\n",
       "        }    #T_fff2dbbc_46c1_11e8_ad8a_7429af7f125drow1_col2 {\n",
       "            background-color:  #e4ff7a;\n",
       "        }    #T_fff2dbbc_46c1_11e8_ad8a_7429af7f125drow2_col0 {\n",
       "            background-color:  #ffe418;\n",
       "        }    #T_fff2dbbc_46c1_11e8_ad8a_7429af7f125drow2_col1 {\n",
       "            background-color:  #f5f13f;\n",
       "        }    #T_fff2dbbc_46c1_11e8_ad8a_7429af7f125drow2_col2 {\n",
       "            background-color:  #fc7f00;\n",
       "        }</style>  \n",
       "<table id=\"T_fff2dbbc_46c1_11e8_ad8a_7429af7f125d\" > \n",
       "<thead>    <tr> \n",
       "        <th class=\"blank level0\" ></th> \n",
       "        <th class=\"col_heading level0 col0\" >Value</th> \n",
       "        <th class=\"col_heading level0 col1\" >Average Precipitation</th> \n",
       "        <th class=\"col_heading level0 col2\" >Average Temperature</th> \n",
       "    </tr></thead> \n",
       "<tbody>    <tr> \n",
       "        <th id=\"T_fff2dbbc_46c1_11e8_ad8a_7429af7f125d\" class=\"row_heading level0 row0\" >Value</th> \n",
       "        <td id=\"T_fff2dbbc_46c1_11e8_ad8a_7429af7f125drow0_col0\" class=\"data row0 col0\" >1.0</td> \n",
       "        <td id=\"T_fff2dbbc_46c1_11e8_ad8a_7429af7f125drow0_col1\" class=\"data row0 col1\" >-0.087</td> \n",
       "        <td id=\"T_fff2dbbc_46c1_11e8_ad8a_7429af7f125drow0_col2\" class=\"data row0 col2\" >0.21</td> \n",
       "    </tr>    <tr> \n",
       "        <th id=\"T_fff2dbbc_46c1_11e8_ad8a_7429af7f125d\" class=\"row_heading level0 row1\" >Average Precipitation</th> \n",
       "        <td id=\"T_fff2dbbc_46c1_11e8_ad8a_7429af7f125drow1_col0\" class=\"data row1 col0\" >-0.087</td> \n",
       "        <td id=\"T_fff2dbbc_46c1_11e8_ad8a_7429af7f125drow1_col1\" class=\"data row1 col1\" >1.0</td> \n",
       "        <td id=\"T_fff2dbbc_46c1_11e8_ad8a_7429af7f125drow1_col2\" class=\"data row1 col2\" >0.08</td> \n",
       "    </tr>    <tr> \n",
       "        <th id=\"T_fff2dbbc_46c1_11e8_ad8a_7429af7f125d\" class=\"row_heading level0 row2\" >Average Temperature</th> \n",
       "        <td id=\"T_fff2dbbc_46c1_11e8_ad8a_7429af7f125drow2_col0\" class=\"data row2 col0\" >0.21</td> \n",
       "        <td id=\"T_fff2dbbc_46c1_11e8_ad8a_7429af7f125drow2_col1\" class=\"data row2 col1\" >0.08</td> \n",
       "        <td id=\"T_fff2dbbc_46c1_11e8_ad8a_7429af7f125drow2_col2\" class=\"data row2 col2\" >1.0</td> \n",
       "    </tr></tbody> \n",
       "</table> "
      ],
      "text/plain": [
       "<pandas.io.formats.style.Styler at 0x7f1625eb97b8>"
      ]
     },
     "execution_count": 69,
     "metadata": {},
     "output_type": "execute_result"
    }
   ],
   "source": [
    "# Kendall\n",
    "correlation_finder(KENDALL, data)"
   ]
  },
  {
   "cell_type": "code",
   "execution_count": 70,
   "metadata": {},
   "outputs": [
    {
     "data": {
      "text/html": [
       "<style  type=\"text/css\" >\n",
       "    #T_fff2dbbd_46c1_11e8_ad8a_7429af7f125drow0_col0 {\n",
       "            background-color:  #fc7f00;\n",
       "        }    #T_fff2dbbd_46c1_11e8_ad8a_7429af7f125drow0_col1 {\n",
       "            background-color:  #e4ff7a;\n",
       "        }    #T_fff2dbbd_46c1_11e8_ad8a_7429af7f125drow0_col2 {\n",
       "            background-color:  #ffdf15;\n",
       "        }    #T_fff2dbbd_46c1_11e8_ad8a_7429af7f125drow1_col0 {\n",
       "            background-color:  #e4ff7a;\n",
       "        }    #T_fff2dbbd_46c1_11e8_ad8a_7429af7f125drow1_col1 {\n",
       "            background-color:  #fc7f00;\n",
       "        }    #T_fff2dbbd_46c1_11e8_ad8a_7429af7f125drow1_col2 {\n",
       "            background-color:  #e4ff7a;\n",
       "        }    #T_fff2dbbd_46c1_11e8_ad8a_7429af7f125drow2_col0 {\n",
       "            background-color:  #ffc505;\n",
       "        }    #T_fff2dbbd_46c1_11e8_ad8a_7429af7f125drow2_col1 {\n",
       "            background-color:  #fceb26;\n",
       "        }    #T_fff2dbbd_46c1_11e8_ad8a_7429af7f125drow2_col2 {\n",
       "            background-color:  #fc7f00;\n",
       "        }</style>  \n",
       "<table id=\"T_fff2dbbd_46c1_11e8_ad8a_7429af7f125d\" > \n",
       "<thead>    <tr> \n",
       "        <th class=\"blank level0\" ></th> \n",
       "        <th class=\"col_heading level0 col0\" >Value</th> \n",
       "        <th class=\"col_heading level0 col1\" >Average Precipitation</th> \n",
       "        <th class=\"col_heading level0 col2\" >Average Temperature</th> \n",
       "    </tr></thead> \n",
       "<tbody>    <tr> \n",
       "        <th id=\"T_fff2dbbd_46c1_11e8_ad8a_7429af7f125d\" class=\"row_heading level0 row0\" >Value</th> \n",
       "        <td id=\"T_fff2dbbd_46c1_11e8_ad8a_7429af7f125drow0_col0\" class=\"data row0 col0\" >1.0</td> \n",
       "        <td id=\"T_fff2dbbd_46c1_11e8_ad8a_7429af7f125drow0_col1\" class=\"data row0 col1\" >-0.12</td> \n",
       "        <td id=\"T_fff2dbbd_46c1_11e8_ad8a_7429af7f125drow0_col2\" class=\"data row0 col2\" >0.39</td> \n",
       "    </tr>    <tr> \n",
       "        <th id=\"T_fff2dbbd_46c1_11e8_ad8a_7429af7f125d\" class=\"row_heading level0 row1\" >Average Precipitation</th> \n",
       "        <td id=\"T_fff2dbbd_46c1_11e8_ad8a_7429af7f125drow1_col0\" class=\"data row1 col0\" >-0.12</td> \n",
       "        <td id=\"T_fff2dbbd_46c1_11e8_ad8a_7429af7f125drow1_col1\" class=\"data row1 col1\" >1.0</td> \n",
       "        <td id=\"T_fff2dbbd_46c1_11e8_ad8a_7429af7f125drow1_col2\" class=\"data row1 col2\" >0.12</td> \n",
       "    </tr>    <tr> \n",
       "        <th id=\"T_fff2dbbd_46c1_11e8_ad8a_7429af7f125d\" class=\"row_heading level0 row2\" >Average Temperature</th> \n",
       "        <td id=\"T_fff2dbbd_46c1_11e8_ad8a_7429af7f125drow2_col0\" class=\"data row2 col0\" >0.39</td> \n",
       "        <td id=\"T_fff2dbbd_46c1_11e8_ad8a_7429af7f125drow2_col1\" class=\"data row2 col1\" >0.12</td> \n",
       "        <td id=\"T_fff2dbbd_46c1_11e8_ad8a_7429af7f125drow2_col2\" class=\"data row2 col2\" >1.0</td> \n",
       "    </tr></tbody> \n",
       "</table> "
      ],
      "text/plain": [
       "<pandas.io.formats.style.Styler at 0x7f1625ec96d8>"
      ]
     },
     "execution_count": 70,
     "metadata": {},
     "output_type": "execute_result"
    }
   ],
   "source": [
    "# Spearman\n",
    "correlation_finder(SPEARMAN, data)"
   ]
  },
  {
   "cell_type": "markdown",
   "metadata": {},
   "source": [
    "### Analysis of the correlation between agricultural economic output and climate"
   ]
  },
  {
   "cell_type": "code",
   "execution_count": 71,
   "metadata": {
    "collapsed": true
   },
   "outputs": [],
   "source": [
    "CORE_DATA_PATH = \"file://localhost/home/karuhanga/Documents/MUK_Cmp_Sci/Yr.2/Sm.2/Research_Methodology/Project/Extra_Resources/Data/Output/Agricultural_Economic_Output/\""
   ]
  },
  {
   "cell_type": "markdown",
   "metadata": {},
   "source": [
    "#### Analysis of food and crop economic output"
   ]
  },
  {
   "cell_type": "code",
   "execution_count": 72,
   "metadata": {},
   "outputs": [],
   "source": [
    "# data path\n",
    "data_path = CORE_DATA_PATH + \"food_output_precip_temp(2006-2014).csv\"\n",
    "\n",
    "# read data\n",
    "econ_output_data = read_data(data_path)"
   ]
  },
  {
   "cell_type": "code",
   "execution_count": 73,
   "metadata": {},
   "outputs": [
    {
     "data": {
      "text/html": [
       "<style  type=\"text/css\" >\n",
       "    #T_fff2dbbe_46c1_11e8_ad8a_7429af7f125drow0_col0 {\n",
       "            background-color:  #fc7f00;\n",
       "        }    #T_fff2dbbe_46c1_11e8_ad8a_7429af7f125drow0_col1 {\n",
       "            background-color:  #ffd60f;\n",
       "        }    #T_fff2dbbe_46c1_11e8_ad8a_7429af7f125drow0_col2 {\n",
       "            background-color:  #e4ff7a;\n",
       "        }    #T_fff2dbbe_46c1_11e8_ad8a_7429af7f125drow1_col0 {\n",
       "            background-color:  #ffd00b;\n",
       "        }    #T_fff2dbbe_46c1_11e8_ad8a_7429af7f125drow1_col1 {\n",
       "            background-color:  #fc7f00;\n",
       "        }    #T_fff2dbbe_46c1_11e8_ad8a_7429af7f125drow1_col2 {\n",
       "            background-color:  #eafa65;\n",
       "        }    #T_fff2dbbe_46c1_11e8_ad8a_7429af7f125drow2_col0 {\n",
       "            background-color:  #e4ff7a;\n",
       "        }    #T_fff2dbbe_46c1_11e8_ad8a_7429af7f125drow2_col1 {\n",
       "            background-color:  #e4ff7a;\n",
       "        }    #T_fff2dbbe_46c1_11e8_ad8a_7429af7f125drow2_col2 {\n",
       "            background-color:  #fc7f00;\n",
       "        }</style>  \n",
       "<table id=\"T_fff2dbbe_46c1_11e8_ad8a_7429af7f125d\" > \n",
       "<thead>    <tr> \n",
       "        <th class=\"blank level0\" ></th> \n",
       "        <th class=\"col_heading level0 col0\" >Value</th> \n",
       "        <th class=\"col_heading level0 col1\" >Average Precipitation</th> \n",
       "        <th class=\"col_heading level0 col2\" >Average Temperature</th> \n",
       "    </tr></thead> \n",
       "<tbody>    <tr> \n",
       "        <th id=\"T_fff2dbbe_46c1_11e8_ad8a_7429af7f125d\" class=\"row_heading level0 row0\" >Value</th> \n",
       "        <td id=\"T_fff2dbbe_46c1_11e8_ad8a_7429af7f125drow0_col0\" class=\"data row0 col0\" >1.0</td> \n",
       "        <td id=\"T_fff2dbbe_46c1_11e8_ad8a_7429af7f125drow0_col1\" class=\"data row0 col1\" >0.054</td> \n",
       "        <td id=\"T_fff2dbbe_46c1_11e8_ad8a_7429af7f125drow0_col2\" class=\"data row0 col2\" >-0.55</td> \n",
       "    </tr>    <tr> \n",
       "        <th id=\"T_fff2dbbe_46c1_11e8_ad8a_7429af7f125d\" class=\"row_heading level0 row1\" >Average Precipitation</th> \n",
       "        <td id=\"T_fff2dbbe_46c1_11e8_ad8a_7429af7f125drow1_col0\" class=\"data row1 col0\" >0.054</td> \n",
       "        <td id=\"T_fff2dbbe_46c1_11e8_ad8a_7429af7f125drow1_col1\" class=\"data row1 col1\" >1.0</td> \n",
       "        <td id=\"T_fff2dbbe_46c1_11e8_ad8a_7429af7f125drow1_col2\" class=\"data row1 col2\" >-0.47</td> \n",
       "    </tr>    <tr> \n",
       "        <th id=\"T_fff2dbbe_46c1_11e8_ad8a_7429af7f125d\" class=\"row_heading level0 row2\" >Average Temperature</th> \n",
       "        <td id=\"T_fff2dbbe_46c1_11e8_ad8a_7429af7f125drow2_col0\" class=\"data row2 col0\" >-0.55</td> \n",
       "        <td id=\"T_fff2dbbe_46c1_11e8_ad8a_7429af7f125drow2_col1\" class=\"data row2 col1\" >-0.47</td> \n",
       "        <td id=\"T_fff2dbbe_46c1_11e8_ad8a_7429af7f125drow2_col2\" class=\"data row2 col2\" >1.0</td> \n",
       "    </tr></tbody> \n",
       "</table> "
      ],
      "text/plain": [
       "<pandas.io.formats.style.Styler at 0x7f1625ec9d68>"
      ]
     },
     "execution_count": 73,
     "metadata": {},
     "output_type": "execute_result"
    }
   ],
   "source": [
    "# Pearson\n",
    "correlation_finder(PEARSON, econ_output_data)"
   ]
  },
  {
   "cell_type": "code",
   "execution_count": 74,
   "metadata": {},
   "outputs": [
    {
     "data": {
      "text/html": [
       "<style  type=\"text/css\" >\n",
       "    #T_fff2dbbf_46c1_11e8_ad8a_7429af7f125drow0_col0 {\n",
       "            background-color:  #fc7f00;\n",
       "        }    #T_fff2dbbf_46c1_11e8_ad8a_7429af7f125drow0_col1 {\n",
       "            background-color:  #ffe116;\n",
       "        }    #T_fff2dbbf_46c1_11e8_ad8a_7429af7f125drow0_col2 {\n",
       "            background-color:  #e4ff7a;\n",
       "        }    #T_fff2dbbf_46c1_11e8_ad8a_7429af7f125drow1_col0 {\n",
       "            background-color:  #ffdc13;\n",
       "        }    #T_fff2dbbf_46c1_11e8_ad8a_7429af7f125drow1_col1 {\n",
       "            background-color:  #fc7f00;\n",
       "        }    #T_fff2dbbf_46c1_11e8_ad8a_7429af7f125drow1_col2 {\n",
       "            background-color:  #e8fb6b;\n",
       "        }    #T_fff2dbbf_46c1_11e8_ad8a_7429af7f125drow2_col0 {\n",
       "            background-color:  #e4ff7a;\n",
       "        }    #T_fff2dbbf_46c1_11e8_ad8a_7429af7f125drow2_col1 {\n",
       "            background-color:  #e4ff7a;\n",
       "        }    #T_fff2dbbf_46c1_11e8_ad8a_7429af7f125drow2_col2 {\n",
       "            background-color:  #fc7f00;\n",
       "        }</style>  \n",
       "<table id=\"T_fff2dbbf_46c1_11e8_ad8a_7429af7f125d\" > \n",
       "<thead>    <tr> \n",
       "        <th class=\"blank level0\" ></th> \n",
       "        <th class=\"col_heading level0 col0\" >Value</th> \n",
       "        <th class=\"col_heading level0 col1\" >Average Precipitation</th> \n",
       "        <th class=\"col_heading level0 col2\" >Average Temperature</th> \n",
       "    </tr></thead> \n",
       "<tbody>    <tr> \n",
       "        <th id=\"T_fff2dbbf_46c1_11e8_ad8a_7429af7f125d\" class=\"row_heading level0 row0\" >Value</th> \n",
       "        <td id=\"T_fff2dbbf_46c1_11e8_ad8a_7429af7f125drow0_col0\" class=\"data row0 col0\" >1.0</td> \n",
       "        <td id=\"T_fff2dbbf_46c1_11e8_ad8a_7429af7f125drow0_col1\" class=\"data row0 col1\" >0.056</td> \n",
       "        <td id=\"T_fff2dbbf_46c1_11e8_ad8a_7429af7f125drow0_col2\" class=\"data row0 col2\" >-0.39</td> \n",
       "    </tr>    <tr> \n",
       "        <th id=\"T_fff2dbbf_46c1_11e8_ad8a_7429af7f125d\" class=\"row_heading level0 row1\" >Average Precipitation</th> \n",
       "        <td id=\"T_fff2dbbf_46c1_11e8_ad8a_7429af7f125drow1_col0\" class=\"data row1 col0\" >0.056</td> \n",
       "        <td id=\"T_fff2dbbf_46c1_11e8_ad8a_7429af7f125drow1_col1\" class=\"data row1 col1\" >1.0</td> \n",
       "        <td id=\"T_fff2dbbf_46c1_11e8_ad8a_7429af7f125drow1_col2\" class=\"data row1 col2\" >-0.33</td> \n",
       "    </tr>    <tr> \n",
       "        <th id=\"T_fff2dbbf_46c1_11e8_ad8a_7429af7f125d\" class=\"row_heading level0 row2\" >Average Temperature</th> \n",
       "        <td id=\"T_fff2dbbf_46c1_11e8_ad8a_7429af7f125drow2_col0\" class=\"data row2 col0\" >-0.39</td> \n",
       "        <td id=\"T_fff2dbbf_46c1_11e8_ad8a_7429af7f125drow2_col1\" class=\"data row2 col1\" >-0.33</td> \n",
       "        <td id=\"T_fff2dbbf_46c1_11e8_ad8a_7429af7f125drow2_col2\" class=\"data row2 col2\" >1.0</td> \n",
       "    </tr></tbody> \n",
       "</table> "
      ],
      "text/plain": [
       "<pandas.io.formats.style.Styler at 0x7f1625ec9ef0>"
      ]
     },
     "execution_count": 74,
     "metadata": {},
     "output_type": "execute_result"
    }
   ],
   "source": [
    "# Kendall\n",
    "correlation_finder(KENDALL, econ_output_data)"
   ]
  },
  {
   "cell_type": "code",
   "execution_count": 75,
   "metadata": {},
   "outputs": [
    {
     "data": {
      "text/html": [
       "<style  type=\"text/css\" >\n",
       "    #T_fff2dbc0_46c1_11e8_ad8a_7429af7f125drow0_col0 {\n",
       "            background-color:  #fc7f00;\n",
       "        }    #T_fff2dbc0_46c1_11e8_ad8a_7429af7f125drow0_col1 {\n",
       "            background-color:  #ffd20c;\n",
       "        }    #T_fff2dbc0_46c1_11e8_ad8a_7429af7f125drow0_col2 {\n",
       "            background-color:  #e4ff7a;\n",
       "        }    #T_fff2dbc0_46c1_11e8_ad8a_7429af7f125drow1_col0 {\n",
       "            background-color:  #ffc606;\n",
       "        }    #T_fff2dbc0_46c1_11e8_ad8a_7429af7f125drow1_col1 {\n",
       "            background-color:  #fc7f00;\n",
       "        }    #T_fff2dbc0_46c1_11e8_ad8a_7429af7f125drow1_col2 {\n",
       "            background-color:  #f0f550;\n",
       "        }    #T_fff2dbc0_46c1_11e8_ad8a_7429af7f125drow2_col0 {\n",
       "            background-color:  #e4ff7a;\n",
       "        }    #T_fff2dbc0_46c1_11e8_ad8a_7429af7f125drow2_col1 {\n",
       "            background-color:  #e4ff7a;\n",
       "        }    #T_fff2dbc0_46c1_11e8_ad8a_7429af7f125drow2_col2 {\n",
       "            background-color:  #fc7f00;\n",
       "        }</style>  \n",
       "<table id=\"T_fff2dbc0_46c1_11e8_ad8a_7429af7f125d\" > \n",
       "<thead>    <tr> \n",
       "        <th class=\"blank level0\" ></th> \n",
       "        <th class=\"col_heading level0 col0\" >Value</th> \n",
       "        <th class=\"col_heading level0 col1\" >Average Precipitation</th> \n",
       "        <th class=\"col_heading level0 col2\" >Average Temperature</th> \n",
       "    </tr></thead> \n",
       "<tbody>    <tr> \n",
       "        <th id=\"T_fff2dbc0_46c1_11e8_ad8a_7429af7f125d\" class=\"row_heading level0 row0\" >Value</th> \n",
       "        <td id=\"T_fff2dbc0_46c1_11e8_ad8a_7429af7f125drow0_col0\" class=\"data row0 col0\" >1.0</td> \n",
       "        <td id=\"T_fff2dbc0_46c1_11e8_ad8a_7429af7f125drow0_col1\" class=\"data row0 col1\" >0.1</td> \n",
       "        <td id=\"T_fff2dbc0_46c1_11e8_ad8a_7429af7f125drow0_col2\" class=\"data row0 col2\" >-0.63</td> \n",
       "    </tr>    <tr> \n",
       "        <th id=\"T_fff2dbc0_46c1_11e8_ad8a_7429af7f125d\" class=\"row_heading level0 row1\" >Average Precipitation</th> \n",
       "        <td id=\"T_fff2dbc0_46c1_11e8_ad8a_7429af7f125drow1_col0\" class=\"data row1 col0\" >0.1</td> \n",
       "        <td id=\"T_fff2dbc0_46c1_11e8_ad8a_7429af7f125drow1_col1\" class=\"data row1 col1\" >1.0</td> \n",
       "        <td id=\"T_fff2dbc0_46c1_11e8_ad8a_7429af7f125drow1_col2\" class=\"data row1 col2\" >-0.45</td> \n",
       "    </tr>    <tr> \n",
       "        <th id=\"T_fff2dbc0_46c1_11e8_ad8a_7429af7f125d\" class=\"row_heading level0 row2\" >Average Temperature</th> \n",
       "        <td id=\"T_fff2dbc0_46c1_11e8_ad8a_7429af7f125drow2_col0\" class=\"data row2 col0\" >-0.63</td> \n",
       "        <td id=\"T_fff2dbc0_46c1_11e8_ad8a_7429af7f125drow2_col1\" class=\"data row2 col1\" >-0.45</td> \n",
       "        <td id=\"T_fff2dbc0_46c1_11e8_ad8a_7429af7f125drow2_col2\" class=\"data row2 col2\" >1.0</td> \n",
       "    </tr></tbody> \n",
       "</table> "
      ],
      "text/plain": [
       "<pandas.io.formats.style.Styler at 0x7f1625e5e4e0>"
      ]
     },
     "execution_count": 75,
     "metadata": {},
     "output_type": "execute_result"
    }
   ],
   "source": [
    "# Spearman\n",
    "correlation_finder(SPEARMAN, econ_output_data)"
   ]
  },
  {
   "cell_type": "markdown",
   "metadata": {},
   "source": [
    "#### Analysis of food and crop economic output"
   ]
  },
  {
   "cell_type": "code",
   "execution_count": 76,
   "metadata": {
    "collapsed": true
   },
   "outputs": [],
   "source": [
    "# data path\n",
    "data_path = CORE_DATA_PATH + \"cattle_export_precip_temp(2004-2013).csv\"\n",
    "\n",
    "# read data\n",
    "econ_output_data = read_data(data_path)"
   ]
  },
  {
   "cell_type": "code",
   "execution_count": 77,
   "metadata": {},
   "outputs": [
    {
     "data": {
      "text/html": [
       "<style  type=\"text/css\" >\n",
       "    #T_0114534a_46c2_11e8_ad8a_7429af7f125drow0_col0 {\n",
       "            background-color:  #fc7f00;\n",
       "        }    #T_0114534a_46c2_11e8_ad8a_7429af7f125drow0_col1 {\n",
       "            background-color:  #ffd811;\n",
       "        }    #T_0114534a_46c2_11e8_ad8a_7429af7f125drow0_col2 {\n",
       "            background-color:  #ffde14;\n",
       "        }    #T_0114534a_46c2_11e8_ad8a_7429af7f125drow1_col0 {\n",
       "            background-color:  #e9fb68;\n",
       "        }    #T_0114534a_46c2_11e8_ad8a_7429af7f125drow1_col1 {\n",
       "            background-color:  #fc7f00;\n",
       "        }    #T_0114534a_46c2_11e8_ad8a_7429af7f125drow1_col2 {\n",
       "            background-color:  #e4ff7a;\n",
       "        }    #T_0114534a_46c2_11e8_ad8a_7429af7f125drow2_col0 {\n",
       "            background-color:  #e4ff7a;\n",
       "        }    #T_0114534a_46c2_11e8_ad8a_7429af7f125drow2_col1 {\n",
       "            background-color:  #e4ff7a;\n",
       "        }    #T_0114534a_46c2_11e8_ad8a_7429af7f125drow2_col2 {\n",
       "            background-color:  #fc7f00;\n",
       "        }</style>  \n",
       "<table id=\"T_0114534a_46c2_11e8_ad8a_7429af7f125d\" > \n",
       "<thead>    <tr> \n",
       "        <th class=\"blank level0\" ></th> \n",
       "        <th class=\"col_heading level0 col0\" >Value</th> \n",
       "        <th class=\"col_heading level0 col1\" >Average Precipitation</th> \n",
       "        <th class=\"col_heading level0 col2\" >Average Temperature</th> \n",
       "    </tr></thead> \n",
       "<tbody>    <tr> \n",
       "        <th id=\"T_0114534a_46c2_11e8_ad8a_7429af7f125d\" class=\"row_heading level0 row0\" >Value</th> \n",
       "        <td id=\"T_0114534a_46c2_11e8_ad8a_7429af7f125drow0_col0\" class=\"data row0 col0\" >1.0</td> \n",
       "        <td id=\"T_0114534a_46c2_11e8_ad8a_7429af7f125drow0_col1\" class=\"data row0 col1\" >0.065</td> \n",
       "        <td id=\"T_0114534a_46c2_11e8_ad8a_7429af7f125drow0_col2\" class=\"data row0 col2\" >0.019</td> \n",
       "    </tr>    <tr> \n",
       "        <th id=\"T_0114534a_46c2_11e8_ad8a_7429af7f125d\" class=\"row_heading level0 row1\" >Average Precipitation</th> \n",
       "        <td id=\"T_0114534a_46c2_11e8_ad8a_7429af7f125drow1_col0\" class=\"data row1 col0\" >0.065</td> \n",
       "        <td id=\"T_0114534a_46c2_11e8_ad8a_7429af7f125drow1_col1\" class=\"data row1 col1\" >1.0</td> \n",
       "        <td id=\"T_0114534a_46c2_11e8_ad8a_7429af7f125drow1_col2\" class=\"data row1 col2\" >-0.42</td> \n",
       "    </tr>    <tr> \n",
       "        <th id=\"T_0114534a_46c2_11e8_ad8a_7429af7f125d\" class=\"row_heading level0 row2\" >Average Temperature</th> \n",
       "        <td id=\"T_0114534a_46c2_11e8_ad8a_7429af7f125drow2_col0\" class=\"data row2 col0\" >0.019</td> \n",
       "        <td id=\"T_0114534a_46c2_11e8_ad8a_7429af7f125drow2_col1\" class=\"data row2 col1\" >-0.42</td> \n",
       "        <td id=\"T_0114534a_46c2_11e8_ad8a_7429af7f125drow2_col2\" class=\"data row2 col2\" >1.0</td> \n",
       "    </tr></tbody> \n",
       "</table> "
      ],
      "text/plain": [
       "<pandas.io.formats.style.Styler at 0x7f1625e5e780>"
      ]
     },
     "execution_count": 77,
     "metadata": {},
     "output_type": "execute_result"
    }
   ],
   "source": [
    "# Pearson\n",
    "correlation_finder(PEARSON, econ_output_data)"
   ]
  },
  {
   "cell_type": "code",
   "execution_count": 78,
   "metadata": {},
   "outputs": [
    {
     "data": {
      "text/html": [
       "<style  type=\"text/css\" >\n",
       "    #T_0114534b_46c2_11e8_ad8a_7429af7f125drow0_col0 {\n",
       "            background-color:  #fc7f00;\n",
       "        }    #T_0114534b_46c2_11e8_ad8a_7429af7f125drow0_col1 {\n",
       "            background-color:  #faec2c;\n",
       "        }    #T_0114534b_46c2_11e8_ad8a_7429af7f125drow0_col2 {\n",
       "            background-color:  #f7ef38;\n",
       "        }    #T_0114534b_46c2_11e8_ad8a_7429af7f125drow1_col0 {\n",
       "            background-color:  #e8fb6b;\n",
       "        }    #T_0114534b_46c2_11e8_ad8a_7429af7f125drow1_col1 {\n",
       "            background-color:  #fc7f00;\n",
       "        }    #T_0114534b_46c2_11e8_ad8a_7429af7f125drow1_col2 {\n",
       "            background-color:  #e4ff7a;\n",
       "        }    #T_0114534b_46c2_11e8_ad8a_7429af7f125drow2_col0 {\n",
       "            background-color:  #e4ff7a;\n",
       "        }    #T_0114534b_46c2_11e8_ad8a_7429af7f125drow2_col1 {\n",
       "            background-color:  #e4ff7a;\n",
       "        }    #T_0114534b_46c2_11e8_ad8a_7429af7f125drow2_col2 {\n",
       "            background-color:  #fc7f00;\n",
       "        }</style>  \n",
       "<table id=\"T_0114534b_46c2_11e8_ad8a_7429af7f125d\" > \n",
       "<thead>    <tr> \n",
       "        <th class=\"blank level0\" ></th> \n",
       "        <th class=\"col_heading level0 col0\" >Value</th> \n",
       "        <th class=\"col_heading level0 col1\" >Average Precipitation</th> \n",
       "        <th class=\"col_heading level0 col2\" >Average Temperature</th> \n",
       "    </tr></thead> \n",
       "<tbody>    <tr> \n",
       "        <th id=\"T_0114534b_46c2_11e8_ad8a_7429af7f125d\" class=\"row_heading level0 row0\" >Value</th> \n",
       "        <td id=\"T_0114534b_46c2_11e8_ad8a_7429af7f125drow0_col0\" class=\"data row0 col0\" >1.0</td> \n",
       "        <td id=\"T_0114534b_46c2_11e8_ad8a_7429af7f125drow0_col1\" class=\"data row0 col1\" >-0.022</td> \n",
       "        <td id=\"T_0114534b_46c2_11e8_ad8a_7429af7f125drow0_col2\" class=\"data row0 col2\" >-0.067</td> \n",
       "    </tr>    <tr> \n",
       "        <th id=\"T_0114534b_46c2_11e8_ad8a_7429af7f125d\" class=\"row_heading level0 row1\" >Average Precipitation</th> \n",
       "        <td id=\"T_0114534b_46c2_11e8_ad8a_7429af7f125drow1_col0\" class=\"data row1 col0\" >-0.022</td> \n",
       "        <td id=\"T_0114534b_46c2_11e8_ad8a_7429af7f125drow1_col1\" class=\"data row1 col1\" >1.0</td> \n",
       "        <td id=\"T_0114534b_46c2_11e8_ad8a_7429af7f125drow1_col2\" class=\"data row1 col2\" >-0.29</td> \n",
       "    </tr>    <tr> \n",
       "        <th id=\"T_0114534b_46c2_11e8_ad8a_7429af7f125d\" class=\"row_heading level0 row2\" >Average Temperature</th> \n",
       "        <td id=\"T_0114534b_46c2_11e8_ad8a_7429af7f125drow2_col0\" class=\"data row2 col0\" >-0.067</td> \n",
       "        <td id=\"T_0114534b_46c2_11e8_ad8a_7429af7f125drow2_col1\" class=\"data row2 col1\" >-0.29</td> \n",
       "        <td id=\"T_0114534b_46c2_11e8_ad8a_7429af7f125drow2_col2\" class=\"data row2 col2\" >1.0</td> \n",
       "    </tr></tbody> \n",
       "</table> "
      ],
      "text/plain": [
       "<pandas.io.formats.style.Styler at 0x7f1625e5ecc0>"
      ]
     },
     "execution_count": 78,
     "metadata": {},
     "output_type": "execute_result"
    }
   ],
   "source": [
    "# Kendall\n",
    "correlation_finder(KENDALL, econ_output_data)"
   ]
  },
  {
   "cell_type": "code",
   "execution_count": 79,
   "metadata": {},
   "outputs": [
    {
     "data": {
      "text/html": [
       "<style  type=\"text/css\" >\n",
       "    #T_0114534c_46c2_11e8_ad8a_7429af7f125drow0_col0 {\n",
       "            background-color:  #fc7f00;\n",
       "        }    #T_0114534c_46c2_11e8_ad8a_7429af7f125drow0_col1 {\n",
       "            background-color:  #ffe417;\n",
       "        }    #T_0114534c_46c2_11e8_ad8a_7429af7f125drow0_col2 {\n",
       "            background-color:  #f9ed30;\n",
       "        }    #T_0114534c_46c2_11e8_ad8a_7429af7f125drow1_col0 {\n",
       "            background-color:  #eff654;\n",
       "        }    #T_0114534c_46c2_11e8_ad8a_7429af7f125drow1_col1 {\n",
       "            background-color:  #fc7f00;\n",
       "        }    #T_0114534c_46c2_11e8_ad8a_7429af7f125drow1_col2 {\n",
       "            background-color:  #e4ff7a;\n",
       "        }    #T_0114534c_46c2_11e8_ad8a_7429af7f125drow2_col0 {\n",
       "            background-color:  #e4ff7a;\n",
       "        }    #T_0114534c_46c2_11e8_ad8a_7429af7f125drow2_col1 {\n",
       "            background-color:  #e4ff7a;\n",
       "        }    #T_0114534c_46c2_11e8_ad8a_7429af7f125drow2_col2 {\n",
       "            background-color:  #fc7f00;\n",
       "        }</style>  \n",
       "<table id=\"T_0114534c_46c2_11e8_ad8a_7429af7f125d\" > \n",
       "<thead>    <tr> \n",
       "        <th class=\"blank level0\" ></th> \n",
       "        <th class=\"col_heading level0 col0\" >Value</th> \n",
       "        <th class=\"col_heading level0 col1\" >Average Precipitation</th> \n",
       "        <th class=\"col_heading level0 col2\" >Average Temperature</th> \n",
       "    </tr></thead> \n",
       "<tbody>    <tr> \n",
       "        <th id=\"T_0114534c_46c2_11e8_ad8a_7429af7f125d\" class=\"row_heading level0 row0\" >Value</th> \n",
       "        <td id=\"T_0114534c_46c2_11e8_ad8a_7429af7f125drow0_col0\" class=\"data row0 col0\" >1.0</td> \n",
       "        <td id=\"T_0114534c_46c2_11e8_ad8a_7429af7f125drow0_col1\" class=\"data row0 col1\" >0.0061</td> \n",
       "        <td id=\"T_0114534c_46c2_11e8_ad8a_7429af7f125drow0_col2\" class=\"data row0 col2\" >-0.1</td> \n",
       "    </tr>    <tr> \n",
       "        <th id=\"T_0114534c_46c2_11e8_ad8a_7429af7f125d\" class=\"row_heading level0 row1\" >Average Precipitation</th> \n",
       "        <td id=\"T_0114534c_46c2_11e8_ad8a_7429af7f125drow1_col0\" class=\"data row1 col0\" >0.0061</td> \n",
       "        <td id=\"T_0114534c_46c2_11e8_ad8a_7429af7f125drow1_col1\" class=\"data row1 col1\" >1.0</td> \n",
       "        <td id=\"T_0114534c_46c2_11e8_ad8a_7429af7f125drow1_col2\" class=\"data row1 col2\" >-0.37</td> \n",
       "    </tr>    <tr> \n",
       "        <th id=\"T_0114534c_46c2_11e8_ad8a_7429af7f125d\" class=\"row_heading level0 row2\" >Average Temperature</th> \n",
       "        <td id=\"T_0114534c_46c2_11e8_ad8a_7429af7f125drow2_col0\" class=\"data row2 col0\" >-0.1</td> \n",
       "        <td id=\"T_0114534c_46c2_11e8_ad8a_7429af7f125drow2_col1\" class=\"data row2 col1\" >-0.37</td> \n",
       "        <td id=\"T_0114534c_46c2_11e8_ad8a_7429af7f125drow2_col2\" class=\"data row2 col2\" >1.0</td> \n",
       "    </tr></tbody> \n",
       "</table> "
      ],
      "text/plain": [
       "<pandas.io.formats.style.Styler at 0x7f1625f4cef0>"
      ]
     },
     "execution_count": 79,
     "metadata": {},
     "output_type": "execute_result"
    }
   ],
   "source": [
    "# Spearman\n",
    "correlation_finder(SPEARMAN, econ_output_data)"
   ]
  },
  {
   "cell_type": "markdown",
   "metadata": {},
   "source": [
    "# Conclusion and Discussion\n",
    "\n",
    "\n",
    "\n",
    "# Appendix"
   ]
  },
  {
   "cell_type": "markdown",
   "metadata": {},
   "source": [
    "## References"
   ]
  },
  {
   "cell_type": "markdown",
   "metadata": {
    "collapsed": true
   },
   "source": [
    "**Previous Studies**\n",
    "* <a name=\"Ref1\"><sup>[1]</sup></a> The Climate and Development Knowledge Network (CDKN): https://cdkn.org/project/economic-assessment-of-the-impacts-of-climate-change-in-uganda/?loclang=en_gb\n",
    "\n",
    " \n",
    "* <a name=\"Ref2\"><sup>[2]</sup></a> Relief Web International: https://reliefweb.int/report/uganda/impacts-climate-change-food-security-and-livelihoods-karamoja\n",
    "\n",
    " \n",
    "**Statistical Methods**\n",
    "* <a name=\"Ref3\"><sup>[3]</sup></a> Research Methodology- Methods and Techniques, 2ed- 2004, C.R. Kothari, ISBN(13): 978-81-224-2488-1\n",
    "\n",
    " \n",
    "* <a name=\"Ref4\"><sup>[4]</sup></a> Kendall's Rank Correlation Coefficient: https://www.statisticssolutions.com/kendalls-tau-and-spearmans-rank-correlation-coefficient/\n",
    "\n",
    " \n",
    "* <a name=\"Ref5\"><sup>[5]</sup></a> Data Correlation Primer http://benalexkeen.com/correlation-in-python/\n",
    "\n",
    " \n",
    "* <a name=\"Ref6\"><sup>[6]</sup></a> Data Correlation Primer https://www.datascience.com/learn-data-science/fundamentals/introduction-to-correlation-python-data-science\n",
    "\n",
    " \n",
    "**Data Sources**\n",
    "\n",
    "* <a name=\"Ref7\"><sup>[7]</sup></a> Country Stat Uganda http://countrystat.org/home.aspx?c=UGA&ta=226CPD010&tr=7\n",
    "\n",
    " \n",
    "* <a name=\"Ref7\"><sup>[8]</sup></a> Data.ug http://data.ug\n",
    "\n",
    " \n",
    "* <a name=\"Ref7\"><sup>[9]</sup></a> Uganda Bureau of Statistics https://ubos.org\n",
    "\n",
    " \n",
    "* <a name=\"Ref7\"><sup>[10]</sup></a> The World Bank http://sdwebx.worldbank.org/climateportal/index.cfm?page=downscaled_data_download&menu=historical"
   ]
  },
  {
   "cell_type": "code",
   "execution_count": null,
   "metadata": {
    "collapsed": true
   },
   "outputs": [],
   "source": []
  }
 ],
 "metadata": {
  "kernelspec": {
   "display_name": "Python 3",
   "language": "python",
   "name": "python3"
  },
  "language_info": {
   "codemirror_mode": {
    "name": "ipython",
    "version": 3
   },
   "file_extension": ".py",
   "mimetype": "text/x-python",
   "name": "python",
   "nbconvert_exporter": "python",
   "pygments_lexer": "ipython3",
   "version": "3.6.1"
  }
 },
 "nbformat": 4,
 "nbformat_minor": 2
}
